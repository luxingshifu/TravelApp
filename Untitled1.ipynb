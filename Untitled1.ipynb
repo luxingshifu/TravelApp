{
 "cells": [
  {
   "cell_type": "code",
   "execution_count": 3,
   "metadata": {},
   "outputs": [
    {
     "name": "stderr",
     "output_type": "stream",
     "text": [
      "/Users/williamcottrell72/anaconda3/lib/python3.6/site-packages/google/auth/_default.py:66: UserWarning: Your application has authenticated using end user credentials from Google Cloud SDK. We recommend that most server applications use service accounts instead. If your application continues to use end user credentials from Cloud SDK, you might receive a \"quota exceeded\" or \"API not enabled\" error. For more information about service accounts, see https://cloud.google.com/docs/authentication/.\n",
      "  warnings.warn(_CLOUD_SDK_CREDENTIALS_WARNING)\n"
     ]
    }
   ],
   "source": [
    "import recommender"
   ]
  },
  {
   "cell_type": "code",
   "execution_count": 5,
   "metadata": {},
   "outputs": [
    {
     "data": {
      "text/plain": [
       "[[\"Spa J'Adore\", 0.7328017950057983],\n",
       " ['The Gregangelo Museum', 0.5000001905412643],\n",
       " ['Exploratorium', 0.40000075492267273],\n",
       " ['500 Capp Street Foundation', 0.40000032574757705],\n",
       " ['San Francisco Art Exchange', 0.39999964089704343],\n",
       " ['Candlestick RV Park', 0.3490890860557556],\n",
       " ['Romer Young Gallery', 0.30000090130094764],\n",
       " ['Art for Children at the de Young Museum', 0.30000035413626625],\n",
       " ['Randall Museum', 0.3000002366825857],\n",
       " ['Camera Obscura', 0.300000179285823],\n",
       " ['Museum of Craft and Folk Art', 0.30000014318968515],\n",
       " ['The Mexican Museum', 0.30000005929274953],\n",
       " ['Chinese United Methodist Church', 0.3000000028009859],\n",
       " ['Presidio Chapel', 0.29999999874346356],\n",
       " ['USS Pampanito', 0.2999999739612898],\n",
       " ['San Francisco Camerawork', 0.2999999056393893],\n",
       " ['Cartoon Art Museum', 0.29999987467550715],\n",
       " ['Pacific Heritage Museum of San Francisco', 0.2999997690559656],\n",
       " ['Museum of the African Diaspora', 0.29999966170398507],\n",
       " ['War Memorial Opera House', 0.23246722448777576]]"
      ]
     },
     "execution_count": 5,
     "metadata": {},
     "output_type": "execute_result"
    }
   ],
   "source": [
    "preferences=[3,4,90000000,1]\n",
    "recommender.preferences_to_placescores(preferences,num_results=20,weight=.01)"
   ]
  },
  {
   "cell_type": "code",
   "execution_count": null,
   "metadata": {},
   "outputs": [],
   "source": []
  }
 ],
 "metadata": {
  "kernelspec": {
   "display_name": "Python 3",
   "language": "python",
   "name": "python3"
  },
  "language_info": {
   "codemirror_mode": {
    "name": "ipython",
    "version": 3
   },
   "file_extension": ".py",
   "mimetype": "text/x-python",
   "name": "python",
   "nbconvert_exporter": "python",
   "pygments_lexer": "ipython3",
   "version": "3.6.5"
  }
 },
 "nbformat": 4,
 "nbformat_minor": 2
}
