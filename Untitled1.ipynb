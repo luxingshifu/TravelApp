{
 "cells": [
  {
   "cell_type": "code",
   "execution_count": 7,
   "metadata": {},
   "outputs": [],
   "source": [
    "import recommender"
   ]
  },
  {
   "cell_type": "code",
   "execution_count": 9,
   "metadata": {},
   "outputs": [
    {
     "data": {
      "text/plain": [
       "[['24-Hour Bike Rental in San Francisco', 0.2110210657119751],\n",
       " ['Days Inn by Wyndham San Francisco - Lombard', 0.18689393997192383],\n",
       " ['Twin Peaks', 0.18275901357863344],\n",
       " ['The Embarcadero', 0.16551760856230194],\n",
       " ['The Barrel Room', 0.16520944237709045],\n",
       " ['War Memorial Opera House', 0.1594435708404615],\n",
       " ['South Bay', 0.1586208519837195],\n",
       " ['The San Francisco Mead Company', 0.15517257796285147],\n",
       " ['Winery Collective', 0.14126415781933688],\n",
       " ['Haight-Ashbury', 0.13793160176734595],\n",
       " ['Hayes Valley', 0.13793128437390287],\n",
       " ['Alcatraz Island', 0.13793105235664235],\n",
       " ['Telegraph Hill', 0.1345064434507016],\n",
       " ['The Gregangelo Museum', 0.13448291110871718],\n",
       " ['Coit Tower', 0.13103436891531436],\n",
       " ['500 Capp Street Foundation', 0.1310343458341365],\n",
       " ['San Francisco Art Exchange', 0.13103400581039046],\n",
       " [\"Pacific Palisades Farmer's Market\", 0.12758629850273392],\n",
       " ['Chinese United Methodist Church', 0.12758627860727442],\n",
       " ['Presidio Chapel', 0.12758627369143424]]"
      ]
     },
     "execution_count": 9,
     "metadata": {},
     "output_type": "execute_result"
    }
   ],
   "source": [
    "preferences=[8,4,7,10]\n",
    "recommender.preferences_to_placescores(preferences,num_results=20,weight=.01)"
   ]
  },
  {
   "cell_type": "code",
   "execution_count": null,
   "metadata": {},
   "outputs": [],
   "source": []
  }
 ],
 "metadata": {
  "kernelspec": {
   "display_name": "Python 3",
   "language": "python",
   "name": "python3"
  },
  "language_info": {
   "codemirror_mode": {
    "name": "ipython",
    "version": 3
   },
   "file_extension": ".py",
   "mimetype": "text/x-python",
   "name": "python",
   "nbconvert_exporter": "python",
   "pygments_lexer": "ipython3",
   "version": "3.6.5"
  }
 },
 "nbformat": 4,
 "nbformat_minor": 2
}
