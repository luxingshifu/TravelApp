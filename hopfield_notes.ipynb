{
 "cells": [
  {
   "cell_type": "code",
   "execution_count": 1,
   "metadata": {},
   "outputs": [],
   "source": [
    "import numpy as np\n",
    "import matplotlib.pyplot as plt\n",
    "%matplotlib inline"
   ]
  },
  {
   "cell_type": "code",
   "execution_count": 69,
   "metadata": {},
   "outputs": [],
   "source": [
    "n=3\n",
    "eta=1\n",
    "eps=.01\n",
    "C1=np.random.randn(n,n)\n",
    "C=np.abs(C1-C1.transpose())\n",
    "U=np.random.randn(n,n)"
   ]
  },
  {
   "cell_type": "code",
   "execution_count": 30,
   "metadata": {},
   "outputs": [
    {
     "data": {
      "text/plain": [
       "array([[0.        , 0.36575022, 0.91836372],\n",
       "       [0.36575022, 0.        , 0.04102469],\n",
       "       [0.91836372, 0.04102469, 0.        ]])"
      ]
     },
     "execution_count": 30,
     "metadata": {},
     "output_type": "execute_result"
    }
   ],
   "source": []
  },
  {
   "cell_type": "code",
   "execution_count": 68,
   "metadata": {},
   "outputs": [],
   "source": [
    "def g(U):\n",
    "    return 1/(1+np.exp(-U))\n",
    "\n",
    "def g_inv(x):\n",
    "    return np.log(x/(1-x))\n",
    "\n",
    "def theta(n):\n",
    "    return 2*np.ones([n,n])\n",
    "\n",
    "def diag(U):\n",
    "    n=len(U)\n",
    "    newU=[]\n",
    "    for i in range(n):\n",
    "        for j in range(n):\n",
    "            if i==j:\n",
    "                newU.append(U[i][j])\n",
    "            else:\n",
    "                newU.append(0)\n",
    "    return np.array(newU).reshape(n,n)\n",
    "\n",
    "def constraint(x):\n",
    "    col=sum(x)\n",
    "    row=sum(x.transpose())\n",
    "    col_arr=np.vstack([col for _ in range(len(x))])\n",
    "    row_arr=np.vstack([row for _ in range(len(x))])\n",
    "    return col_arr+row_arr - theta(len(x))"
   ]
  },
  {
   "cell_type": "code",
   "execution_count": 54,
   "metadata": {},
   "outputs": [],
   "source": [
    "def timestep(U,C,eta,kd,t,eps):\n",
    "    n=len(U)\n",
    "    cons=constraint(g(U))\n",
    "    con=sum(sum(cons))\n",
    "    return U-eps*(eta*cons-C*np.exp(-t)-kd*diag(U)),con\n",
    "\n",
    "def evolve(U,C,eta,kd,N,eps):\n",
    "    \n",
    "    t=0\n",
    "    cons=[]\n",
    "    for i in range(N):\n",
    "\n",
    "        U=timestep(U,C,eta,kd,t,eps)[0]\n",
    "        con=timestep(U,C,eta,kd,t,eps)[1]\n",
    "        cons.append(con)\n",
    "        t+=eps\n",
    "    return g(U),cons"
   ]
  },
  {
   "cell_type": "code",
   "execution_count": 55,
   "metadata": {},
   "outputs": [],
   "source": [
    "def mth_biggest(U,m):\n",
    "    return sorted(U.reshape(-1),reverse=True)[m-1]\n",
    "\n",
    "def index_mth(U,m):\n",
    "    ind=list(U.reshape(-1)).index(mth_biggest(U,m))\n",
    "    i=ind//len(U)\n",
    "    j=ind%len(U)\n",
    "    return i,j\n",
    "\n",
    "def get_xbar(U,m):\n",
    "    i,j=index_mth(U,m)\n",
    "    x1=0\n",
    "    x2=0\n",
    "    for k in range(len(U)):\n",
    "        x1+=U[i,k]\n",
    "        x2+=U[k,j]\n",
    "    return (x1+x2)/2"
   ]
  },
  {
   "cell_type": "code",
   "execution_count": 64,
   "metadata": {},
   "outputs": [],
   "source": [
    "\n",
    "#wta = 'winner takes all'\n",
    "\n",
    "def wta(U,m):\n",
    "    Uwta=[]\n",
    "    a,b=index_mth(U,m)\n",
    "    for i in range(len(U)):\n",
    "        row=[]\n",
    "        for j in range(len(U)):\n",
    "            if i==a and j==b:\n",
    "                row.append(get_xbar(U,m))\n",
    "            elif i==a and j!=b:\n",
    "                row.append(0)\n",
    "            elif i!=a and j==b:\n",
    "                row.append(0)\n",
    "            else:\n",
    "                row.append(U[i,j])\n",
    "        Uwta.append(row)\n",
    "    return np.array(Uwta)\n",
    "        \n",
    "    \n",
    "def wta_full(U):\n",
    "    for m in range(1,len(U)+1):\n",
    "        U=wta(U,m)\n",
    "    return U"
   ]
  },
  {
   "cell_type": "code",
   "execution_count": 70,
   "metadata": {},
   "outputs": [],
   "source": [
    "x_fin,con=evolve(U,C,eta,0,10003,.01)"
   ]
  },
  {
   "cell_type": "code",
   "execution_count": 71,
   "metadata": {},
   "outputs": [
    {
     "data": {
      "image/png": "[encoded data removed]",
      "text/plain": [
       "<Figure size 432x288 with 1 Axes>"
      ]
     },
     "metadata": {},
     "output_type": "display_data"
    }
   ],
   "source": [
    "plt.scatter(range(len(con)),con)\n",
    "plt.ylim(-10,10)\n",
    "plt.xlim(0,2000)\n",
    "plt.show()"
   ]
  },
  {
   "cell_type": "code",
   "execution_count": 63,
   "metadata": {},
   "outputs": [
    {
     "data": {
      "text/plain": [
       "7.327471962526033e-15"
      ]
     },
     "execution_count": 63,
     "metadata": {},
     "output_type": "execute_result"
    }
   ],
   "source": [
    "sum(sum(constraint(x_fin)))"
   ]
  },
  {
   "cell_type": "code",
   "execution_count": 72,
   "metadata": {},
   "outputs": [
    {
     "data": {
      "text/plain": [
       "array([[0.        , 0.        , 0.29632121],\n",
       "       [0.89451199, 0.        , 0.        ],\n",
       "       [0.        , 1.09765141, 0.        ]])"
      ]
     },
     "execution_count": 72,
     "metadata": {},
     "output_type": "execute_result"
    }
   ],
   "source": [
    "wta_full(x_fin)"
   ]
  },
  {
   "cell_type": "code",
   "execution_count": null,
   "metadata": {},
   "outputs": [],
   "source": []
  }
 ],
 "metadata": {
  "kernelspec": {
   "display_name": "Python 3",
   "language": "python",
   "name": "python3"
  },
  "language_info": {
   "codemirror_mode": {
    "name": "ipython",
    "version": 3
   },
   "file_extension": ".py",
   "mimetype": "text/x-python",
   "name": "python",
   "nbconvert_exporter": "python",
   "pygments_lexer": "ipython3",
   "version": "3.6.5"
  }
 },
 "nbformat": 4,
 "nbformat_minor": 2
}
