{
 "cells": [
  {
   "cell_type": "code",
   "execution_count": 1,
   "metadata": {
    "ExecuteTime": {
     "end_time": "2018-09-19T21:37:06.764285Z",
     "start_time": "2018-09-19T21:37:06.762053Z"
    }
   },
   "outputs": [],
   "source": [
    "import pickle as pkl"
   ]
  },
  {
   "cell_type": "code",
   "execution_count": 21,
   "metadata": {
    "ExecuteTime": {
     "end_time": "2018-09-19T23:37:15.215299Z",
     "start_time": "2018-09-19T23:37:15.211443Z"
    }
   },
   "outputs": [],
   "source": [
    "dct=pkl.load(open('important_items.pkl','rb'))"
   ]
  },
  {
   "cell_type": "code",
   "execution_count": 24,
   "metadata": {
    "ExecuteTime": {
     "end_time": "2018-09-19T23:39:41.327528Z",
     "start_time": "2018-09-19T23:39:41.325006Z"
    }
   },
   "outputs": [],
   "source": [
    "new_dct={}\n",
    "\n",
    "for k in dct[0].keys():\n",
    "    vals=dct[0][k]\n",
    "    for val in vals:\n",
    "        new_dct[val]=k\n",
    "    "
   ]
  },
  {
   "cell_type": "code",
   "execution_count": 27,
   "metadata": {
    "ExecuteTime": {
     "end_time": "2018-09-19T23:41:57.242875Z",
     "start_time": "2018-09-19T23:41:57.238999Z"
    }
   },
   "outputs": [
    {
     "data": {
      "text/plain": [
       "{'Poeme de la Vigne': 'Golden Gate Park',\n",
       " 'Ulysses Simpson Grant Memorial': 'Golden Gate Park',\n",
       " 'Walter S. Johnson Park': 'Palace of Fine Arts Theatre',\n",
       " 'Holocaust Memorial at California Palace of the Legion of Hono': 'Legion of Honor',\n",
       " 'Eadweard Muybridge': 'San Francisco Museum of Modern Art (SFMOMA)',\n",
       " 'Light Cannons': 'Ferry Building Marketplace',\n",
       " 'Art for Children at the de Young Museum': 'de Young Museum',\n",
       " 'Square-Rigged Sailing Ship Balclutha': 'San Francisco Maritime National Historical Park',\n",
       " 'The Bay Lights': 'San Francisco Bay Bridge',\n",
       " 'Mision San Francisco de Asis': 'Mission Dolores',\n",
       " 'Ghirardelli Building': 'Ghirardelli Square',\n",
       " \"Andrea's Fountain\": 'Ghirardelli Square',\n",
       " 'Haight-Ashbury Clock': 'Haight-Ashbury',\n",
       " 'Historic Streetcars': 'San Francisco Railway Museum',\n",
       " 'San Francisco Water Taxi': 'Port of San Francisco',\n",
       " 'Stein Family Wines': 'Winery Collective',\n",
       " 'Un-Scripted Theater Company': 'Custom Made Theatre',\n",
       " 'Museum of Craft and Folk Art': 'Museum of Craft and Design',\n",
       " 'Yerba Buena Island Vista Point': 'Yerba Buena Island',\n",
       " 'Gallery of Ethnic Art': 'Images of the North',\n",
       " 'Telephone Pioneers Communication Museum': 'Society of California Pioneers',\n",
       " 'San Francisco African American Historical & Cultural Society': 'African American Art &Culture Complex',\n",
       " 'First American Flag Raising in San Francisco': 'Portsmouth Square',\n",
       " 'Bank of Italy building': \"Banker's Heart\",\n",
       " 'United Nations Plaza': 'UN Plaza Fountain',\n",
       " \"America's Rock Stars Mural\": 'Bowie/Lemmy/Prince Mural'}"
      ]
     },
     "execution_count": 27,
     "metadata": {},
     "output_type": "execute_result"
    }
   ],
   "source": [
    "new_dct"
   ]
  },
  {
   "cell_type": "code",
   "execution_count": 26,
   "metadata": {
    "ExecuteTime": {
     "end_time": "2018-09-19T23:40:38.083886Z",
     "start_time": "2018-09-19T23:40:38.079886Z"
    }
   },
   "outputs": [],
   "source": [
    "with open('proxy_dct.pkl','wb') as f:\n",
    "    pkl.dump(new_dct,f)"
   ]
  },
  {
   "cell_type": "code",
   "execution_count": 3,
   "metadata": {
    "ExecuteTime": {
     "end_time": "2018-09-19T21:38:38.949903Z",
     "start_time": "2018-09-19T21:38:38.938930Z"
    }
   },
   "outputs": [],
   "source": [
    "with open('real_data_files/final_attractions_dict.pkl','rb') as f:\n",
    "    fad=pkl.load(f)"
   ]
  },
  {
   "cell_type": "code",
   "execution_count": 15,
   "metadata": {
    "ExecuteTime": {
     "end_time": "2018-09-19T21:55:47.173478Z",
     "start_time": "2018-09-19T21:55:47.169882Z"
    }
   },
   "outputs": [
    {
     "data": {
      "text/plain": [
       "'CmRaAAAAGFOtni2CrmwdbEEn1p8mI0hClEpOIk46DkNthSRHDWZtMW7EwXIEcvbtxtT62iO0XhUExjEjKXd6P59Wfo-AuiCI5EUu5MAvbc4b5rYOP1nqofONBkMPv21w_hjGehGZEhAg28kGgq9ABSCvXZDUu0iGGhQmyGJZwj7BCXB6UFA0Qnf6n8ZJxg'"
      ]
     },
     "execution_count": 15,
     "metadata": {},
     "output_type": "execute_result"
    }
   ],
   "source": [
    "fad['Golden Gate Bridge'][0]['photos'][0]['photo_reference']"
   ]
  },
  {
   "cell_type": "code",
   "execution_count": null,
   "metadata": {},
   "outputs": [],
   "source": []
  }
 ],
 "metadata": {
  "kernelspec": {
   "display_name": "Python 3",
   "language": "python",
   "name": "python3"
  },
  "language_info": {
   "codemirror_mode": {
    "name": "ipython",
    "version": 3
   },
   "file_extension": ".py",
   "mimetype": "text/x-python",
   "name": "python",
   "nbconvert_exporter": "python",
   "pygments_lexer": "ipython3",
   "version": "3.6.6"
  },
  "varInspector": {
   "cols": {
    "lenName": 16,
    "lenType": 16,
    "lenVar": 40
   },
   "kernels_config": {
    "python": {
     "delete_cmd_postfix": "",
     "delete_cmd_prefix": "del ",
     "library": "var_list.py",
     "varRefreshCmd": "print(var_dic_list())"
    },
    "r": {
     "delete_cmd_postfix": ") ",
     "delete_cmd_prefix": "rm(",
     "library": "var_list.r",
     "varRefreshCmd": "cat(var_dic_list()) "
    }
   },
   "types_to_exclude": [
    "module",
    "function",
    "builtin_function_or_method",
    "instance",
    "_Feature"
   ],
   "window_display": false
  }
 },
 "nbformat": 4,
 "nbformat_minor": 2
}
