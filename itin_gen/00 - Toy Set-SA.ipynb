{
 "cells": [
  {
   "cell_type": "code",
   "execution_count": 95,
   "metadata": {
    "ExecuteTime": {
     "end_time": "2018-09-07T20:45:54.195398Z",
     "start_time": "2018-09-07T20:45:54.176583Z"
    }
   },
   "outputs": [],
   "source": [
    "import pandas as pd\n",
    "import numpy as np\n",
    "import matplotlib.pyplot as plt\n",
    "from copy import deepcopy\n",
    "import math\n",
    "\n",
    "import networkx as nx\n",
    "%matplotlib inline"
   ]
  },
  {
   "cell_type": "markdown",
   "metadata": {
    "heading_collapsed": true
   },
   "source": [
    "# Sites"
   ]
  },
  {
   "cell_type": "markdown",
   "metadata": {
    "hidden": true
   },
   "source": [
    "### All SF attractions (thus far)"
   ]
  },
  {
   "cell_type": "markdown",
   "metadata": {
    "hidden": true
   },
   "source": [
    "fake data"
   ]
  },
  {
   "cell_type": "markdown",
   "metadata": {
    "hidden": true
   },
   "source": [
    "### SF node costs: Fake Data"
   ]
  },
  {
   "cell_type": "code",
   "execution_count": 2,
   "metadata": {
    "ExecuteTime": {
     "end_time": "2018-09-07T20:19:33.061625Z",
     "start_time": "2018-09-07T20:19:33.058543Z"
    },
    "hidden": true
   },
   "outputs": [],
   "source": [
    "V = 300 # number of nodes"
   ]
  },
  {
   "cell_type": "markdown",
   "metadata": {
    "ExecuteTime": {
     "end_time": "2018-08-30T03:47:20.122692Z",
     "start_time": "2018-08-30T03:47:20.116661Z"
    },
    "hidden": true
   },
   "source": [
    "#### Visit Lengths: visit_lengths"
   ]
  },
  {
   "cell_type": "code",
   "execution_count": 3,
   "metadata": {
    "ExecuteTime": {
     "end_time": "2018-09-07T20:19:33.068746Z",
     "start_time": "2018-09-07T20:19:33.064432Z"
    },
    "hidden": true
   },
   "outputs": [],
   "source": [
    "# number of hours needed for visit\n",
    "visit_lengths = 60*np.random.randint(1,5, size=V)"
   ]
  },
  {
   "cell_type": "markdown",
   "metadata": {
    "hidden": true
   },
   "source": [
    "#### Ticket Prices: ticket_prices"
   ]
  },
  {
   "cell_type": "code",
   "execution_count": 4,
   "metadata": {
    "ExecuteTime": {
     "end_time": "2018-09-07T20:19:33.074663Z",
     "start_time": "2018-09-07T20:19:33.071618Z"
    },
    "hidden": true
   },
   "outputs": [],
   "source": [
    "# price for visiting\n",
    "ticket_prices = np.random.randint(0, 50, size = V)"
   ]
  },
  {
   "cell_type": "code",
   "execution_count": 5,
   "metadata": {
    "ExecuteTime": {
     "end_time": "2018-09-07T20:19:33.079870Z",
     "start_time": "2018-09-07T20:19:33.076983Z"
    },
    "hidden": true
   },
   "outputs": [],
   "source": [
    "## later\n",
    "# open_hours\n",
    "# events_as_site"
   ]
  },
  {
   "cell_type": "markdown",
   "metadata": {
    "hidden": true
   },
   "source": [
    "#### Site Styles: site_styles"
   ]
  },
  {
   "cell_type": "code",
   "execution_count": 6,
   "metadata": {
    "ExecuteTime": {
     "end_time": "2018-09-07T20:19:33.085055Z",
     "start_time": "2018-09-07T20:19:33.081867Z"
    },
    "hidden": true
   },
   "outputs": [],
   "source": [
    "travel_style = ['art', 'history', 'culture' ,'food', 'outdoors', 'adventure']"
   ]
  },
  {
   "cell_type": "code",
   "execution_count": 7,
   "metadata": {
    "ExecuteTime": {
     "end_time": "2018-09-07T20:19:33.090498Z",
     "start_time": "2018-09-07T20:19:33.087536Z"
    },
    "hidden": true
   },
   "outputs": [],
   "source": [
    "site_styles = np.random.randint(1,10, size=(V,len(travel_style)))"
   ]
  },
  {
   "cell_type": "markdown",
   "metadata": {
    "hidden": true
   },
   "source": [
    "### SF arc costs -- randomly generated"
   ]
  },
  {
   "cell_type": "code",
   "execution_count": 8,
   "metadata": {
    "ExecuteTime": {
     "end_time": "2018-09-07T20:19:33.095115Z",
     "start_time": "2018-09-07T20:19:33.092260Z"
    },
    "hidden": true
   },
   "outputs": [],
   "source": [
    "# Open questions: how would I account for time differences in traveling via bus v. Uber?"
   ]
  },
  {
   "cell_type": "markdown",
   "metadata": {
    "hidden": true
   },
   "source": [
    "#### time per travel leg: travel_times"
   ]
  },
  {
   "cell_type": "code",
   "execution_count": 9,
   "metadata": {
    "ExecuteTime": {
     "end_time": "2018-09-07T20:19:33.114490Z",
     "start_time": "2018-09-07T20:19:33.097682Z"
    },
    "hidden": true
   },
   "outputs": [],
   "source": [
    "# V=150 # number of nodes\n",
    "D = 2 # inherent arc constraints: use this (for now) as a proxy of time needed between 2 graphs\n",
    "\n",
    "#positions = np.random.rand(V, D)\n",
    "positions = np.random.randint(2,240, size=(V, D))\n",
    "differences = positions[:, None, :] - positions[None, :, :]\n",
    "arc_costs = np.sqrt(np.sum(differences**2, axis=-1))# number of nodes\n",
    "D = 2 # inherent arc constraints: use this (for now) as a proxy of time needed between 2 graphs\n",
    "\n",
    "#positions = np.random.rand(V, D)\n",
    "positions = np.random.randint(2,300, size=(V, D))\n",
    "differences = positions[:, None, :] - positions[None, :, :]\n",
    "arc_costs = np.sqrt(np.sum(differences**2, axis=-1))"
   ]
  },
  {
   "cell_type": "code",
   "execution_count": 10,
   "metadata": {
    "ExecuteTime": {
     "end_time": "2018-09-07T20:19:33.406314Z",
     "start_time": "2018-09-07T20:19:33.116673Z"
    },
    "hidden": true
   },
   "outputs": [],
   "source": [
    "SF_site_graph = nx.from_numpy_matrix(arc_costs, create_using=nx.DiGraph())"
   ]
  },
  {
   "cell_type": "code",
   "execution_count": 11,
   "metadata": {
    "ExecuteTime": {
     "end_time": "2018-09-07T20:19:33.411129Z",
     "start_time": "2018-09-07T20:19:33.408418Z"
    },
    "hidden": true
   },
   "outputs": [],
   "source": [
    "# plt.figure(figsize=(50,20))\n",
    "# nx.draw(SF_site_graph, node_size=1000)\n",
    "# plt.show()"
   ]
  },
  {
   "cell_type": "code",
   "execution_count": 12,
   "metadata": {
    "ExecuteTime": {
     "end_time": "2018-09-07T20:19:33.461924Z",
     "start_time": "2018-09-07T20:19:33.413292Z"
    },
    "hidden": true
   },
   "outputs": [],
   "source": [
    "travel_times = nx.to_numpy_matrix(SF_site_graph)"
   ]
  },
  {
   "cell_type": "markdown",
   "metadata": {
    "hidden": true
   },
   "source": [
    "#### cost per travel leg: travel_costs"
   ]
  },
  {
   "cell_type": "code",
   "execution_count": 13,
   "metadata": {
    "ExecuteTime": {
     "end_time": "2018-09-07T20:19:33.471860Z",
     "start_time": "2018-09-07T20:19:33.463481Z"
    },
    "hidden": true
   },
   "outputs": [],
   "source": [
    "# V = 150 # number of nodes\n",
    "# D = 2 # inherent arc constraints: use this (for now) as a proxy of cost needed between 2 graphs\n",
    "\n",
    "#positions = np.random.rand(V, D)\n",
    "costs = np.random.randint(0,15, size=(V, D))\n",
    "distances = costs[:, None, :] - costs[None, :, :]\n",
    "travel_costs = np.sqrt(np.sum(distances**2, axis=-1))"
   ]
  },
  {
   "cell_type": "code",
   "execution_count": null,
   "metadata": {
    "hidden": true
   },
   "outputs": [],
   "source": []
  },
  {
   "cell_type": "markdown",
   "metadata": {},
   "source": [
    "# Users"
   ]
  },
  {
   "cell_type": "markdown",
   "metadata": {},
   "source": [
    "site preference"
   ]
  },
  {
   "cell_type": "markdown",
   "metadata": {
    "ExecuteTime": {
     "end_time": "2018-08-29T00:46:39.552927Z",
     "start_time": "2018-08-29T00:46:39.549804Z"
    }
   },
   "source": [
    "### User Profiles: Toy Recommender Generated Data"
   ]
  },
  {
   "cell_type": "code",
   "execution_count": 14,
   "metadata": {
    "ExecuteTime": {
     "end_time": "2018-09-07T20:19:33.476236Z",
     "start_time": "2018-09-07T20:19:33.473729Z"
    }
   },
   "outputs": [],
   "source": [
    "### 20 users\n",
    "num_users = 20"
   ]
  },
  {
   "cell_type": "markdown",
   "metadata": {},
   "source": [
    "#### NO NEED TO USE: Travel Style: style_df"
   ]
  },
  {
   "cell_type": "code",
   "execution_count": 15,
   "metadata": {
    "ExecuteTime": {
     "end_time": "2018-09-07T20:19:33.480987Z",
     "start_time": "2018-09-07T20:19:33.478394Z"
    }
   },
   "outputs": [],
   "source": [
    "# same as site style -> travel_style = ['art', 'history', 'culture' ,'food', 'outdoors', 'adventure']"
   ]
  },
  {
   "cell_type": "code",
   "execution_count": 16,
   "metadata": {
    "ExecuteTime": {
     "end_time": "2018-09-07T20:19:33.486732Z",
     "start_time": "2018-09-07T20:19:33.483097Z"
    },
    "scrolled": true
   },
   "outputs": [],
   "source": [
    "style_dict={}\n",
    "for i in range(num_users):\n",
    "    style_dict[f'user{i}'] = np.random.randint(1,10, len(travel_style))"
   ]
  },
  {
   "cell_type": "code",
   "execution_count": 17,
   "metadata": {
    "ExecuteTime": {
     "end_time": "2018-09-07T20:19:33.511513Z",
     "start_time": "2018-09-07T20:19:33.488981Z"
    }
   },
   "outputs": [
    {
     "data": {
      "text/html": [
       "<div>\n",
       "<style scoped>\n",
       "    .dataframe tbody tr th:only-of-type {\n",
       "        vertical-align: middle;\n",
       "    }\n",
       "\n",
       "    .dataframe tbody tr th {\n",
       "        vertical-align: top;\n",
       "    }\n",
       "\n",
       "    .dataframe thead th {\n",
       "        text-align: right;\n",
       "    }\n",
       "</style>\n",
       "<table border=\"1\" class=\"dataframe\">\n",
       "  <thead>\n",
       "    <tr style=\"text-align: right;\">\n",
       "      <th></th>\n",
       "      <th>0</th>\n",
       "      <th>1</th>\n",
       "      <th>2</th>\n",
       "      <th>3</th>\n",
       "      <th>4</th>\n",
       "      <th>5</th>\n",
       "    </tr>\n",
       "  </thead>\n",
       "  <tbody>\n",
       "    <tr>\n",
       "      <th>user0</th>\n",
       "      <td>1</td>\n",
       "      <td>6</td>\n",
       "      <td>3</td>\n",
       "      <td>3</td>\n",
       "      <td>1</td>\n",
       "      <td>7</td>\n",
       "    </tr>\n",
       "    <tr>\n",
       "      <th>user1</th>\n",
       "      <td>1</td>\n",
       "      <td>4</td>\n",
       "      <td>2</td>\n",
       "      <td>6</td>\n",
       "      <td>3</td>\n",
       "      <td>6</td>\n",
       "    </tr>\n",
       "    <tr>\n",
       "      <th>user2</th>\n",
       "      <td>6</td>\n",
       "      <td>2</td>\n",
       "      <td>8</td>\n",
       "      <td>3</td>\n",
       "      <td>1</td>\n",
       "      <td>4</td>\n",
       "    </tr>\n",
       "    <tr>\n",
       "      <th>user3</th>\n",
       "      <td>9</td>\n",
       "      <td>5</td>\n",
       "      <td>7</td>\n",
       "      <td>7</td>\n",
       "      <td>5</td>\n",
       "      <td>3</td>\n",
       "    </tr>\n",
       "    <tr>\n",
       "      <th>user4</th>\n",
       "      <td>3</td>\n",
       "      <td>1</td>\n",
       "      <td>8</td>\n",
       "      <td>9</td>\n",
       "      <td>9</td>\n",
       "      <td>1</td>\n",
       "    </tr>\n",
       "  </tbody>\n",
       "</table>\n",
       "</div>"
      ],
      "text/plain": [
       "       0  1  2  3  4  5\n",
       "user0  1  6  3  3  1  7\n",
       "user1  1  4  2  6  3  6\n",
       "user2  6  2  8  3  1  4\n",
       "user3  9  5  7  7  5  3\n",
       "user4  3  1  8  9  9  1"
      ]
     },
     "execution_count": 17,
     "metadata": {},
     "output_type": "execute_result"
    }
   ],
   "source": [
    "style_df = pd.DataFrame(style_dict).T\n",
    "style_df.head()"
   ]
  },
  {
   "cell_type": "markdown",
   "metadata": {},
   "source": [
    "#### BETWEEN 0 AND 5: Site Preferences: preference_df"
   ]
  },
  {
   "cell_type": "code",
   "execution_count": 18,
   "metadata": {
    "ExecuteTime": {
     "end_time": "2018-09-07T20:19:33.517176Z",
     "start_time": "2018-09-07T20:19:33.513406Z"
    }
   },
   "outputs": [],
   "source": [
    "preference_dict={}\n",
    "for i in range(num_users):\n",
    "    preference_dict[f'user{i}'] = np.random.uniform(0,5, V)"
   ]
  },
  {
   "cell_type": "code",
   "execution_count": 19,
   "metadata": {
    "ExecuteTime": {
     "end_time": "2018-09-07T20:19:33.542479Z",
     "start_time": "2018-09-07T20:19:33.519289Z"
    },
    "scrolled": true
   },
   "outputs": [
    {
     "data": {
      "text/html": [
       "<div>\n",
       "<style scoped>\n",
       "    .dataframe tbody tr th:only-of-type {\n",
       "        vertical-align: middle;\n",
       "    }\n",
       "\n",
       "    .dataframe tbody tr th {\n",
       "        vertical-align: top;\n",
       "    }\n",
       "\n",
       "    .dataframe thead th {\n",
       "        text-align: right;\n",
       "    }\n",
       "</style>\n",
       "<table border=\"1\" class=\"dataframe\">\n",
       "  <thead>\n",
       "    <tr style=\"text-align: right;\">\n",
       "      <th></th>\n",
       "      <th>0</th>\n",
       "      <th>1</th>\n",
       "      <th>2</th>\n",
       "      <th>3</th>\n",
       "      <th>4</th>\n",
       "      <th>5</th>\n",
       "      <th>6</th>\n",
       "      <th>7</th>\n",
       "      <th>8</th>\n",
       "      <th>9</th>\n",
       "      <th>...</th>\n",
       "      <th>290</th>\n",
       "      <th>291</th>\n",
       "      <th>292</th>\n",
       "      <th>293</th>\n",
       "      <th>294</th>\n",
       "      <th>295</th>\n",
       "      <th>296</th>\n",
       "      <th>297</th>\n",
       "      <th>298</th>\n",
       "      <th>299</th>\n",
       "    </tr>\n",
       "  </thead>\n",
       "  <tbody>\n",
       "    <tr>\n",
       "      <th>user0</th>\n",
       "      <td>3.760771</td>\n",
       "      <td>3.907064</td>\n",
       "      <td>4.701499</td>\n",
       "      <td>3.609411</td>\n",
       "      <td>0.921030</td>\n",
       "      <td>4.535229</td>\n",
       "      <td>1.874039</td>\n",
       "      <td>2.712100</td>\n",
       "      <td>2.612060</td>\n",
       "      <td>0.068639</td>\n",
       "      <td>...</td>\n",
       "      <td>2.873240</td>\n",
       "      <td>1.171965</td>\n",
       "      <td>4.500056</td>\n",
       "      <td>1.670869</td>\n",
       "      <td>3.550218</td>\n",
       "      <td>0.565734</td>\n",
       "      <td>3.842073</td>\n",
       "      <td>0.393369</td>\n",
       "      <td>2.464281</td>\n",
       "      <td>3.769637</td>\n",
       "    </tr>\n",
       "    <tr>\n",
       "      <th>user1</th>\n",
       "      <td>1.204822</td>\n",
       "      <td>0.124251</td>\n",
       "      <td>4.668479</td>\n",
       "      <td>1.893819</td>\n",
       "      <td>1.072122</td>\n",
       "      <td>4.642573</td>\n",
       "      <td>4.591809</td>\n",
       "      <td>4.704462</td>\n",
       "      <td>3.388338</td>\n",
       "      <td>1.873523</td>\n",
       "      <td>...</td>\n",
       "      <td>2.085248</td>\n",
       "      <td>3.915077</td>\n",
       "      <td>3.897259</td>\n",
       "      <td>4.638688</td>\n",
       "      <td>2.909639</td>\n",
       "      <td>4.345372</td>\n",
       "      <td>2.076959</td>\n",
       "      <td>0.746420</td>\n",
       "      <td>0.924836</td>\n",
       "      <td>3.378603</td>\n",
       "    </tr>\n",
       "    <tr>\n",
       "      <th>user2</th>\n",
       "      <td>2.966314</td>\n",
       "      <td>4.439914</td>\n",
       "      <td>0.361543</td>\n",
       "      <td>2.742619</td>\n",
       "      <td>4.882212</td>\n",
       "      <td>0.855549</td>\n",
       "      <td>1.162640</td>\n",
       "      <td>1.877709</td>\n",
       "      <td>2.229157</td>\n",
       "      <td>3.488949</td>\n",
       "      <td>...</td>\n",
       "      <td>1.233448</td>\n",
       "      <td>2.888776</td>\n",
       "      <td>4.309149</td>\n",
       "      <td>1.146193</td>\n",
       "      <td>1.922016</td>\n",
       "      <td>4.016770</td>\n",
       "      <td>3.016144</td>\n",
       "      <td>2.267831</td>\n",
       "      <td>1.602643</td>\n",
       "      <td>4.802567</td>\n",
       "    </tr>\n",
       "    <tr>\n",
       "      <th>user3</th>\n",
       "      <td>2.441744</td>\n",
       "      <td>1.619290</td>\n",
       "      <td>1.020616</td>\n",
       "      <td>4.527550</td>\n",
       "      <td>1.681320</td>\n",
       "      <td>3.821492</td>\n",
       "      <td>1.429961</td>\n",
       "      <td>4.596202</td>\n",
       "      <td>4.052731</td>\n",
       "      <td>0.658597</td>\n",
       "      <td>...</td>\n",
       "      <td>1.151034</td>\n",
       "      <td>4.523814</td>\n",
       "      <td>4.744548</td>\n",
       "      <td>4.203767</td>\n",
       "      <td>0.816598</td>\n",
       "      <td>0.486254</td>\n",
       "      <td>4.728707</td>\n",
       "      <td>3.267540</td>\n",
       "      <td>2.593310</td>\n",
       "      <td>1.402114</td>\n",
       "    </tr>\n",
       "    <tr>\n",
       "      <th>user4</th>\n",
       "      <td>4.906874</td>\n",
       "      <td>1.342415</td>\n",
       "      <td>4.432359</td>\n",
       "      <td>0.459451</td>\n",
       "      <td>0.089204</td>\n",
       "      <td>0.844059</td>\n",
       "      <td>2.951362</td>\n",
       "      <td>3.234228</td>\n",
       "      <td>4.989341</td>\n",
       "      <td>0.196027</td>\n",
       "      <td>...</td>\n",
       "      <td>3.799618</td>\n",
       "      <td>3.299161</td>\n",
       "      <td>2.884420</td>\n",
       "      <td>0.807441</td>\n",
       "      <td>1.357260</td>\n",
       "      <td>2.591128</td>\n",
       "      <td>1.109488</td>\n",
       "      <td>4.464692</td>\n",
       "      <td>3.042944</td>\n",
       "      <td>0.427729</td>\n",
       "    </tr>\n",
       "  </tbody>\n",
       "</table>\n",
       "<p>5 rows × 300 columns</p>\n",
       "</div>"
      ],
      "text/plain": [
       "            0         1         2         3         4         5         6    \\\n",
       "user0  3.760771  3.907064  4.701499  3.609411  0.921030  4.535229  1.874039   \n",
       "user1  1.204822  0.124251  4.668479  1.893819  1.072122  4.642573  4.591809   \n",
       "user2  2.966314  4.439914  0.361543  2.742619  4.882212  0.855549  1.162640   \n",
       "user3  2.441744  1.619290  1.020616  4.527550  1.681320  3.821492  1.429961   \n",
       "user4  4.906874  1.342415  4.432359  0.459451  0.089204  0.844059  2.951362   \n",
       "\n",
       "            7         8         9      ...          290       291       292  \\\n",
       "user0  2.712100  2.612060  0.068639    ...     2.873240  1.171965  4.500056   \n",
       "user1  4.704462  3.388338  1.873523    ...     2.085248  3.915077  3.897259   \n",
       "user2  1.877709  2.229157  3.488949    ...     1.233448  2.888776  4.309149   \n",
       "user3  4.596202  4.052731  0.658597    ...     1.151034  4.523814  4.744548   \n",
       "user4  3.234228  4.989341  0.196027    ...     3.799618  3.299161  2.884420   \n",
       "\n",
       "            293       294       295       296       297       298       299  \n",
       "user0  1.670869  3.550218  0.565734  3.842073  0.393369  2.464281  3.769637  \n",
       "user1  4.638688  2.909639  4.345372  2.076959  0.746420  0.924836  3.378603  \n",
       "user2  1.146193  1.922016  4.016770  3.016144  2.267831  1.602643  4.802567  \n",
       "user3  4.203767  0.816598  0.486254  4.728707  3.267540  2.593310  1.402114  \n",
       "user4  0.807441  1.357260  2.591128  1.109488  4.464692  3.042944  0.427729  \n",
       "\n",
       "[5 rows x 300 columns]"
      ]
     },
     "execution_count": 19,
     "metadata": {},
     "output_type": "execute_result"
    }
   ],
   "source": [
    "preference_df = pd.DataFrame(preference_dict).T\n",
    "preference_df.head()"
   ]
  },
  {
   "cell_type": "markdown",
   "metadata": {
    "ExecuteTime": {
     "end_time": "2018-08-29T00:46:20.977158Z",
     "start_time": "2018-08-29T00:46:20.973970Z"
    }
   },
   "source": [
    "#### Budget: user_budget"
   ]
  },
  {
   "cell_type": "code",
   "execution_count": 20,
   "metadata": {
    "ExecuteTime": {
     "end_time": "2018-09-07T20:19:33.547664Z",
     "start_time": "2018-09-07T20:19:33.544562Z"
    }
   },
   "outputs": [],
   "source": [
    "user_budget = np.random.choice(range(2001), size=len(style_dict))"
   ]
  },
  {
   "cell_type": "code",
   "execution_count": 21,
   "metadata": {
    "ExecuteTime": {
     "end_time": "2018-09-07T20:19:33.552982Z",
     "start_time": "2018-09-07T20:19:33.550008Z"
    }
   },
   "outputs": [],
   "source": [
    "user_budget_df = dict(zip(preference_df.index, user_budget))"
   ]
  },
  {
   "cell_type": "markdown",
   "metadata": {},
   "source": [
    "# Site and User Joined"
   ]
  },
  {
   "cell_type": "markdown",
   "metadata": {},
   "source": [
    "#### Highlight Bonus: highlight_bonus"
   ]
  },
  {
   "cell_type": "code",
   "execution_count": 22,
   "metadata": {
    "ExecuteTime": {
     "end_time": "2018-09-07T20:19:33.557527Z",
     "start_time": "2018-09-07T20:19:33.555121Z"
    }
   },
   "outputs": [],
   "source": [
    "# The highlight reel is the \"must-see\" sites of SF ranked \n",
    "# -by number of reviews (must be within top 10 by reviews)\n",
    "# -visit duration longer than \n",
    "# -must share at least "
   ]
  },
  {
   "cell_type": "code",
   "execution_count": 23,
   "metadata": {
    "ExecuteTime": {
     "end_time": "2018-09-07T20:19:33.562574Z",
     "start_time": "2018-09-07T20:19:33.559879Z"
    }
   },
   "outputs": [],
   "source": [
    "highlight_reel = np.random.randint(0,V,10)"
   ]
  },
  {
   "cell_type": "code",
   "execution_count": 24,
   "metadata": {
    "ExecuteTime": {
     "end_time": "2018-09-07T20:19:33.569146Z",
     "start_time": "2018-09-07T20:19:33.565488Z"
    }
   },
   "outputs": [],
   "source": [
    "highlight_bonuses = np.ones(V)"
   ]
  },
  {
   "cell_type": "code",
   "execution_count": 25,
   "metadata": {
    "ExecuteTime": {
     "end_time": "2018-09-07T20:19:33.574048Z",
     "start_time": "2018-09-07T20:19:33.571493Z"
    }
   },
   "outputs": [],
   "source": [
    "for highlight in highlight_reel:\n",
    "    highlight_bonuses[highlight] = 1.25"
   ]
  },
  {
   "cell_type": "markdown",
   "metadata": {},
   "source": [
    "# Models"
   ]
  },
  {
   "cell_type": "markdown",
   "metadata": {},
   "source": [
    "### Constraints"
   ]
  },
  {
   "cell_type": "markdown",
   "metadata": {},
   "source": [
    "#### Tour Times: tour_hours"
   ]
  },
  {
   "cell_type": "code",
   "execution_count": 26,
   "metadata": {
    "ExecuteTime": {
     "end_time": "2018-09-07T20:19:33.579897Z",
     "start_time": "2018-09-07T20:19:33.576417Z"
    }
   },
   "outputs": [],
   "source": [
    "tour_hours = 60*np.array(range(9, 21))"
   ]
  },
  {
   "cell_type": "markdown",
   "metadata": {},
   "source": [
    "#### Max Travel Times/ Site to Travel Ratio: site_travel_ratio"
   ]
  },
  {
   "cell_type": "code",
   "execution_count": 27,
   "metadata": {
    "ExecuteTime": {
     "end_time": "2018-09-07T20:19:33.586487Z",
     "start_time": "2018-09-07T20:19:33.583225Z"
    }
   },
   "outputs": [],
   "source": [
    "# set the max time the party should be traveling between sites to a ratio of hours \n",
    "max_travel_time = 3\n",
    "\n",
    "# OR set the minimum ratio between time at attractions to travel to site to a value\n",
    "site_travel_ratio = 2"
   ]
  },
  {
   "cell_type": "markdown",
   "metadata": {},
   "source": [
    "#### User Budget: budget"
   ]
  },
  {
   "cell_type": "code",
   "execution_count": 28,
   "metadata": {
    "ExecuteTime": {
     "end_time": "2018-09-07T20:19:33.592497Z",
     "start_time": "2018-09-07T20:19:33.590051Z"
    }
   },
   "outputs": [],
   "source": [
    "# budget\n",
    "# budget = user_budget[user]\n",
    "#budget = user_budget"
   ]
  },
  {
   "cell_type": "markdown",
   "metadata": {},
   "source": [
    "#### Already Seen Sites: already_seen"
   ]
  },
  {
   "cell_type": "code",
   "execution_count": 29,
   "metadata": {
    "ExecuteTime": {
     "end_time": "2018-09-07T20:19:33.597482Z",
     "start_time": "2018-09-07T20:19:33.594983Z"
    }
   },
   "outputs": [],
   "source": [
    "# sites that the visitor has already visited and does NOT want to see again\n",
    "already_seen = np.random.randint(0,V, 3)"
   ]
  },
  {
   "cell_type": "markdown",
   "metadata": {},
   "source": [
    "#### Need to See Sites: want_to_see"
   ]
  },
  {
   "cell_type": "code",
   "execution_count": 30,
   "metadata": {
    "ExecuteTime": {
     "end_time": "2018-09-07T20:19:33.603290Z",
     "start_time": "2018-09-07T20:19:33.599852Z"
    },
    "scrolled": true
   },
   "outputs": [],
   "source": [
    "# sites that the visitor absolutely wants to see\n",
    "potentials = list(set(range(V)).difference(set(already_seen)))\n",
    "want_to_see = np.random.choice(potentials, 2, replace=False)"
   ]
  },
  {
   "cell_type": "markdown",
   "metadata": {},
   "source": [
    "#### \"Cost Function\": score"
   ]
  },
  {
   "cell_type": "markdown",
   "metadata": {},
   "source": [
    "The cost function is some sort of connection between user enjoyment (derived from rankings & preferences) and opportunity cost of not going to other sites???."
   ]
  },
  {
   "cell_type": "code",
   "execution_count": 31,
   "metadata": {
    "ExecuteTime": {
     "end_time": "2018-09-07T20:19:33.608209Z",
     "start_time": "2018-09-07T20:19:33.605826Z"
    }
   },
   "outputs": [],
   "source": [
    "#trial 1"
   ]
  },
  {
   "cell_type": "code",
   "execution_count": 32,
   "metadata": {
    "ExecuteTime": {
     "end_time": "2018-09-07T20:19:33.613366Z",
     "start_time": "2018-09-07T20:19:33.610623Z"
    }
   },
   "outputs": [],
   "source": [
    "#### weight = (highlight_bonus*similarity(site_style, user_style)*(visit_length_minutes/ticket_price) - travel_time*travel_cost  "
   ]
  },
  {
   "cell_type": "code",
   "execution_count": 33,
   "metadata": {
    "ExecuteTime": {
     "end_time": "2018-09-07T20:19:33.618098Z",
     "start_time": "2018-09-07T20:19:33.615773Z"
    }
   },
   "outputs": [],
   "source": [
    "#### greedy algorithms: take things with high score/ cost; high score/ time and put cut-off\n",
    "\n",
    "#### scheduling algorithms: heuristics "
   ]
  },
  {
   "cell_type": "code",
   "execution_count": 34,
   "metadata": {
    "ExecuteTime": {
     "end_time": "2018-09-07T20:19:33.622864Z",
     "start_time": "2018-09-07T20:19:33.620498Z"
    }
   },
   "outputs": [],
   "source": [
    "# similarity = preferences_df[user][site]\n",
    "\n",
    "# beta_1=1\n",
    "# beta_2=2\n",
    "\n",
    "# travel_time = travel_times[site1][site2]\n",
    "\n",
    "# # cost = travel_costs[site1][site2]"
   ]
  },
  {
   "cell_type": "code",
   "execution_count": 35,
   "metadata": {
    "ExecuteTime": {
     "end_time": "2018-09-07T20:19:33.850600Z",
     "start_time": "2018-09-07T20:19:33.625315Z"
    },
    "scrolled": true
   },
   "outputs": [
    {
     "ename": "NameError",
     "evalue": "name 'highlight_bonus' is not defined",
     "output_type": "error",
     "traceback": [
      "\u001b[0;31m---------------------------------------------------------------------------\u001b[0m",
      "\u001b[0;31mNameError\u001b[0m                                 Traceback (most recent call last)",
      "\u001b[0;32m<ipython-input-35-3e691f9673dd>\u001b[0m in \u001b[0;36m<module>\u001b[0;34m()\u001b[0m\n\u001b[0;32m----> 1\u001b[0;31m \u001b[0mscore\u001b[0m \u001b[0;34m=\u001b[0m \u001b[0mhighlight_bonus\u001b[0m\u001b[0;34m*\u001b[0m\u001b[0msimilarity\u001b[0m\u001b[0;34m*\u001b[0m\u001b[0mvisit_length\u001b[0m \u001b[0;34m-\u001b[0m \u001b[0mbeta_1\u001b[0m\u001b[0;34m*\u001b[0m\u001b[0mtravel_time\u001b[0m \u001b[0;34m-\u001b[0m \u001b[0mbeta_2\u001b[0m\u001b[0;34m*\u001b[0m\u001b[0mtravel_cost\u001b[0m\u001b[0;34m\u001b[0m\u001b[0m\n\u001b[0m",
      "\u001b[0;31mNameError\u001b[0m: name 'highlight_bonus' is not defined"
     ]
    }
   ],
   "source": [
    "score = highlight_bonus*similarity*visit_length - beta_1*travel_time - beta_2*travel_cost"
   ]
  },
  {
   "cell_type": "markdown",
   "metadata": {},
   "source": [
    "### Pre-Work"
   ]
  },
  {
   "cell_type": "markdown",
   "metadata": {},
   "source": [
    "#### 2. NOT CURRENTLY USED: Prune graph"
   ]
  },
  {
   "cell_type": "code",
   "execution_count": 37,
   "metadata": {
    "ExecuteTime": {
     "end_time": "2018-09-07T20:20:15.483573Z",
     "start_time": "2018-09-07T20:20:15.477192Z"
    }
   },
   "outputs": [
    {
     "data": {
      "text/plain": [
       "matrix([[ 0.        , 24.04163056, 77.00649323, ..., 33.60059523,\n",
       "         93.34880824,  0.        ]])"
      ]
     },
     "execution_count": 37,
     "metadata": {},
     "output_type": "execute_result"
    }
   ],
   "source": [
    "travel_times[travel_times<120]"
   ]
  },
  {
   "cell_type": "markdown",
   "metadata": {},
   "source": [
    "#### 3. Define site clusters"
   ]
  },
  {
   "cell_type": "code",
   "execution_count": 38,
   "metadata": {
    "ExecuteTime": {
     "end_time": "2018-09-07T20:20:16.626327Z",
     "start_time": "2018-09-07T20:20:16.622864Z"
    }
   },
   "outputs": [],
   "source": [
    "# Other methods to try:\n",
    "# k-Spanning Tree\n",
    "# Shared Nearest Neighbor Clustering\n",
    "# Betweenness Centrality Based\n",
    "# Highly Connected Components\n",
    "# Maximal Clique Enumeration\n",
    "# Kernel k-means"
   ]
  },
  {
   "cell_type": "markdown",
   "metadata": {},
   "source": [
    "### Final Data Inputs to Model"
   ]
  },
  {
   "cell_type": "markdown",
   "metadata": {},
   "source": [
    "#### User Data: budget, travel_time"
   ]
  },
  {
   "cell_type": "code",
   "execution_count": 39,
   "metadata": {
    "ExecuteTime": {
     "end_time": "2018-09-07T20:20:17.906813Z",
     "start_time": "2018-09-07T20:20:17.903534Z"
    }
   },
   "outputs": [],
   "source": [
    "user = np.random.choice(list(preference_df.index))"
   ]
  },
  {
   "cell_type": "code",
   "execution_count": 40,
   "metadata": {
    "ExecuteTime": {
     "end_time": "2018-09-07T20:20:18.355174Z",
     "start_time": "2018-09-07T20:20:18.351946Z"
    }
   },
   "outputs": [],
   "source": [
    "budget = user_budget_df[user]"
   ]
  },
  {
   "cell_type": "code",
   "execution_count": 41,
   "metadata": {
    "ExecuteTime": {
     "end_time": "2018-09-07T20:20:18.820922Z",
     "start_time": "2018-09-07T20:20:18.817634Z"
    }
   },
   "outputs": [],
   "source": [
    "tour_length = (max(tour_hours) - min(tour_hours))"
   ]
  },
  {
   "cell_type": "markdown",
   "metadata": {},
   "source": [
    "#### User-to-Sites Data: potential_sites--list of (id, similarity, highlight_bonus, visit_length, ticket_price, site_style)"
   ]
  },
  {
   "cell_type": "code",
   "execution_count": 49,
   "metadata": {
    "ExecuteTime": {
     "end_time": "2018-09-07T20:20:45.158611Z",
     "start_time": "2018-09-07T20:20:45.155836Z"
    }
   },
   "outputs": [],
   "source": [
    "similarities = preference_df.loc[user]"
   ]
  },
  {
   "cell_type": "code",
   "execution_count": 50,
   "metadata": {
    "ExecuteTime": {
     "end_time": "2018-09-07T20:20:46.333504Z",
     "start_time": "2018-09-07T20:20:46.329799Z"
    }
   },
   "outputs": [],
   "source": [
    "All_SF_sites = dict(zip(range(V), list(zip(similarities, highlight_bonuses, visit_lengths, ticket_prices, site_styles))))"
   ]
  },
  {
   "cell_type": "code",
   "execution_count": 51,
   "metadata": {
    "ExecuteTime": {
     "end_time": "2018-09-07T20:20:47.726760Z",
     "start_time": "2018-09-07T20:20:47.722748Z"
    },
    "scrolled": false
   },
   "outputs": [],
   "source": [
    "SF_sites = {key: value for (key, value) in All_SF_sites.items() if value[0] >= 3}"
   ]
  },
  {
   "cell_type": "markdown",
   "metadata": {},
   "source": [
    "#### Path Data: travel_matrix"
   ]
  },
  {
   "cell_type": "code",
   "execution_count": 52,
   "metadata": {
    "ExecuteTime": {
     "end_time": "2018-09-07T20:20:49.183252Z",
     "start_time": "2018-09-07T20:20:49.169723Z"
    },
    "scrolled": true
   },
   "outputs": [],
   "source": [
    "travel_times_df = pd.DataFrame(travel_times)[list(SF_sites.keys())].iloc[list(SF_sites.keys())]\n",
    "travel_costs_df = pd.DataFrame(travel_costs)[list(SF_sites.keys())].iloc[list(SF_sites.keys())]"
   ]
  },
  {
   "cell_type": "code",
   "execution_count": 53,
   "metadata": {
    "ExecuteTime": {
     "end_time": "2018-09-07T20:20:51.059129Z",
     "start_time": "2018-09-07T20:20:51.056230Z"
    }
   },
   "outputs": [],
   "source": [
    "travel_matrix = [travel_times_df, travel_costs_df]"
   ]
  },
  {
   "cell_type": "markdown",
   "metadata": {},
   "source": [
    "### Route-Finding"
   ]
  },
  {
   "cell_type": "code",
   "execution_count": 54,
   "metadata": {
    "ExecuteTime": {
     "end_time": "2018-09-07T20:20:53.416736Z",
     "start_time": "2018-09-07T20:20:53.413879Z"
    }
   },
   "outputs": [],
   "source": [
    "# similar experiences, different experiences, downweight things that are close in terms of experience "
   ]
  },
  {
   "cell_type": "markdown",
   "metadata": {},
   "source": [
    "#### SCORE "
   ]
  },
  {
   "cell_type": "code",
   "execution_count": 44,
   "metadata": {
    "ExecuteTime": {
     "end_time": "2018-09-07T20:20:22.034359Z",
     "start_time": "2018-09-07T20:20:22.029643Z"
    }
   },
   "outputs": [],
   "source": [
    "def get_score(potential_sites, attraction_id, current, highlight_bonuses, visit_lengths, travel_times_df, travel_costs_df, B1=1, B2=1):\n",
    "    score = potential_sites[attraction_id]*highlight_bonuses[attraction_id]*visit_lengths[attraction_id] - B1*travel_times_df[current][attraction_id] - B2*travel_costs_df[current][attraction_id]\n",
    "    return score"
   ]
  },
  {
   "cell_type": "markdown",
   "metadata": {
    "heading_collapsed": true
   },
   "source": [
    "#### 1. Greedy-greedy MSTs"
   ]
  },
  {
   "cell_type": "code",
   "execution_count": null,
   "metadata": {
    "ExecuteTime": {
     "end_time": "2018-09-07T20:19:33.869037Z",
     "start_time": "2018-09-07T20:19:30.999Z"
    },
    "hidden": true
   },
   "outputs": [],
   "source": [
    "discrete_budget = np.linspace(25,2000, 399)"
   ]
  },
  {
   "cell_type": "code",
   "execution_count": null,
   "metadata": {
    "ExecuteTime": {
     "end_time": "2018-09-07T20:19:33.870589Z",
     "start_time": "2018-09-07T20:19:31.000Z"
    },
    "hidden": true
   },
   "outputs": [],
   "source": [
    "budget_matrix = [0]*len(discrete_budget)"
   ]
  },
  {
   "cell_type": "code",
   "execution_count": null,
   "metadata": {
    "ExecuteTime": {
     "end_time": "2018-09-07T20:19:33.872389Z",
     "start_time": "2018-09-07T20:19:31.002Z"
    },
    "hidden": true
   },
   "outputs": [],
   "source": [
    "# Budget optimization\n",
    "\n",
    "def get_budget_optimized(budget_matrix, budget_limit, site_to_check):\n",
    "    \n",
    "    k_0 = budget_matrix[-1]\n",
    "    k_1 = []\n",
    "    \n",
    "    for budget_amount in range(len(budget_matrix)):\n",
    "        if site_to_check > budget_amount:\n",
    "            k_1.append(k_0[budget_matrix.index])\n",
    "        elif new_item['weight'][0] == budget_amount:\n",
    "            value = max(k_0[weight], new_item['value'][0])\n",
    "            k_1.append(value)\n",
    "        elif new_item['weight'][0] < budget_amount:\n",
    "            leftover_weight = weight - new_item['weight'][0]\n",
    "            potential_value = k_0[leftover_weight] + new_item['value'][0]\n",
    "            value = max(k_0[weight], potential_value)\n",
    "            k_1.append(value)\n",
    "            \n",
    "    weight_val.append(k_1)\n",
    "    \n",
    "    return weight_val"
   ]
  },
  {
   "cell_type": "code",
   "execution_count": null,
   "metadata": {
    "ExecuteTime": {
     "end_time": "2018-09-07T20:19:33.873839Z",
     "start_time": "2018-09-07T20:19:31.005Z"
    },
    "hidden": true
   },
   "outputs": [],
   "source": [
    "budget_matrix = [0]*len(discrete_budget)"
   ]
  },
  {
   "cell_type": "code",
   "execution_count": null,
   "metadata": {
    "hidden": true
   },
   "outputs": [],
   "source": []
  },
  {
   "cell_type": "code",
   "execution_count": null,
   "metadata": {
    "hidden": true
   },
   "outputs": [],
   "source": []
  },
  {
   "cell_type": "code",
   "execution_count": null,
   "metadata": {
    "hidden": true
   },
   "outputs": [],
   "source": []
  },
  {
   "cell_type": "code",
   "execution_count": null,
   "metadata": {
    "hidden": true
   },
   "outputs": [],
   "source": []
  },
  {
   "cell_type": "code",
   "execution_count": null,
   "metadata": {
    "ExecuteTime": {
     "end_time": "2018-09-07T20:19:33.875233Z",
     "start_time": "2018-09-07T20:19:31.011Z"
    },
    "hidden": true
   },
   "outputs": [],
   "source": [
    "def get_comparison_matrix(weight_val, weight_limit, new_item):\n",
    "    \n",
    "    k_0 = weight_val[-1]\n",
    "    k_1 = []\n",
    "    \n",
    "    for weight in range(len(k_0)):\n",
    "        if new_item['weight'][0] > weight:\n",
    "            k_1.append(k_0[weight])\n",
    "        elif new_item['weight'][0] == weight:\n",
    "            value = max(k_0[weight], new_item['value'][0])\n",
    "            k_1.append(value)\n",
    "        elif new_item['weight'][0] < weight:\n",
    "            leftover_weight = weight - new_item['weight'][0]\n",
    "            potential_value = k_0[leftover_weight] + new_item['value'][0]\n",
    "            value = max(k_0[weight], potential_value)\n",
    "            k_1.append(value)\n",
    "            \n",
    "    weight_val.append(k_1)\n",
    "    \n",
    "    return weight_val"
   ]
  },
  {
   "cell_type": "code",
   "execution_count": null,
   "metadata": {
    "hidden": true
   },
   "outputs": [],
   "source": []
  },
  {
   "cell_type": "code",
   "execution_count": null,
   "metadata": {
    "hidden": true
   },
   "outputs": [],
   "source": []
  },
  {
   "cell_type": "code",
   "execution_count": null,
   "metadata": {
    "hidden": true
   },
   "outputs": [],
   "source": []
  },
  {
   "cell_type": "markdown",
   "metadata": {},
   "source": [
    "#### 2. SA"
   ]
  },
  {
   "cell_type": "code",
   "execution_count": 45,
   "metadata": {
    "ExecuteTime": {
     "end_time": "2018-09-07T20:20:26.622779Z",
     "start_time": "2018-09-07T20:20:26.614304Z"
    }
   },
   "outputs": [],
   "source": [
    "class Path:\n",
    "    def __init__(self, from_attraction, to_attraction, similarity, highlight_bonus, visit_length, visit_cost):\n",
    "       \n",
    "        self.similarity = similarity\n",
    "        self.highlight_bonus = highlight_bonus\n",
    "        self.visit_length = visit_length\n",
    "        self.visit_cost = visit_cost\n",
    "\n",
    "        self.to_attraction = to_attraction\n",
    "        self.from_attraction = from_attraction\n",
    "        self.name = \"(\" + str(self.from_attraction) + \"->\" + str(self.to_attraction) + \")\"\n",
    "        \n",
    "    def travel_time(self, travel_times_df):\n",
    "        travel_time = travel_times_df[self.from_attraction][self.to_attraction]\n",
    "        return travel_time\n",
    "        \n",
    "    def travel_cost(self, travel_costs_df):\n",
    "        travel_cost = travel_costs_df[self.from_attraction][self.to_attraction]\n",
    "        return travel_cost\n",
    "    \n",
    "    def score(self, travel_times_df, B1=1, B2=2):\n",
    "        score = self.highlight_bonus*self.similarity*self.visit_length - self.travel_time(travel_times_df) - self.travel_cost(travel_costs_df)\n",
    "        return score\n",
    "    \n",
    "    def __repr__(self):\n",
    "        return self.name"
   ]
  },
  {
   "cell_type": "code",
   "execution_count": 104,
   "metadata": {
    "ExecuteTime": {
     "end_time": "2018-09-07T21:01:45.552814Z",
     "start_time": "2018-09-07T21:01:45.548307Z"
    }
   },
   "outputs": [],
   "source": [
    "class Fitness:\n",
    "    def __init__(self, route):\n",
    "        self.route = route\n",
    "        self.distance = 0\n",
    "        self.fitness = 0.0\n",
    "        \n",
    "    def route_fitness(self):\n",
    "        if self.fitness == 0:\n",
    "            path_fitness = 0\n",
    "            for i in range(len(self.route)-1):\n",
    "                from_attraction = self.route[i]\n",
    "                to_attraction = self.route[i+1]\n",
    "                path = Path(from_attraction, to_attraction, SF_sites[to_attraction][0], SF_sites[to_attraction][1], SF_sites[to_attraction][2], SF_sites[to_attraction][3])\n",
    "                path_fitness += path.score(travel_times_df)\n",
    "        self.fitness = path_fitness\n",
    "        return self.fitness"
   ]
  },
  {
   "cell_type": "code",
   "execution_count": 105,
   "metadata": {
    "ExecuteTime": {
     "end_time": "2018-09-07T21:01:48.188536Z",
     "start_time": "2018-09-07T21:01:48.185270Z"
    }
   },
   "outputs": [],
   "source": [
    "def get_start_and_end(SF_sites):\n",
    "    sites = list(SF_sites.keys())\n",
    "    #start = np.random.choice(sites)\n",
    "    start = 43\n",
    "    stop = start\n",
    "    return start, stop"
   ]
  },
  {
   "cell_type": "code",
   "execution_count": 106,
   "metadata": {
    "ExecuteTime": {
     "end_time": "2018-09-07T21:01:50.602157Z",
     "start_time": "2018-09-07T21:01:50.598609Z"
    }
   },
   "outputs": [],
   "source": [
    "start, stop = get_start_and_end(SF_sites)"
   ]
  },
  {
   "cell_type": "code",
   "execution_count": 107,
   "metadata": {
    "ExecuteTime": {
     "end_time": "2018-09-07T21:01:53.410065Z",
     "start_time": "2018-09-07T21:01:53.402415Z"
    }
   },
   "outputs": [],
   "source": [
    "def create_initial_route(start, stop, budget, tour_length, SF_sites, travel_matrix):\n",
    "    sites = list(SF_sites.keys())\n",
    "    path = [start]\n",
    "    not_valid = []\n",
    "    \n",
    "    o_budget = budget\n",
    "    o_tour_length = tour_length\n",
    "    \n",
    "    while ((budget > 0.1*o_budget) | (tour_length > 0.1*o_tour_length)) & ((budget > 0) & (tour_length > 0)):\n",
    "        \n",
    "        if len(path) == 1:\n",
    "            from_attraction = start\n",
    "            \n",
    "        possibilities = list(set(sites).difference(set(path + not_valid + [stop])))\n",
    "        \n",
    "        '''if there aren't any options left, break'''\n",
    "        if len(possibilities) == 0:\n",
    "                break\n",
    "        to_attraction = np.random.choice(possibilities)\n",
    "        \n",
    "        '''budget - ticket_prices - cost of traveling from location A to location B'''\n",
    "        budget = budget - SF_sites[to_attraction][3] - travel_matrix[1][from_attraction][to_attraction]\n",
    "        \n",
    "        '''tour_length - visit_length - time to travel from location A to location B'''\n",
    "        tour_length = tour_length - SF_sites[to_attraction][2] - travel_matrix[0][from_attraction][to_attraction]\n",
    "        \n",
    "        '''check that there is enough budget/time left to get to get to the stop location'''\n",
    "        if (budget > travel_matrix[1][to_attraction][stop]) & (tour_length > travel_matrix[0][to_attraction][stop]):\n",
    "            path.append(to_attraction)\n",
    "            from_attraction = to_attraction\n",
    "            \n",
    "        else:\n",
    "            '''if not, go back to the drawing board, and add the current site to the discard pile'''\n",
    "            not_valid.append(to_attraction)\n",
    "            '''add the budget and time back'''\n",
    "            budget = budget + SF_sites[to_attraction][3] + travel_matrix[1][from_attraction][to_attraction]\n",
    "            tour_length = tour_length + SF_sites[to_attraction][2] + travel_matrix[0][from_attraction][to_attraction]\n",
    "            \n",
    "    path.append(stop)\n",
    "\n",
    "    available_budget = budget - travel_matrix[1][path[-1]][stop]\n",
    "    available_tour_length = tour_length - travel_matrix[0][path[-1]][stop]\n",
    "    \n",
    "    score = Fitness(path).route_fitness()\n",
    "    \n",
    "    return path, score, [available_budget, available_tour_length]"
   ]
  },
  {
   "cell_type": "code",
   "execution_count": 108,
   "metadata": {
    "ExecuteTime": {
     "end_time": "2018-09-07T21:01:56.097374Z",
     "start_time": "2018-09-07T21:01:56.077869Z"
    }
   },
   "outputs": [],
   "source": [
    "current_route = create_initial_route(start, stop, budget, tour_length, SF_sites, travel_matrix)"
   ]
  },
  {
   "cell_type": "code",
   "execution_count": 123,
   "metadata": {
    "ExecuteTime": {
     "end_time": "2018-09-07T21:06:19.236216Z",
     "start_time": "2018-09-07T21:06:19.220896Z"
    },
    "scrolled": false
   },
   "outputs": [
    {
     "data": {
      "text/plain": [
       "([43, 61, 58, 75, 43],\n",
       " 613.5172286409822,\n",
       " [991.5222885641867, 3.6421675844009087])"
      ]
     },
     "execution_count": 123,
     "metadata": {},
     "output_type": "execute_result"
    }
   ],
   "source": [
    "current_route"
   ]
  },
  {
   "cell_type": "markdown",
   "metadata": {},
   "source": [
    "##### STRATEGY: Next SA Move"
   ]
  },
  {
   "cell_type": "code",
   "execution_count": 110,
   "metadata": {
    "ExecuteTime": {
     "end_time": "2018-09-07T21:02:02.391191Z",
     "start_time": "2018-09-07T21:02:02.378835Z"
    }
   },
   "outputs": [],
   "source": [
    "SF_sites_df = pd.DataFrame.from_dict(SF_sites).T"
   ]
  },
  {
   "cell_type": "code",
   "execution_count": 111,
   "metadata": {
    "ExecuteTime": {
     "end_time": "2018-09-07T21:02:05.086963Z",
     "start_time": "2018-09-07T21:02:05.083126Z"
    }
   },
   "outputs": [],
   "source": [
    "def get_route_locations(node_index, current_path):\n",
    "    node = current_path[node_index]\n",
    "    before_node = current_path[node_index-1]\n",
    "    after_node = current_path[node_index+1]\n",
    "    return node, before_node, after_node"
   ]
  },
  {
   "cell_type": "code",
   "execution_count": 112,
   "metadata": {
    "ExecuteTime": {
     "end_time": "2018-09-07T21:02:07.718219Z",
     "start_time": "2018-09-07T21:02:07.713493Z"
    }
   },
   "outputs": [],
   "source": [
    "def get_available_resources(node, before_node, after_node, current_path, leftover_budget, leftover_tour_length, SF_sites_df, travel_matrix):  \n",
    "    \n",
    "    '''add back the cost of travel to the site, travel from the site, and money spent at the site'''\n",
    "    available_budget = leftover_budget + travel_matrix[1][before_node][node] + travel_matrix[1][node][after_node] + SF_sites_df.loc[node][3]\n",
    "    \n",
    "    '''add back the time of travel to the site, travel from the site, and time spent at the site'''\n",
    "    available_tour_length = leftover_tour_length + travel_matrix[0][before_node][node] + travel_matrix[0][node][after_node] + SF_sites_df.loc[node][2]\n",
    "    return available_budget, available_tour_length"
   ]
  },
  {
   "cell_type": "code",
   "execution_count": 113,
   "metadata": {
    "ExecuteTime": {
     "end_time": "2018-09-07T21:02:10.217894Z",
     "start_time": "2018-09-07T21:02:10.210274Z"
    }
   },
   "outputs": [],
   "source": [
    "# def resource_spend(resource_matrix, before_node, after_node, available_budget, cost_series):\n",
    "#     new_resource_spend = (resource_matrix[before_node] + resource_matrix[after_node]).drop(labels=[before_node, after_node])\n",
    "#     new_budget = np.array([available_budget]*len(new_resource_spend)) - (cost_series.drop([before_node, after_node])) + new_resource_spend)\n",
    "#     return new_budget\n",
    "\n",
    "# def get_neighbors2(node_index, current_path, budget, tour_length, SF_sites_df, travel_matrix):\n",
    "#     ''' neighbors are any individuals that when inserted for a node, do not exceed the defined cost limits'''\n",
    "    \n",
    "#     '''**available resources are the following'''\n",
    "    \n",
    "#     '''current_state locations'''\n",
    "#     node, before_node, after_node = get_route_locations(node_index, current_path)\n",
    "    \n",
    "#     '''$ and time resources'''\n",
    "#     available_budget, available_tour_length = get_available_resources(node, before_node, after_node, current_path, tour_length, SF_sites_df, travel_matrix)\n",
    "    \n",
    "#     '''**prune the available total possible solutions to a more workable list'''\n",
    "    \n",
    "#     '''remove all node locations that are in the current path'''\n",
    "#     all_sites = list(SF_sites_df.index)\n",
    "#     possible_sites = set(all_sites).difference(set(current_path))\n",
    "    \n",
    "#     '''**prune: for insertions: remove all node locations that are outside the available budget and tour length'''\n",
    "#     new_final_budget = resource_spend(travel_matrix[1], before_node, after_node, available_budget, SF_sites_df[3])\n",
    "    \n",
    "#     new_final_tour_lengths = resource_spend(travel_matrix[0], before_node, after_node, available_budget, SF_sites_df[2])\n",
    "    \n",
    "#     '''check neighbors for viability'''\n",
    "#     neighbors = new_final_tour_lengths[(new_final_budget >= 0) & (new_final_tour_lengths >= 0) & ((new_final_budget < .15*budget) | (new_final_tour_lengths < .15*tour_length))]\n",
    "    \n",
    "#     return neighbors.index\n",
    "    \n",
    "    \n",
    "def get_neighbors(node_index, current_path, leftover_budget, leftover_tour_length, SF_sites_df, travel_matrix):\n",
    "    ''' neighbors are any individuals that when inserted for a node, do not exceed the defined cost limits'''\n",
    "    \n",
    "    '''**available resources are the following'''\n",
    "    \n",
    "    '''current_state locations'''\n",
    "    node, before_node, after_node = get_route_locations(node_index, current_path)\n",
    "    \n",
    "    '''$ and time resources'''\n",
    "    available_budget, available_tour_length = get_available_resources(node, before_node, after_node, current_path, leftover_budget, leftover_tour_length, SF_sites_df, travel_matrix)\n",
    "    \n",
    "    '''**prune the available total possible solutions to a more workable list'''\n",
    "    \n",
    "    '''remove all node locations that are in the current path'''\n",
    "    all_sites = list(SF_sites_df.index)\n",
    "    possible_sites = set(all_sites).difference(set(current_path))\n",
    "    \n",
    "    '''**prune: for insertions: remove all node locations that are outside the available budget and tour length'''\n",
    " \n",
    "    new_travel_costs = (travel_matrix[1][before_node] + travel_matrix[1][after_node]).drop(labels=[before_node, node, after_node])\n",
    "    new_final_budget = np.array([available_budget]*len(new_travel_costs)) - (SF_sites_df[3].drop([before_node, node, after_node]) + new_travel_costs)\n",
    "    new_final_budget.name = 'final_budget'\n",
    "    \n",
    "    new_travel_lengths = (travel_matrix[0][before_node] + travel_matrix[0][after_node]).drop(labels=[before_node, node, after_node])\n",
    "    new_final_tour_length = np.array([available_tour_length]*len(new_travel_lengths)) - (SF_sites_df[2].drop([before_node, node, after_node]) + new_travel_lengths)\n",
    "    new_final_tour_length.name = 'final_tour_length'\n",
    "    \n",
    "    nodes_to_check = pd.concat([new_final_budget, new_final_tour_length], axis=1)\n",
    "    \n",
    "    '''check neighbors for viability'''\n",
    "    neighbors = nodes_to_check[((nodes_to_check['final_budget'] >= 0) & (nodes_to_check['final_tour_length'] >= 0)) & ((nodes_to_check['final_budget'] < .15*budget) | (nodes_to_check['final_tour_length'] < .15*tour_length))]\n",
    "    return neighbors.index\n",
    "    "
   ]
  },
  {
   "cell_type": "code",
   "execution_count": 114,
   "metadata": {
    "ExecuteTime": {
     "end_time": "2018-09-07T21:02:12.635041Z",
     "start_time": "2018-09-07T21:02:12.620027Z"
    }
   },
   "outputs": [],
   "source": [
    "class get_new_route():\n",
    "    \n",
    "    def __init__(self, current_route, budget, tour_length, SF_sites_df, travel_matrix):\n",
    "        self.name = 'routing'\n",
    "        \n",
    "        self.current_route = current_route[0]\n",
    "        self.score = current_route[1]\n",
    "        self.o_budget = budget\n",
    "        self.o_tour_length = tour_length\n",
    "        self.leftover_budget = current_route[2][0]\n",
    "        self.leftover_tour_length = current_route[2][1]\n",
    "        self.SF_sites_df = SF_sites_df\n",
    "        self.travel_matrix = travel_matrix\n",
    "        \n",
    "        self.length = len(current_route[0])\n",
    "        self.max_loops = self.length\n",
    "        \n",
    "    def roulette(self):\n",
    "        num_options = 0\n",
    "        if self.length < 4:\n",
    "            num_options = 2\n",
    "        else:\n",
    "            num_options = 3\n",
    "        \n",
    "        wait_and_see = np.random.choice(range(num_options)) \n",
    "        node_index = np.random.choice(range(1, self.length-1), size=(num_options - 1,), replace=False)\n",
    "        \n",
    "        return wait_and_see, node_index\n",
    "    \n",
    "    def next_move(self, wait_and_see, node_index):\n",
    "        if wait_and_see == 0:\n",
    "            return self.insertion(node_index[0], self.current_route)\n",
    "        elif wait_and_see == 1:\n",
    "            return self.deletion(node_index[0], self.current_route)\n",
    "        elif wait_and_see == 2:\n",
    "            return self.mutation(node_index, self.current_route)\n",
    "        \n",
    "    def get_neighbors(self, node_index, current_route):\n",
    "        neighbors = get_neighbors(node_index, current_route, self.leftover_budget, self.leftover_tour_length, self.SF_sites_df, self.travel_matrix)\n",
    "        return neighbors\n",
    "    \n",
    "    def insertion(self, node_index, current_route):\n",
    "        wait_and_see = 0\n",
    "        neighbors = self.get_neighbors(node_index, current_route)\n",
    "        \n",
    "        trials = 0\n",
    "        while ((len(neighbors) == 0) & (trials < self.max_loops)):\n",
    "            node_index = np.random.choice(range(1, self.length-1))\n",
    "            neighbors = self.get_neighbors(node_index, current_route)\n",
    "            trials += 1\n",
    "            \n",
    "        if trials == self.max_loops:\n",
    "            return current_route\n",
    "#             wait_and_see, node_index = self.roulette()\n",
    "#             return self.next_move(wait_and_see, node_index)\n",
    "        \n",
    "        neighbor = np.random.choice(neighbors)\n",
    "        candidate_0 = current_route[:node_index] + [neighbor] + current_route[node_index:]  \n",
    "        return candidate_0\n",
    "    \n",
    "    def deletion(self, node_index, current_route):\n",
    "        candidate_0 = current_route[:node_index] + current_route[(node_index+1):] \n",
    "        return candidate_0\n",
    "    \n",
    "    def mutation(self, indices, current_route):\n",
    "        indices = sorted(indices)\n",
    "        candidate_0 = current_route\n",
    "        for index in range(indices[0], indices[1]+1):\n",
    "            candidate_0 = self.insertion(index, candidate_0)\n",
    "            candidate_0 = self.deletion((index+1), candidate_0)\n",
    "        return candidate_0\n",
    "    \n",
    "    def get_surviving_candidate(self, node_index, wait_and_see, candidate_0):\n",
    "        candidate = tag_survival(candidate_0, self.o_budget, self.o_tour_length, self.SF_sites_df, self.travel_matrix)\n",
    "        trials = 0\n",
    "        \n",
    "        while ((candidate == '') & (trials < self.max_loops)):\n",
    "            wait_and_see, node_index = self.roulette()\n",
    "            candidate = self.next_move(wait_and_see, node_index)\n",
    "            candidate = tag_survival(candidate, self.o_budget, self.o_tour_length, self.SF_sites_df, self.travel_matrix)\n",
    "            trials += 1\n",
    "        \n",
    "        if (trials == self.max_loops):\n",
    "            wait_and_see, node_index = self.roulette()\n",
    "            candidate = self.next_move(wait_and_see, node_index)\n",
    "            candidate = self.get_surviving_candidate(node_index, wait_and_see, candidate)\n",
    "\n",
    "#         new_route = get_new_route(candidate, SF_sites_df, travel_matrix)\n",
    "#         print(new_route.score)\n",
    "        return candidate\n",
    "         "
   ]
  },
  {
   "cell_type": "code",
   "execution_count": 115,
   "metadata": {
    "ExecuteTime": {
     "end_time": "2018-09-07T21:02:15.049967Z",
     "start_time": "2018-09-07T21:02:15.045953Z"
    },
    "scrolled": false
   },
   "outputs": [],
   "source": [
    "def get_candidate(current_route, budget, tour_length, SF_sites_df, travel_matrix):\n",
    "    current_route = get_new_route(current_route, budget, tour_length, SF_sites_df, travel_matrix)\n",
    "    wait_and_see, node_index = route_updates.roulette()\n",
    "    candidate = route_updates.next_move(wait_and_see, node_index)\n",
    "    current_route = route_updates.get_surviving_candidate(node_index, wait_and_see, candidate)\n",
    "    return current_route"
   ]
  },
  {
   "cell_type": "code",
   "execution_count": 116,
   "metadata": {
    "ExecuteTime": {
     "end_time": "2018-09-07T21:02:17.645291Z",
     "start_time": "2018-09-07T21:02:17.636746Z"
    }
   },
   "outputs": [],
   "source": [
    "def tag_survival(candidate, budget, tour_length, SF_sites_df, travel_matrix):\n",
    "    o_budget = budget\n",
    "    o_tour_length = tour_length\n",
    "    \n",
    "    for index in range(len(candidate)-1):\n",
    "        site_A = candidate[index]\n",
    "        site_B = candidate[index+1]\n",
    "        \n",
    "        '''budget - ticket_prices - cost of traveling from location A to location B'''\n",
    "        budget = budget - SF_sites_df.loc[site_B][3] - travel_matrix[1][site_A][site_B]\n",
    "\n",
    "        '''tour_length - visit_length - time to travel from location A to location B'''\n",
    "        tour_length = tour_length - SF_sites_df.loc[site_B][2] - travel_matrix[0][site_A][site_B]\n",
    "        \n",
    "        if (budget < 0) | (tour_length < 0):\n",
    "            return ''\n",
    "    \n",
    "    leftover_budget = budget\n",
    "    leftover_tour_length = tour_length\n",
    "        \n",
    "    if ((leftover_budget <= 0.15*o_budget) | (leftover_tour_length <= 0.15*o_tour_length)):\n",
    "        score = Fitness(candidate).route_fitness()\n",
    "        return candidate, score, [leftover_budget, leftover_tour_length]\n",
    "    else:\n",
    "        return ''\n",
    "\n"
   ]
  },
  {
   "cell_type": "code",
   "execution_count": 117,
   "metadata": {
    "ExecuteTime": {
     "end_time": "2018-09-07T21:02:20.364399Z",
     "start_time": "2018-09-07T21:02:20.360622Z"
    }
   },
   "outputs": [],
   "source": [
    "def probability_move(current_path, candidate, temperature):\n",
    "    \n",
    "    '''fitness is recorded in <path>[1]'''\n",
    "    '''if the candidate is better, return a probability of 1 for updating'''\n",
    "    if (current_path[1] - candidate[1]) < 0.001:\n",
    "        return 1\n",
    "    else:\n",
    "        ''' let the cooling function handle the updating probability'''\n",
    "        return math.exp(-abs(current_path[1] - candidate[1])/temperature)"
   ]
  },
  {
   "cell_type": "code",
   "execution_count": 118,
   "metadata": {
    "ExecuteTime": {
     "end_time": "2018-09-07T21:02:22.804491Z",
     "start_time": "2018-09-07T21:02:22.800708Z"
    }
   },
   "outputs": [],
   "source": [
    "def update_path(current_path, candidate, temperature):\n",
    "    p_prob = probability_move(current_path, candidate, temperature)\n",
    "    if np.random.random() < p_prob:\n",
    "        current_path = candidate\n",
    "        return candidate\n",
    "    return current_path"
   ]
  },
  {
   "cell_type": "code",
   "execution_count": 119,
   "metadata": {
    "ExecuteTime": {
     "end_time": "2018-09-07T21:02:25.342931Z",
     "start_time": "2018-09-07T21:02:25.339783Z"
    }
   },
   "outputs": [],
   "source": [
    "def propagate_change(current_route, budget, tour_length, SF_sites, travel_matrix, temperature):\n",
    "    candidate = get_candidate(current_route, budget, tour_length, SF_sites, travel_matrix)\n",
    "    updated_route = update_path(current_route, candidate, temperature)\n",
    "    return updated_route"
   ]
  },
  {
   "cell_type": "code",
   "execution_count": 125,
   "metadata": {
    "ExecuteTime": {
     "end_time": "2018-09-07T21:08:06.208252Z",
     "start_time": "2018-09-07T21:08:06.109501Z"
    },
    "scrolled": true
   },
   "outputs": [
    {
     "data": {
      "text/plain": [
       "([43, 105, 262, 210, 43],\n",
       " 1167.3532107670858,\n",
       " [975.9870288953833, 41.50468306407883])"
      ]
     },
     "execution_count": 125,
     "metadata": {},
     "output_type": "execute_result"
    }
   ],
   "source": [
    "propagate_change(current_route, budget, tour_length, SF_sites, travel_matrix, 90)"
   ]
  },
  {
   "cell_type": "code",
   "execution_count": 139,
   "metadata": {
    "ExecuteTime": {
     "end_time": "2018-09-07T21:31:44.443653Z",
     "start_time": "2018-09-07T21:31:44.435699Z"
    }
   },
   "outputs": [],
   "source": [
    "def simulated_annealing_plot(budget, tour_length, SF_sites, travel_matrix, temperature=100, stopping_temperature=0.00000001, max_iterations=10000, alpha=0.995):\n",
    "    np.random.seed(52)\n",
    "    iteration = 1\n",
    "\n",
    "    start, stop = get_start_and_end(SF_sites)\n",
    "    \n",
    "    '''create an initial route'''\n",
    "    current_route = create_initial_route(start, stop, budget, tour_length, SF_sites, travel_matrix)\n",
    "\n",
    "    progress = []\n",
    "    routes = []\n",
    "    \n",
    "    '''keep track of score from initial selection'''\n",
    "    initial_score = current_route[1]\n",
    "    progress.append(current_route[1])\n",
    "    print(progress)\n",
    "    \n",
    "    '''keep track of route from initial selection'''\n",
    "    routes.append(current_route)\n",
    "    \n",
    "        \n",
    "    '''modify and iterate until temperature has cooled or iterations have been hit'''\n",
    "    while (temperature > stopping_temperature) & (iteration < max_iterations):\n",
    "        '''get a candidate'''\n",
    "        \n",
    "        current_route = propagate_change(current_route, budget, tour_length, SF_sites, travel_matrix, temperature)\n",
    "        \n",
    "        if (iteration % 50 == 0) :\n",
    "            print(iteration, temperature, progress[-1])\n",
    "        \n",
    "            '''not bonanza!!!!! raise temperature by '''\n",
    "            if len(progress) > 50 and (progress[-50] == progress[-1]):\n",
    "                temperature *= 2-alpha/(2*50)\n",
    "        else:\n",
    "            '''decrease per usual'''\n",
    "            temperature *= alpha\n",
    "        \n",
    "        '''iter-plus'''\n",
    "        iteration += 1\n",
    "        \n",
    "        '''keep track of the best score & route from the current generation'''\n",
    "        progress.append(current_route[1])\n",
    "        \n",
    "        routes.append(current_route)\n",
    "    \n",
    "        \n",
    "    '''create the plot'''\n",
    "    plt.plot(progress)\n",
    "    plt.ylabel('Fitness Score')\n",
    "    plt.xlabel('Iteration')\n",
    "    plt.show()\n",
    "    \n",
    "    best_score_index = np.argmax(np.array(progress))\n",
    "    best_score = progress[best_score_index] \n",
    "    best_route = routes[best_score_index]\n",
    "    print(best_score, best_route)\n",
    "    \n",
    "    return progress, route, best_score_index "
   ]
  },
  {
   "cell_type": "code",
   "execution_count": 140,
   "metadata": {
    "ExecuteTime": {
     "end_time": "2018-09-07T21:37:27.516384Z",
     "start_time": "2018-09-07T21:31:47.049633Z"
    },
    "scrolled": true
   },
   "outputs": [
    {
     "name": "stdout",
     "output_type": "stream",
     "text": [
      "[862.7377922806172]\n",
      "10 95.58895783575595 1594.4019476567012\n",
      "20 91.37248860125932 1594.4019476567012\n",
      "30 170.33875422735107 1543.4929117131724\n",
      "40 162.82503995633462 1543.4929117131724\n",
      "50 303.5422903300289 1196.9838805169788\n",
      "60 290.1529119172593 1286.2784880653326\n",
      "70 277.3541446318072 1230.9213827320164\n",
      "80 265.1199363678198 1563.1607665445833\n",
      "90 253.42538418881836 1563.1607665445833\n",
      "100 472.44159476374597 1151.6291745142341\n",
      "110 451.6019968172902 1828.0428352146873\n",
      "120 431.6816423231116 1286.1999868937205\n",
      "130 412.639983064938 1253.7648535273715\n",
      "140 394.43825942541423 1445.7332971408957\n",
      "150 377.0394214902489 1286.8512929149001\n",
      "160 360.4080536324922 1513.7225339614188\n",
      "170 344.51030242343177 1304.9300294831944\n",
      "180 329.31380772336956 1099.120814750383\n",
      "190 314.7876368120142 1275.2961674879236\n",
      "200 300.90222142440894 1495.7983357658209\n",
      "210 287.62929756423136 1591.879410902256\n",
      "220 274.9418479719542 1591.879410902256\n",
      "230 512.5530954167638 1195.4177901890898\n",
      "240 489.94416226379235 1052.6624991062608\n",
      "250 468.33251868508427 1421.5544563897952\n",
      "260 447.6741738170191 1022.0005584844876\n",
      "270 427.9270772515193 980.6035966241884\n",
      "280 409.0510334417376 940.1917373700422\n",
      "290 391.00761988334665 945.3298328240417\n",
      "300 373.76010890488516 1315.0934840311174\n",
      "310 357.27339290796624 1381.664176894994\n",
      "320 341.51391290517057 972.258872597554\n",
      "330 326.4495902101638 1338.8968792034525\n",
      "340 312.04976114099156 864.2522012404446\n",
      "350 298.28511460363956 1502.3488550360582\n",
      "360 285.1276324288094 950.1078906413577\n",
      "370 272.550532340464 1925.2380363947639\n",
      "380 260.52821344005457 1925.2380363947639\n",
      "390 485.682857037175 1491.1127019161897\n",
      "400 464.2591814287601 623.855358152992\n",
      "410 443.7805131845633 1290.4660208507257\n",
      "420 424.20516763129365 1346.5765644305159\n",
      "430 405.49329882417516 1399.4079695308203\n",
      "440 387.6068184398568 1426.9596504015578\n",
      "450 370.50931824698984 733.5084673211516\n",
      "460 354.16599599666193 1263.3370355243537\n",
      "470 338.54358458183435 1380.383015731918\n",
      "480 323.61028432158645 1437.6197230039313\n",
      "490 309.33569823233125 1107.5864160591734\n",
      "500 295.69077015424443 1461.9958017675865\n",
      "510 282.64772560696275 2010.3560209485347\n",
      "520 270.18001525416287 1456.5871951818049\n",
      "530 258.26226086194083 1184.8253178347068\n",
      "540 246.8702036409907 1145.8237924431712\n",
      "550 235.98065486743147 1155.6936407372293\n",
      "560 225.57144868176985 884.8932023853191\n",
      "570 215.6213969699209 1267.122548921476\n",
      "580 206.11024623444567 1505.318112492012\n",
      "590 197.01863636821705 1297.7628577603186\n",
      "600 188.32806124659638 884.6231632707015\n",
      "610 180.02083105790567 1608.0236801537344\n",
      "620 172.08003629551894 1132.5706813838935\n",
      "630 164.48951333827716 1263.3370355243537\n",
      "640 157.233811549166 1061.4263154287528\n",
      "650 150.29816182528427 1566.9094529309225\n",
      "660 143.6684465350873 1566.9094529309225\n",
      "670 267.8301158170303 852.3108501495192\n",
      "680 256.01601647979743 779.2334579466042\n",
      "690 244.72304204565557 1642.4915720446031\n",
      "700 233.92820547540109 1494.7829978347152\n",
      "710 223.60953369782175 1711.62007092404\n",
      "720 213.74602288314134 1730.999525791203\n",
      "730 204.31759568937125 1250.026595244365\n",
      "740 195.30506039454343 1445.7332971408957\n",
      "750 186.69007183163788 2010.3560209485347\n",
      "760 178.45509404668684 2010.3560209485347\n",
      "770 332.68020681904096 2010.3560209485347\n",
      "780 620.1903095027658 911.6064237570642\n",
      "790 592.8334534520432 1230.9213827320164\n",
      "800 566.6833198565296 1189.4351468628297\n",
      "810 541.6866796799202 1388.7456649432004\n",
      "820 517.7926518411452 1308.2650054086544\n",
      "830 494.952599645075 1323.918861636417\n",
      "840 473.1200317817088 559.810370407722\n",
      "850 452.2505076923328 1315.9992140300837\n",
      "860 432.30154711001626 1215.7775741120115\n",
      "870 413.23254359031415 527.6822359030725\n",
      "880 395.0046818561672 1319.4597856379055\n",
      "890 377.58085878875363 1457.7810356198527\n",
      "900 360.92560790346687 1262.1614557592286\n",
      "910 345.00502715729084 1084.3486080490122\n",
      "920 329.7867099406211 1612.0648130464524\n",
      "930 614.7961841902592 777.8669798270669\n",
      "940 587.6772652814635 1206.7812227052284\n",
      "950 561.7545733202218 1132.5706813838935\n",
      "960 536.9753422314976 740.6772465989025\n",
      "970 513.2891334740725 1768.2647567857696\n",
      "980 490.6477333720483 751.4980451783547\n",
      "990 469.00505497509965 1204.6793293018825\n",
      "1000 448.31704424771203 1500.2156647899808\n",
      "1010 428.5415903964528 1286.2784880653326\n",
      "1020 409.6384401527432 1220.064281395052\n",
      "1030 391.5691158366542 1062.125619671379\n",
      "1040 374.2968370349418 1498.700801272659\n",
      "1050 357.7864457338988 1267.345945375426\n",
      "1060 342.0043347546264 1132.5706813838935\n",
      "1070 326.9183793450575 1483.4852025253635\n",
      "1080 312.49787178948367 1283.4764911559355\n",
      "1090 298.71345890248426 1223.472586595124\n",
      "1100 285.53708228002387 1119.9279118602562\n",
      "1110 272.9419211860999 1117.6118443586736\n",
      "1120 260.90233795868323 1980.4388712950542\n",
      "1130 249.39382582382734 1980.4388712950542\n",
      "1140 464.92586831260104 1108.2204206594813\n",
      "1150 444.4177922288545 1204.3615021775508\n",
      "1160 424.8143360282373 1255.1822700021273\n",
      "1170 406.07559654627846 1495.780043455329\n",
      "1180 388.16343076391667 1215.1319845481846\n",
      "1190 371.0413781667441 1667.384746967007\n",
      "1200 354.6745865290169 1369.2700293915839\n",
      "1210 339.02974097136376 1495.7983357658209\n",
      "1220 324.0749961477896 952.0000161410026\n",
      "1230 309.77991142393836 960.5651625083111\n",
      "1240 296.1153889146706 1266.0328585359462\n",
      "1250 283.05361425482926 1160.5006773623475\n",
      "1260 270.5679999826321 1213.6256614368708\n",
      "1270 258.63313142044643 1162.2149959139153\n",
      "1280 247.22471494278585 888.7188270038944\n",
      "1290 236.3195285262275 884.8932023853191\n",
      "1300 225.89537448059284 1232.7598262703648\n",
      "1310 215.93103426517695 1168.399332595668\n",
      "1320 206.40622529805174 1546.4497623694836\n",
      "1330 197.3015596705301 1546.4497623694836\n",
      "1340 367.814233757537 1491.127325943391\n",
      "1350 351.589792820401 1518.7952140121918\n",
      "1360 336.0810188139148 1641.7542715532381\n",
      "1370 321.2563433680121 1206.6772627703876\n",
      "1380 307.0855906067404 818.1736075416859\n",
      "1390 293.53991572475934 737.2570417404256\n",
      "1400 280.59174627325376 1402.5458369827425\n",
      "1410 268.21472603575194 1434.3596552512665\n",
      "1420 256.38366137960327 1066.5002920903426\n",
      "1430 245.0744699739163 1491.1127019161897\n",
      "1440 234.26413176956927 1577.7915422442709\n",
      "1450 223.93064214151335 1495.780043455329\n",
      "1460 214.05296709798878 1495.780043455329\n",
      "1470 399.04260365780453 1119.9279118602562\n",
      "1480 381.44066615716156 1173.4496864475207\n",
      "1490 364.6151575413958 1159.9088808988415\n",
      "1500 348.53182920502 1608.0236801537344\n",
      "1510 333.15794326297555 1566.9094529309225\n",
      "1520 318.4622059121175 1681.5791897416746\n",
      "1530 304.4147037321524 2019.1938312219709\n",
      "1540 290.9868427963686 775.0819360062455\n",
      "1550 278.1512904682183 1600.7646686767962\n",
      "1560 265.88191976527634 1139.186102406221\n",
      "1570 254.15375617732855 1349.8625569000244\n",
      "1580 242.9429268303366 1452.5975159658249\n",
      "1590 232.2266118928019 1007.3736686460879\n",
      "1600 221.98299812561504 1594.4019476567012\n",
      "1610 212.19123448084108 1147.6066897812398\n",
      "1620 202.8313896590612 1269.5983288484656\n",
      "1630 193.8844115388779 1491.1127019161897\n",
      "1640 185.33208839600155 1649.0961015001023\n",
      "1650 177.1570118329799 1649.0961015001023\n",
      "1660 330.2602912563552 1381.750440023756\n",
      "1670 315.6923705572821 1925.2380363947639\n",
      "1680 301.7670469826989 1925.2380363947639\n",
      "1690 562.5612658336966 1496.5875894516164\n",
      "1700 537.7464511980673 1534.7512216332118\n",
      "1710 514.0262284989946 935.6634808676428\n",
      "1720 491.3523148246305 1025.2424375455453\n",
      "1730 469.678557042727 1168.8246575757605\n",
      "1740 448.9608378551593 1249.3337215373447\n",
      "1750 429.15698599642496 1343.8263261225663\n",
      "1760 410.2266903933238 1151.840859069784\n",
      "1770 392.1314181110915 1487.8895992357272\n",
      "1780 374.8343359189632 1278.293980027369\n",
      "1790 358.30023531551353 1167.3532107670858\n",
      "1800 342.49546086116067 1609.804461627514\n",
      "1810 327.3878416719529 1445.3786161397015\n",
      "1820 312.9466259351946 1121.9558668198542\n",
      "1830 299.1424183136142 1491.127325943391\n",
      "1840 285.94712011066144 1491.1127019161897\n",
      "1850 273.33387207513863 1344.2448852588163\n",
      "1860 261.2769997287434 717.4674285980598\n",
      "1870 249.75196110523683 1459.2568344958358\n",
      "1880 238.73529679485847 819.2659036629676\n",
      "1890 228.20458219230412 1593.1047123730625\n",
      "1900 218.13838185106465 1442.7387686474465\n",
      "1910 208.51620585121452 1266.0328585359462\n",
      "1920 199.31846809183554 1437.6197230039313\n",
      "1930 190.52644642317935 873.7301794546374\n",
      "1940 182.12224453741712 836.1023451397944\n",
      "1950 174.088755540404 1770.8552696683475\n",
      "1960 166.40962713030908 1770.8552696683475\n",
      "1970 310.22476251592633 1162.0643427558687\n"
     ]
    },
    {
     "name": "stdout",
     "output_type": "stream",
     "text": [
      "1980 296.5406174374228 1335.588488045539\n",
      "1990 283.4600857681484 460.592037817462\n",
      "2000 270.95654186611307 1437.6197230039313\n",
      "2010 259.0045345576213 1213.160808613239\n",
      "2020 247.5797353309806 1008.0614951099924\n",
      "2030 236.6588888154073 1608.0236801537344\n",
      "2040 226.21976544432826 1770.8552696683475\n",
      "2050 216.24111620672497 1603.1261389226663\n",
      "2060 206.70262939441443 1603.1261389226663\n",
      "2070 385.3399302739045 1445.9144127654833\n",
      "2080 368.34242347385396 944.012339090232\n",
      "2090 352.0946838656239 1390.2958165827235\n",
      "2100 336.5636389022495 1491.1127019161897\n",
      "2110 321.7176748807573 1286.2784880653326\n",
      "2120 307.52657259194154 1645.8800518014716\n",
      "2130 293.9614458086565 1372.3576496849903\n",
      "2140 280.99468248741533 1168.8246575757605\n",
      "2150 268.59988856361184 1504.9486860433867\n",
      "2160 256.7518342259585 1303.283938030689\n",
      "2170 245.4264025607815 1372.3576496849903\n",
      "2180 234.60054046163813 1226.048239372207\n",
      "2190 224.25221170433085 1226.3156466539385\n",
      "2200 214.36035209180298 1534.0160315085247\n",
      "2210 204.90482657761163 882.6611823571418\n",
      "2220 195.86638828070207 1965.2034087728468\n",
      "2230 187.22663930805834 1965.2034087728468\n",
      "2240 349.03232894401776 1495.7983357658209\n",
      "2250 333.63636574745425 1193.6735325542322\n",
      "2260 318.9195249790826 1636.6809080402243\n",
      "2270 304.8518502622485 1394.0613227640536\n",
      "2280 291.4047066087026 1244.285618428526\n",
      "2290 278.5507221316012 1609.804461627514\n",
      "2300 266.2637323295701 1283.4764911559355\n",
      "2310 254.5187268284229 1594.4019476567012\n",
      "2320 243.2917984721241 1244.287301541514\n",
      "2330 232.56009465937103 1567.4228452390234\n",
      "2340 222.30177082674032 1226.3156466539385\n",
      "2350 212.49594598371166 1121.9558668198542\n",
      "2360 203.1226602090609 1456.5871951818049\n",
      "2370 194.1628340221051 1744.3348232599187\n",
      "2380 185.5982295460989 1491.1127019161897\n",
      "2390 177.41141338473003 1495.7983357658209\n",
      "2400 169.5857211361483 1495.7983357658209\n",
      "2410 316.14571207684423 1412.5389287396827\n",
      "2420 302.20039141668514 1483.4852025253635\n",
      "2430 288.87020473078474 1524.4019619686298\n",
      "2440 276.12801820017165 1536.2389390754747\n",
      "2450 263.9478948900707 1609.804461627514\n",
      "2460 252.30504195483513 767.4998683000211\n",
      "2470 241.17576017169375 1263.5890605689463\n",
      "2480 230.53739570058428 1502.3488550360582\n",
      "2490 220.36829397188143 1132.5706813838935\n",
      "2500 210.64775560815644 1276.0506632861686\n",
      "2510 201.35599429024694 1381.750440023756\n",
      "2520 192.47409648187138 1194.5836575027647\n",
      "2530 183.98398293080828 1457.7810356198527\n",
      "2540 175.8683718682748 1220.1837415126722\n",
      "2550 168.1107438315957 1330.6370972672992\n",
      "2560 160.69530803855977 1473.243464542295\n",
      "2570 153.60697024501707 1063.751998520093\n",
      "2580 146.83130202029156 1267.122548921476\n",
      "2590 140.354511377868 1609.804461627514\n",
      "2600 134.16341470157155 1770.8552696683475\n",
      "2610 128.24540991009565 1770.8552696683475\n",
      "2620 239.07812618294608 1025.2424375455453\n",
      "2630 228.53228923153176 1255.1822700021273\n",
      "2640 218.45163359461677 1189.6406651832613\n",
      "2650 208.81563992827833 945.5568603414438\n",
      "2660 199.60469400550593 1147.6066897812398\n",
      "2670 190.80004679111275 1612.3979356970922\n",
      "2680 182.3837762777594 1547.5225102508095\n",
      "2690 174.3387510054069 1547.5225102508095\n",
      "2700 325.0064227691843 1168.5072697334283\n",
      "2710 310.6702524243344 1426.9596504015578\n",
      "2720 296.9664565981337 2010.3560209485347\n",
      "2730 283.86714098392855 2010.3560209485347\n",
      "2740 529.1918377345783 978.9729740913149\n",
      "2750 505.84896264236824 1220.1837415126722\n",
      "2760 483.5357516128223 1107.5864160591734\n",
      "2770 462.2067857299864 976.8981708621591\n",
      "2780 441.8186495254397 1541.3174523682449\n",
      "2790 422.32984260537893 1291.2561687678053\n",
      "2800 403.7006951758702 1291.2561687678053\n",
      "2810 752.5883835457403 1572.8226544824977\n",
      "2820 719.3913926243349 1381.750440023756\n",
      "2830 687.6587349697331 907.5910746446293\n",
      "2840 657.3258182241111 564.8296582472612\n",
      "2850 628.3308992257835 494.20877820233244\n",
      "2860 600.6149583299605 829.4513576741635\n",
      "2870 574.1215792732692 1426.9596504015578\n",
      "2880 548.7968343375015 1305.4482921442377\n",
      "2890 524.5891745788377 993.8189006541365\n",
      "2900 501.4493248991054 1380.383015731918\n",
      "2910 479.33018374548874 1007.3736686460879\n",
      "2920 458.1867272345268 1306.189168873462\n",
      "2930 437.97591750524214 1388.7456649432004\n",
      "2940 418.6566151148512 1167.3532107670858\n",
      "2950 400.1894952987382 1491.1127019161897\n",
      "2960 382.5369679242355 852.3108501495192\n",
      "2970 365.66310097527673 967.7372025312513\n",
      "2980 349.53354741217504 1198.4761996925834\n",
      "2990 334.11547525764615 1547.5225102508095\n",
      "3000 319.3775007667669 1412.00745696205\n",
      "3010 305.28962454483593 1211.4953332271184\n",
      "3020 291.82317048310097 1271.0928293128804\n",
      "3030 278.95072738805766 1426.9596504015578\n",
      "3040 266.646093185505 1284.0189220138418\n",
      "3050 254.88422158578297 1454.5264642629672\n",
      "3060 243.64117110162888 960.5651625083111\n",
      "3070 232.89405631487807 1491.127325943391\n",
      "3080 222.62100129281058 1558.6811551590629\n",
      "3090 212.80109505932245 1558.6811551590629\n",
      "3100 396.7088341963088 539.9803434896212\n",
      "3110 379.2098402506287 1033.1709844811855\n",
      "3120 362.48273430621094 882.8437631463717\n",
      "3130 346.49346805785933 1534.7512216332118\n",
      "3140 331.2094950854756 864.3934958117693\n",
      "3150 316.59970460527546 1187.0502597526206\n",
      "3160 302.6343581432647 1642.4915720446031\n",
      "3170 289.28502900207604 2010.3560209485347\n",
      "3180 276.52454439794894 2010.3560209485347\n",
      "3190 515.5035955251773 2010.3560209485347\n",
      "3200 961.0139945369591 776.1471361538051\n",
      "3210 918.6232620336481 1269.5983288484656\n",
      "3220 878.1024026147901 1515.402638500948\n",
      "3230 839.3689353902118 990.7968914159583\n",
      "3240 802.3440177365834 991.9004510588454\n",
      "3250 766.9522848119332 1494.9786243163983\n",
      "3260 733.1216961492457 959.4858831364339\n",
      "3270 700.7833890168814 1200.0123459840331\n",
      "3280 669.8715382473287 891.8245775036517\n",
      "3290 640.3232222489688 1559.9202754947762\n",
      "3300 612.0782949281207 1285.503141575885\n",
      "3310 585.0792632606554 1770.8552696683475\n",
      "3320 559.2711702639796 1263.5890605689463\n",
      "3330 534.6014831311745 1253.7648535273715\n",
      "3340 511.0199862995845 527.1860361986146\n",
      "3350 488.4786792361957 1121.9558668198542\n",
      "3360 466.93167873174474 2010.3560209485347\n",
      "3370 446.335125504675 1024.7762468990582\n",
      "3380 426.6470949248323 1211.7947356119698\n",
      "3390 407.82751167517563 1369.2700293915839\n",
      "3400 389.8380681777964 942.0954394940732\n",
      "3410 372.64214661819943 881.8399811746364\n",
      "3420 356.2047444091265 1250.026595244365\n",
      "3430 340.49240294220226 1572.8226544824977\n",
      "3440 325.4731394823741 1572.8226544824977\n",
      "3450 606.7547241252263 1162.0643427558687\n",
      "3460 579.9905174105202 941.5355858249889\n",
      "3470 554.4068911389251 927.4085446098031\n",
      "3480 529.9517694093126 1186.016418377655\n",
      "3490 506.57537341051057 1202.344735476114\n",
      "3500 484.23012009569635 1834.6038830871546\n",
      "3510 462.87052532630577 1639.7632154418686\n",
      "3520 442.4531112883045 1402.02738391286\n",
      "3530 422.93631799236783 1348.2526526854754\n",
      "3540 404.2804186778232 1088.4644698795971\n",
      "3550 386.4474389481622 754.7250431803648\n",
      "3560 369.4010794735175 1195.4177901890898\n",
      "3570 353.10664210276803 1147.6066897812398\n",
      "3580 337.53095923486865 1491.1127019161897\n",
      "3590 322.64232630564123 1148.0814359589747\n",
      "3600 308.4104372526016 1622.42976857787\n",
      "3610 294.8063228264599 1649.6222238317735\n",
      "3620 281.80229162372746 1649.6222238317735\n",
      "3630 525.342496723208 816.6415494504934\n",
      "3640 502.1694176860549 490.858703585751\n",
      "3650 480.01851293598423 1283.4764911559355\n",
      "3660 458.84469393420085 1220.1837415126722\n",
      "3670 438.6048610163668 1794.822981708376\n",
      "3680 419.2578156625109 1925.2380363947639\n",
      "3690 400.764176636749 1764.4999101587805\n",
      "3700 383.08629982611666 415.12060140302987\n",
      "3710 366.1882016153444 919.2664101606265\n",
      "3720 350.03548564160457 1437.6197230039313\n",
      "3730 652.5444307394622 1369.2700293915839\n",
      "3740 623.7604207591185 1461.9958017675865\n",
      "3750 596.2460855955677 1213.160808613239\n",
      "3760 569.9454193572926 1237.5676956763534\n",
      "3770 544.8048865962651 1289.5166945448518\n",
      "3780 520.773313335642 1495.7983357658209\n",
      "3790 497.80178290427614 1109.6258917339662\n",
      "3800 475.84353636600997 838.9589537038414\n",
      "3810 454.85387734107536 882.6611823571418\n",
      "3820 434.79008102586164 837.811262688411\n",
      "3830 415.6113072258601 1274.3647060454798\n",
      "3840 397.2785172247617 1220.1837415126722\n",
      "3850 379.754394320494 1518.7952140121918\n",
      "3860 363.0032678664475 1520.1307520544542\n",
      "3870 346.99104066327476 1654.2027553500418\n",
      "3880 331.68511955346855 848.3615410709244\n",
      "3890 317.05434907744177 1249.8183756550786\n",
      "3900 303.0689480560663 1269.5983288484656\n",
      "3910 289.7004489705824 1480.0140532182886\n",
      "3920 276.9216400164857 1572.114085541465\n"
     ]
    },
    {
     "name": "stdout",
     "output_type": "stream",
     "text": [
      "3930 264.7065097134424 1572.114085541465\n",
      "3940 493.472135767533 1200.0123459840331\n",
      "3950 471.70487179003163 991.3811724121138\n",
      "3960 450.89777100458 563.3687750587385\n",
      "3970 431.00848020793154 1500.2156647899808\n",
      "3980 411.99651441449225 2010.3560209485347\n",
      "3990 393.8231744484533 1649.0961015001023\n",
      "4000 376.4514681709677 1114.4022335866687\n",
      "4010 359.8460351820307 1645.8800518014716\n",
      "4020 343.97307484379087 1415.2104772573093\n",
      "4030 328.80027747878455 1730.999525791203\n",
      "4040 314.296758603044 1220.064281395052\n",
      "4050 300.4329960602115 1226.739782453337\n",
      "4060 287.180769928694 1237.5676956763534\n",
      "4070 274.5131050795388 1173.4496864475207\n",
      "4080 262.40421626810485 1255.1822700021273\n",
      "4090 250.82945564776466 1308.2650054086544\n",
      "4100 239.765262598798 1442.7081543219078\n",
      "4110 229.1891157703546 1577.4657771764207\n",
      "4120 219.07948723786618 1733.3885541911532\n",
      "4130 209.41579868259427 1733.3885541911532\n",
      "4140 390.3978846279035 1331.9079099131732\n",
      "4150 373.17726932864986 1092.9471131645398\n",
      "4160 356.71626263118856 1980.4388712950542\n",
      "4170 340.98135787981136 1290.8337852361437\n",
      "4180 325.9405264115211 1116.4914688370063\n",
      "4190 311.56315236114995 1459.3947636753444\n",
      "4200 297.81997034225174 1495.7983357658209\n",
      "4210 284.6830058769159 1267.345945375426\n",
      "4220 272.12551845324776 1132.5706813838935\n",
      "4230 260.12194709460726 1220.1517124676288\n",
      "4240 248.6478583298116 1304.9300294831944\n",
      "4250 237.67989645839387 1952.1930123673083\n",
      "4260 227.19573600968255 1952.1930123673083\n",
      "4270 423.54366429198996 1220.064281395052\n",
      "4280 404.8609746760861 859.951531819839\n",
      "4290 387.00238637655457 1107.5864160591734\n",
      "4300 369.93154793685414 842.0847272597346\n",
      "4310 353.6137113785189 882.583139876077\n",
      "4320 338.0156614710642 1290.8337852361437\n",
      "4330 323.10564812182713 950.4070194128635\n",
      "4340 308.8533217481194 1608.0236801537344\n",
      "4350 295.2296715001416 1380.6494841075746\n",
      "4360 282.2069662089111 897.6012535587296\n",
      "4370 269.7586979390021 1198.4761996925834\n",
      "4380 257.859528031197 1602.1126710822277\n",
      "4390 246.4852355252202 1566.9094529309225\n",
      "4400 235.61266785756652 1250.026595244365\n",
      "4410 225.21969373406898 1491.1127019161897\n",
      "4420 215.2851580812779 1491.1127019161897\n",
      "4430 401.3396832304052 1295.0183920245647\n",
      "4440 383.6364205812686 673.9783606776234\n",
      "4450 366.7140563120323 1495.7983357658209\n",
      "4460 350.538144665899 779.3596789318733\n",
      "4470 335.0757593029274 1437.6197230039313\n",
      "4480 320.2954262779144 864.2522012404446\n",
      "4490 306.1670599746504 2028.018886338286\n",
      "4500 292.6619018661423 1488.7006551551615\n",
      "4510 279.75246197614825 1609.804461627514\n",
      "4520 267.4124629228696 1378.453270283152\n",
      "4530 255.61678643089843 1591.5325046341204\n",
      "4540 244.34142220254589 1440.6854270944818\n",
      "4550 233.56341904447805 1495.780043455329\n",
      "4560 223.26083815017614 1369.2700293915839\n",
      "4570 213.4127084431272 1381.750440023756\n",
      "4580 203.9989838898457 1770.8552696683475\n",
      "4590 195.0005026958352 1770.8552696683475\n",
      "4600 363.52454892487174 1151.840859069784\n",
      "4610 347.4893277944177 1483.542704188105\n",
      "4620 332.1614270291577 1467.7871173071924\n",
      "4630 317.50964642954693 1107.7843625310081\n",
      "4640 303.5041620499974 1827.7373417151884\n",
      "4650 290.11646549173645 970.1555404682334\n",
      "4660 277.3193058734815 1480.5167140268936\n",
      "4670 265.0866343618133 1235.4515672187026\n",
      "4680 253.39355114833828 1518.7952140121918\n",
      "4690 242.2162547657098 1541.3174523682449\n",
      "4700 231.5319936393416 1458.1513842874178\n",
      "4710 221.31901977619543 1369.2700293915839\n",
      "4720 211.55654449637584 1446.1987089820195\n",
      "4730 202.224696117423 1207.6875784416575\n",
      "4740 193.30447950516913 1252.3191618302328\n",
      "4750 184.77773740882364 1242.5855617135908\n",
      "4760 176.6271135015843 1380.383015731918\n",
      "4770 168.83601705154223 1511.6792377053523\n",
      "4780 314.74809599167617 1226.3156466539385\n",
      "4790 300.864424766328 1008.0614951099924\n",
      "4800 287.593168132675 1116.4914688370063\n",
      "4810 274.9073122248575 1275.3498150639648\n",
      "4820 262.78103477002907 1255.1822700021273\n",
      "4830 251.18965252668625 1487.8895992357272\n",
      "4840 240.10957104151598 1381.664176894994\n",
      "4850 229.51823662248918 1220.064281395052\n",
      "4860 219.3940904304418 1275.7835643917424\n",
      "4870 209.7165245956953 1495.780043455329\n",
      "4880 200.46584027039194 1272.3522380010722\n",
      "4890 191.62320753115884 914.2509527766915\n",
      "4900 183.17062705048258 1770.8552696683475\n",
      "4910 175.09089345877564 2010.3560209485347\n",
      "4920 167.36756032255747 2010.3560209485347\n",
      "4930 312.0105642282195 1834.6038830871546\n",
      "4940 298.247646683217 1834.6038830871546\n",
      "4950 556.00031656091 1524.4019619686298\n",
      "4960 531.474908164078 1063.751998520093\n",
      "4970 508.0313258725833 1430.7574090175997\n",
      "4980 485.62184988077564 1467.7871173071924\n",
      "4990 464.20086532375285 1114.4022335866687\n",
      "5000 443.72476942753644 1147.2846153072471\n",
      "5010 424.1518827548932 672.7522220055243\n",
      "5020 405.44236436614 1577.9452318926574\n",
      "5030 387.55813072224163 494.8868806999423\n",
      "5040 370.4627781651275 1370.3609089434215\n",
      "5050 354.12150881743383 1532.3552327159414\n",
      "5060 338.5010597508396 1437.6197230039313\n",
      "5070 323.5696352788171 1925.2380363947639\n",
      "5080 309.2968422359778 857.5122146189434\n",
      "5090 295.6536281122735 1024.7762468990582\n",
      "5100 282.6122219161239 1108.2204206594813\n",
      "5110 270.14607764609667 1230.7137311310744\n",
      "5120 258.22982025607587 1495.780043455329\n",
      "5130 246.83919400392878 1636.6809080402243\n",
      "5140 460.1634632564136 1527.7724800546039\n",
      "5150 439.8654588677275 1445.7332971408957\n",
      "5160 420.46280801112647 1654.5238604885437\n",
      "5170 401.9160162647913 1521.6373315606052\n",
      "5180 384.18733132250145 1461.9958017675865\n",
      "5190 367.24066614818196 1125.504249305607\n",
      "5200 351.041525520135 1394.0613227640536\n",
      "5210 335.55693581543636 1133.9574260299423\n",
      "5220 320.7553778915721 1665.8494236756262\n",
      "5230 306.6067229286946 899.4374336326497\n",
      "5240 293.082171101903 2019.1938312219709\n",
      "5250 280.15419295871624 1363.4850353394747\n",
      "5260 267.79647338240966 1856.2692423190367\n",
      "5270 255.98385802715305 1856.2692423190367\n",
      "5280 477.21116220156665 2028.018886338286\n",
      "5290 456.1611766243765 1188.6882669691086\n",
      "5300 436.03971478656354 1289.5166945448518\n",
      "5310 416.80581911447877 1108.3564544796589\n",
      "5320 398.4203386903163 1199.717385232823\n",
      "5330 380.84584955976266 814.5719535281523\n",
      "5340 364.0465785549081 1168.8246575757605\n",
      "5350 347.9883304773633 1218.1095685638315\n",
      "5360 332.63841849335796 959.058837044437\n",
      "5370 317.9655975991414 1281.1246621936582\n",
      "5380 303.94000102125284 891.8245775036517\n",
      "5390 290.53307942220164 1089.6831950870614\n",
      "5400 277.71754278781174 1532.3552327159414\n",
      "5410 265.46730487793894 1289.5166945448518\n",
      "5420 253.75743012749078 822.7379337917985\n",
      "5430 242.56408288966503 1323.918861636417\n",
      "5440 231.86447891809007 1231.9494368929077\n",
      "5450 221.63683898910844 1168.5072697334283\n",
      "5460 211.86034456980119 1566.9094529309225\n",
      "5470 202.51509544151455 1566.9094529309225\n",
      "5480 377.53343044292734 1495.7983357658209\n",
      "5490 360.8802716419729 1253.8684773786706\n",
      "5500 344.96169069740705 1132.5706813838935\n",
      "5510 329.7452850702554 1412.00745696205\n",
      "5520 315.2000815111997 1642.4915720446031\n",
      "5530 301.29647301400905 1025.2424375455453\n",
      "5540 288.00615854998097 1167.3532107670858\n",
      "5550 275.30208546072186 1156.9900631641178\n",
      "5560 263.1583943920062 980.1639309748482\n",
      "5570 251.5503666566272 1214.3116276717628\n",
      "5580 240.45437391909297 1495.780043455329\n",
      "5590 229.84783009975274 1284.0189220138418\n",
      "5600 219.70914540045263 1522.6574022373818\n",
      "5610 210.01768235813844 1022.5862656904624\n",
      "5620 200.7537138369529 1159.765690669028\n",
      "5630 191.89838287331912 1045.6786105284461\n",
      "5640 183.43366429227459 1289.5166945448518\n",
      "5650 175.3423280169245 1577.9452318926574\n",
      "5660 167.6079039963309 1577.9452318926574\n",
      "5670 312.458618589042 1062.125619671379\n",
      "5680 298.67593717726487 1220.1837415126722\n",
      "5690 285.50121565392476 1504.9486860433867\n",
      "5700 272.90763665200086 1290.087951011117\n",
      "5710 260.8695657298393 2010.3560209485347\n",
      "5720 249.36249919181574 2010.3560209485347\n",
      "5730 464.86746846432413 1121.9558668198542\n",
      "5740 444.36196842250894 959.4858831364339\n",
      "5750 424.76097463352727 952.0000161410026\n",
      "5760 406.0245889451885 1215.6587714495645\n",
      "5770 388.1146731296178 1491.1127019161897\n",
      "5780 370.9947712522524 1608.0236801537344\n",
      "5790 354.6300354651747 1572.8226544824977\n",
      "5800 338.9871550737323 1572.8226544824977\n",
      "5810 324.03428873205866 1491.127325943391\n",
      "5820 309.74099962947935 1600.7646686767962\n",
      "5830 296.07819353587206 1119.9279118602562\n",
      "5840 283.01805957987267 1770.8552696683475\n",
      "5850 270.53401363937905 1266.5143094226626\n",
      "5860 258.60064422912427 884.8932023853191\n",
      "5870 247.19366077517086 1168.5072697334283\n"
     ]
    },
    {
     "name": "stdout",
     "output_type": "stream",
     "text": [
      "5880 236.2898441710397 1952.1930123673083\n",
      "5890 225.86699951482865 1952.1930123673083\n",
      "5900 421.0666022934104 1062.0760187420042\n",
      "5910 402.49317692669837 1214.3116276717628\n",
      "5920 384.7390331842564 1532.3552327159414\n",
      "5930 367.76803220819403 1608.0236801537344\n",
      "5940 351.54562924088003 1116.4914688370063\n",
      "5950 336.03880330850785 1119.4860483714901\n",
      "5960 321.2159900063485 1060.4554801385032\n",
      "5970 307.04701724887457 1491.127325943391\n",
      "5980 293.5030438539731 1167.3532107670858\n",
      "5990 280.5565008362349 1558.6811551590629\n",
      "6000 268.1810352898209 1142.2887846721042\n",
      "6010 256.35145674668087 985.8595865528102\n",
      "6020 245.04368590093097 1107.5864160591734\n",
      "6030 234.23470559502323 1052.6624991062608\n",
      "6040 223.90251396793388 1577.9452318926574\n",
      "6050 214.02607967000597 1096.6730871409145\n",
      "6060 204.58529905328353 1552.1301584057146\n",
      "6070 195.56095525019842 1730.999525791203\n",
      "6080 186.93467905731376 1008.0614951099924\n",
      "6090 178.6889115445014 1766.6400295067353\n",
      "6100 170.80686831344474 1766.6400295067353\n",
      "6110 318.42220352512527 1473.243464542295\n",
      "6120 304.37646586731705 1226.739782453337\n",
      "6130 290.95029161987395 1558.6811551590629\n",
      "6140 278.1163515795303 1518.157626914098\n",
      "6150 265.8485220457 1244.4901498761594\n",
      "6160 254.12183164524464 1022.5862656904624\n",
      "6170 242.91241050282366 1574.8215004590209\n",
      "6180 232.19744165336255 1547.5225102508095\n",
      "6190 221.95511459773675 1083.4415465128955\n",
      "6200 212.16458090713442 1220.1837415126722\n",
      "6210 202.80591178572905 1441.7785714502138\n",
      "6220 193.86005750528096 1269.5983288484656\n",
      "6230 185.30880862909527 1828.0428352146873\n",
      "6240 177.1347589464076 1206.6772627703876\n",
      "6250 169.32127004174953 1057.1780533744923\n",
      "6260 161.85243742717444 1770.8552696683475\n",
      "6270 154.71305816840504 1770.8552696683475\n",
      "6280 288.41974203104513 1770.8552696683475\n",
      "6290 537.6789042765013 1162.0643427558687\n",
      "6300 513.9616611006195 1226.1177388548117\n",
      "6310 491.2905955214222 1198.4761996925834\n",
      "6320 469.6195602040066 980.6035966241884\n",
      "6330 448.9044433918704 519.0713342757256\n",
      "6340 429.1030791166901 852.3108501495192\n",
      "6350 410.1751613687834 1119.9279118602562\n",
      "6360 392.0821620535503 970.1555404682334\n",
      "6370 374.7872525668885 1426.9596504015578\n",
      "6380 358.25522882995136 1394.0613227640536\n",
      "6390 342.45243963065315 1188.6882669691086\n",
      "6400 327.3467181260627 1133.9574260299423\n",
      "6410 312.907316366253 1286.8512929149001\n",
      "6420 299.10484270633316 1162.0643427558687\n",
      "6430 285.91120197926097 1636.6809080402243\n",
      "6440 273.29953830765885 1965.2034087728468\n",
      "6450 261.24418043822374 1272.3522380010722\n",
      "6460 249.72058948745988 1794.822981708376\n",
      "6470 238.7053089923693 1636.6809080402243\n",
      "6480 228.17591716442686 1472.3040908495805\n",
      "6490 218.1109812496535 1768.2647567857696\n",
      "6500 208.49001390188488 1709.7992664166877\n",
      "6510 199.2934314804345 1709.7992664166877\n",
      "6520 371.5275282937112 1586.4151347475668\n",
      "6530 355.1392923689018 1644.0369156207714\n",
      "6540 339.47394844071164 1331.9079099131732\n",
      "6550 324.49960943836777 1518.7952140121918\n",
      "6560 310.1857948432341 1193.6735325542322\n",
      "6570 296.5033686452035 549.8955277767088\n",
      "6580 283.4244800358597 1244.285618428526\n",
      "6590 270.9225067176884 943.0523265295543\n",
      "6600 258.9720007139442 1267.9097529767967\n",
      "6610 247.54863656886582 1925.2380363947639\n",
      "6620 236.62916183280194 1925.2380363947639\n",
      "6630 441.1296798137795 612.4651923621761\n",
      "6640 421.6712636381991 1024.7762468990582\n",
      "6650 403.0711664046175 1572.8226544824977\n",
      "6660 385.2915273025995 921.1640483915835\n",
      "6670 368.2961555780221 1088.4644698795971\n",
      "6680 352.05045686618575 1372.3576496849903\n",
      "6690 336.5213627744045 1649.6222238317735\n",
      "6700 321.67726357073684 1649.6222238317735\n",
      "6710 599.6783624775587 829.4513576741635\n",
      "6720 573.2262970588255 881.8399811746364\n",
      "6730 547.941043399026 1207.5296633689013\n",
      "6740 523.7711329394963 1495.7983357658209\n",
      "6750 500.66736742139653 1668.7854840993616\n",
      "6760 478.58271874182816 1025.2424375455453\n",
      "6770 457.47223322734067 964.2338450895386\n",
      "6780 437.29294012997383 1121.9558668198542\n",
      "6790 418.0037641595783 1184.5908171518524\n",
      "6800 399.56544187437214 1200.0123459840331\n",
      "6810 381.94044175954565 1609.4200880672356\n",
      "6820 365.09288783123213 911.1901932035512\n",
      "6830 348.98848661034026 1253.8684773786706\n",
      "6840 333.59445731760104 1303.7669647348125\n",
      "6850 318.8794651477406 1577.7915422442709\n",
      "6860 304.81355748695785 1233.503483869448\n",
      "6870 291.36810294387584 1434.5882942371675\n",
      "6880 278.51573306986353 1646.603102912403\n",
      "6890 266.23028665009855 1133.9574260299423\n",
      "6900 254.48675645197497 1599.1506057496495\n",
      "6910 243.26123832246134 1599.1506057496495\n",
      "6920 453.49335365568373 976.8981708621591\n",
      "6930 433.48957061388717 1097.4248486714262\n",
      "6940 414.3681628765081 1243.3913253729509\n",
      "6950 396.09020849682196 1219.0924991879074\n",
      "6960 378.61850239158497 1119.4533116464847\n",
      "6970 361.9174806094628 1264.2350642548333\n",
      "6980 345.95314794000967 927.4085446098031\n",
      "6990 330.69300871584636 1294.9736413359453\n",
      "7000 316.1060006671832 1287.647822186301\n",
      "7010 302.1624316940482 1133.2453537645165\n",
      "7020 288.83391942751877 925.8077520309826\n",
      "7030 276.0933334569322 1682.1027800756988\n",
      "7040 263.9147401054799 1567.4228452390234\n",
      "7050 252.27334964177206 1461.9958017675865\n",
      "7060 241.14546581992272 1266.0328585359462\n",
      "7070 230.50843764544322 1730.999525791203\n",
      "7080 220.34061326876255 956.2091532785028\n",
      "7090 210.62129591252355 1445.7332971408957\n",
      "7100 201.33070174294497 1770.8552696683475\n",
      "7110 192.4499195994953 1770.8552696683475\n",
      "7120 358.7696915948955 1295.0183920245647\n",
      "7130 342.9442092261164 1709.7815579966823\n",
      "7140 327.81679555731915 1135.7392967754556\n",
      "7150 313.3566584838121 1378.453270283152\n",
      "7160 299.53436415362495 1370.3609089434215\n",
      "7170 286.32177705440824 983.5701279952041\n",
      "7180 273.69200274312544 1546.4497623694836\n",
      "7190 261.6193331019623 1369.2700293915839\n",
      "7200 250.0791940090207 1213.160808613239\n",
      "7210 239.04809531728117 1257.2749319603922\n",
      "7220 228.50358304001364 1925.2380363947639\n",
      "7230 218.42419364531028 1925.2380363947639\n",
      "7240 407.1915475676676 1925.2380363947639\n",
      "7250 759.0961131338577 844.517364031741\n",
      "7260 725.6120635163854 1245.7816681804472\n",
      "7270 693.6050094458365 1264.2350642548333\n",
      "7280 663.0098000258718 1649.6222238317735\n",
      "7290 633.7641581936606 1267.345945375426\n",
      "7300 605.808553953872 883.8324163086136\n",
      "7310 579.0860832043696 1116.4914688370063\n",
      "7320 553.5423519069557 927.4085446098031\n",
      "7330 529.125365367392 1193.6735325542322\n",
      "7340 505.785422399326 1062.125619671379\n",
      "7350 483.47501415669205 921.1640483915835\n",
      "7360 462.14872742865555 1250.026595244365\n",
      "7370 441.7631522002603 941.5355858249889\n",
      "7380 422.27679329061334 1039.9886779220278\n",
      "7390 403.64998588874676 1363.4850353394747\n",
      "7400 385.84481481522903 1594.4019476567012\n",
      "7410 368.82503734517996 1135.7392967754556\n",
      "7420 352.5560094355953 1289.5166945448518\n",
      "7430 337.004615206815 1248.7083799178158\n",
      "7440 322.13919953459407 1200.0123459840331\n",
      "7450 307.92950361556484 1488.7006551551615\n",
      "7460 294.346603374935 902.5262025617667\n",
      "7470 281.3628505910465 1119.9279118602562\n",
      "7480 268.9518166169565 1369.2700293915839\n",
      "7490 257.08823858448227 1215.7775741120115\n",
      "7500 245.74796798120846 1187.0502597526206\n",
      "7510 234.90792149578442 1276.0506632861686\n",
      "7520 224.5460340314561 1518.7952140121918\n",
      "7530 214.6412137921908 1063.751998520093\n",
      "7540 205.17329934997207 1773.2355572613003\n",
      "7550 196.12301860587417 1773.2355572613003\n",
      "7560 365.61716963208306 1206.6772627703876\n",
      "7570 349.4896421198962 748.9630284173276\n",
      "7580 334.07350664632196 1482.8350749871502\n",
      "7590 319.33738340858406 1402.5458369827425\n",
      "7600 305.25127678023773 1208.082056362324\n",
      "7610 291.7865142545682 1487.8895992357272\n",
      "7620 278.91568808122116 1518.157626914098\n",
      "7630 266.61259947726705 2010.3560209485347\n",
      "7640 497.0255133846434 722.4782676703182\n",
      "7650 475.1015084221964 950.1078906413577\n",
      "7660 454.14458056273395 1668.7854840993616\n",
      "7670 434.11207162748263 1304.9300294831944\n",
      "7680 414.96320510792106 1925.2380363947639\n",
      "7690 396.6590031645123 1179.0948420124068\n",
      "7700 379.16220728665553 467.17777388021676\n",
      "7710 362.4372024523628 973.9555955786946\n",
      "7720 346.4499446332826 1208.5549034280273\n",
      "7730 331.1678914975084 1147.6066897812398\n",
      "7740 316.55993616911536 1566.9094529309225\n",
      "7750 302.5963439095917 1168.8246575757605\n",
      "7760 289.2486915922787 1608.0236801537344\n",
      "7770 539.2242516533688 1567.4017681027258\n",
      "7780 515.4388425531093 1405.248245800083\n",
      "7790 492.7026178772002 1024.7762468990582\n",
      "7800 470.96929765830276 1267.122548921476\n",
      "7810 450.194643357951 1361.671097924148\n",
      "7820 430.3363678182637 980.1639309748482\n"
     ]
    },
    {
     "name": "stdout",
     "output_type": "stream",
     "text": [
      "7830 411.3540491857237 1245.731871541609\n",
      "7840 393.2090486318162 1225.3229763691513\n",
      "7850 375.8644317030439 1626.0129176303733\n",
      "7860 359.2848931402264 1626.0129176303733\n",
      "7870 669.7873949486547 1572.8226544824977\n",
      "7880 640.2427905466778 1554.99543235782\n",
      "7890 612.0014111021313 1566.9094529309225\n",
      "7900 585.0057708126479 1770.8552696683475\n",
      "7910 559.2009195988412 1135.7392967754556\n",
      "7920 534.534331252496 1057.9451426976311\n",
      "7930 510.9557965185886 1265.150541778113\n",
      "7940 488.41732089350467 795.5470576781036\n",
      "7950 466.87302693142107 1622.42976857787\n",
      "7960 446.27906085999365 1351.9040265907825\n",
      "7970 426.59350331526707 1108.2204206594813\n",
      "7980 407.77628401410493 1074.8242783034661\n",
      "7990 389.78910019045526 1206.6772627703876\n",
      "8000 372.59533862942686 1304.9300294831944\n",
      "8010 356.160001140475 1250.026595244365\n",
      "8020 340.4496333179967 1206.7812227052284\n",
      "8030 325.4322564443256 1608.0236801537344\n",
      "8040 311.0773023965156 1187.0502597526206\n",
      "8050 297.3555514244124 1262.1614557592286\n",
      "8060 284.2390726733612 746.8530951778291\n",
      "8070 271.70116733048303 1168.8246575757605\n",
      "8080 259.7163142787922 1412.4503891367906\n",
      "8090 248.26011814853408 1133.075688490808\n",
      "8100 237.3092596600002 1428.3966166693317\n",
      "8110 226.84144815674225 1317.5720462844029\n",
      "8120 216.83537623256657 1341.2207145828181\n",
      "8130 207.27067635995087 1500.2156647899808\n",
      "8140 198.12787943159967 1773.2355572613003\n",
      "8150 369.35467859874365 1258.4149229490895\n",
      "8160 353.062287990145 1776.3665330131498\n",
      "8170 337.488561600855 1770.8552696683475\n",
      "8180 629.1541582055363 1494.7829978347152\n",
      "8190 601.4019030089955 1532.3552327159414\n",
      "8200 574.8738114907027 1276.1939743984778\n",
      "8210 549.515885274651 1834.6038830871546\n",
      "8220 525.2765078759674 1230.7137311310744\n",
      "8230 502.10633963468985 1308.2650054086544\n",
      "8240 479.9582172840613 905.6656448629851\n",
      "8250 458.7870579489074 1215.7775741120115\n",
      "8260 438.54976737868634 1276.0506632861686\n",
      "8270 419.2051522284184 1642.4915720446031\n",
      "8280 400.71383620893954 1114.4022335866687\n",
      "8290 383.0381799358034 1483.542704188105\n",
      "8300 366.14220431368216 1445.9144127654833\n",
      "8310 349.9915173003131 1244.285618428526\n",
      "8320 334.5532439009188 1230.9213827320164\n",
      "8330 319.795959250603 1315.0934840311174\n",
      "8340 305.68962464851023 1107.7843625310081\n",
      "8350 292.2055264135452 1271.0928293128804\n",
      "8360 279.3162174371925 1263.8144304854047\n",
      "8370 266.9954613144664 1220.1837415126722\n",
      "8380 255.2181789392675 788.3560744856459\n",
      "8390 243.9603974554406 1226.3156466539385\n",
      "8400 233.1992014596238 1280.593245034008\n",
      "8410 222.9126863565594 1226.1177388548117\n",
      "8420 213.07991377192255 2010.3560209485347\n",
      "8430 203.6808689319082 2010.3560209485347\n",
      "8440 379.7066929544858 1317.5720462844029\n",
      "8450 362.9576706278068 769.1233813284232\n",
      "8460 346.94745473805625 1532.3552327159414\n",
      "8470 331.64345622178917 1381.750440023756\n",
      "8480 317.0145235328898 1770.8552696683475\n",
      "8490 303.03087923307675 1770.8552696683475\n",
      "8500 564.9173318047261 1237.5442145932163\n",
      "8510 539.9985901056971 1273.226347475703\n",
      "8520 516.1790246098113 841.0439383612722\n",
      "8530 493.410150191289 546.3992412168179\n",
      "8540 471.64562042369135 970.7337041984829\n",
      "8550 450.8411332409919 1953.609774484301\n",
      "8560 430.95434075997616 943.0523265295543\n",
      "8570 411.94476308041374 1473.243464542295\n",
      "8580 393.7737058875415 534.6434959366244\n",
      "8590 376.4041816891357 775.0819360062455\n",
      "8600 359.8008345268502 1162.2149959139153\n",
      "8610 343.929868008569 744.3002436800343\n",
      "8620 328.7589765152822 1636.6809080402243\n",
      "8630 314.257279442456 1487.8895992357272\n",
      "8640 300.39525834204306 1642.4915720446031\n",
      "8650 287.1446968371858 950.4070194128635\n",
      "8660 274.4786231873068 1558.6811551590629\n",
      "8670 262.37125538667823 1600.7646686767962\n",
      "8680 250.7979486847155 1593.1047123730625\n",
      "8690 239.7351454211736 1435.9151782620809\n",
      "8700 229.16032707413387 1313.6658519309883\n",
      "8710 219.0519684231743 1572.8226544824977\n",
      "8720 209.38949373442156 843.744596323326\n",
      "8730 200.15323487829914 636.6220970194775\n",
      "8740 191.32439129471894 942.0954394940732\n",
      "8750 182.8849917242256 1518.7952140121918\n",
      "8760 174.8178576271958 1491.127325943391\n",
      "8770 167.1065682166321 1500.774899682293\n",
      "8780 159.73542703337526 1479.70855971879\n",
      "8790 152.68942999569782 1237.5676956763534\n",
      "8800 145.9542348582437 1237.5676956763534\n",
      "8810 139.51613201814683 1175.789587374008\n",
      "8820 133.36201660890404 1008.0614951099924\n",
      "8830 127.47936182519916 1492.628403587075\n",
      "8840 121.85619342438044 1491.1527032252684\n",
      "8850 116.48106535268826 1491.1127019161897\n",
      "8860 111.34303644662053 1491.1127019161897\n",
      "8870 207.568321827961 1480.67162128605\n",
      "8880 198.41239563251588 1331.9079099131732\n",
      "8890 189.66034120207888 1770.8552696683475\n",
      "8900 181.29434358280608 1234.8458047510874\n",
      "8910 173.29737364597906 1190.262524081503\n",
      "8920 165.6531534249274 1304.9300294831944\n",
      "8930 158.34612298095402 1642.4915720446031\n",
      "8940 151.36140873081843 1642.4915720446031\n",
      "8950 282.17151788234395 821.7376207817283\n",
      "8960 269.7248132530664 1566.9094529309225\n",
      "8970 257.82713801304516 1413.961360989272\n",
      "8980 246.4542742444261 1215.7775741120115\n",
      "8990 235.5830722919229 1681.5791897416746\n",
      "9000 225.1914036413047 1681.5791897416746\n",
      "9010 419.8071404880151 1202.5737247262664\n",
      "9020 401.2892705125816 1649.6222238317735\n",
      "9030 383.5882315896843 1252.3191618302328\n",
      "9040 366.6679929571853 1160.496063862347\n",
      "9050 350.4941131850565 1271.0928293128804\n",
      "9060 335.03367006927044 1119.9279118602562\n",
      "9070 320.2551936181007 921.1640483915835\n",
      "9080 306.1286019944249 1321.341380876185\n",
      "9090 292.62514028364006 852.4240432571526\n",
      "9100 279.7173219625504 1546.4497623694836\n",
      "9110 267.378872950088 1063.751998520093\n",
      "9120 255.58467812597917 1253.7648535273715\n",
      "9130 244.31073020849482 1187.8835800630673\n",
      "9140 233.5340808872256 884.8932023853191\n",
      "9150 223.23279411141033 1271.0928293128804\n",
      "9160 213.38590143873597 1612.0648130464524\n",
      "9170 203.97335935372115 1300.7485702948172\n",
      "9180 194.97600846880354 1249.038321105225\n",
      "9190 186.3755345250846 1711.62007092404\n",
      "9200 347.4456792788068 1711.62007092404\n",
      "9210 647.7164524685172 1577.7915422442709\n",
      "9220 619.1454066453853 1245.7816681804472\n",
      "9230 591.8346417002772 1244.285618428526\n",
      "9240 565.7285661122753 1315.0934840311174\n",
      "9250 540.7740405258895 1609.804461627514\n",
      "9260 1008.1237557581588 1187.5121796078583\n",
      "9270 963.654991823906 1271.0928293128804\n",
      "9280 921.147763816711 1245.469289774636\n",
      "9290 880.515547559765 1168.5072697334283\n",
      "9300 841.6756354941795 1119.9279118602562\n",
      "9310 804.5489683263621 1008.0614951099924\n",
      "9320 769.059974101496 1483.5049040199679\n",
      "9330 735.1364143755549 699.5756131015373\n",
      "9340 702.7092371727374 1219.0924991879074\n",
      "9350 671.7124364290104 1284.0189220138418\n",
      "9360 642.0829176356558 825.0248483498128\n",
      "9370 613.7603694093388 1513.7225339614188\n",
      "9380 586.6871407272731 1114.4022335866687\n",
      "9390 560.8081235775953 1168.5072697334283\n",
      "9400 536.0706407860818 1018.2416012029234\n",
      "9410 512.4243387908745 779.0676956612803\n",
      "9420 489.82108514696034 1200.0123459840331\n",
      "9430 468.2148705517703 906.607240460339\n",
      "9440 447.561715192471 533.8436792290329\n",
      "9450 427.8195792243173 1547.5225102508095\n",
      "9460 408.9482771978412 833.3428399973197\n",
      "9470 390.90939626069485 1030.5324165543454\n",
      "9480 373.66621796764383 1577.7915422442709\n",
      "9490 357.1836435395551 846.6867915320142\n",
      "9500 341.4281224192422 1267.122548921476\n",
      "9510 326.36758397874263 603.2904207352184\n",
      "9520 311.9713722390157 1642.4915720446031\n",
      "9530 298.21018346918197 1642.4915720446031\n",
      "9540 555.9304767512938 1119.9279118602562\n",
      "9550 531.4081490179115 1487.8895992357272\n",
      "9560 507.9675115005025 1167.3532107670858\n",
      "9570 485.5608503875543 1151.840859069784\n",
      "9580 464.1425565438974 1034.541244658851\n",
      "9590 443.6690326725458 597.3561910158788\n",
      "9600 424.0986045716661 881.8399811746364\n",
      "9610 405.3914363060393 1402.5458369827425\n",
      "9620 387.50944912034544 873.7301794546374\n",
      "9630 370.4162439292173 1420.725576136822\n",
      "9640 354.0770272262905 1250.1029711973406\n",
      "9650 338.45854026143707 1335.1421554868014\n",
      "9660 323.52899134202016 1334.89234578524\n",
      "9670 309.25799112037026 806.6822815922167\n",
      "9680 295.6164907357567 1290.087951011117\n",
      "9690 282.57672268494395 1426.9596504015578\n",
      "9700 270.1121443009722 1674.0289690433058\n",
      "9710 258.1973837251126 1433.904311175003\n",
      "9720 246.80818826202292 1184.8253178347068\n",
      "9730 235.9213750129783 1305.4482921442377\n",
      "9740 225.5147836866915 1642.4915720446031\n",
      "9750 215.56723149166783 1563.1607665445833\n",
      "9760 206.0584700182768 1226.1177388548117\n",
      "9770 196.96914402277446 1642.4915720446031\n",
      "9780 188.28075202937936 1194.5836575027647\n"
     ]
    },
    {
     "name": "stdout",
     "output_type": "stream",
     "text": [
      "9790 179.97560867020766 1255.1822700021273\n",
      "9800 172.03680868640993 1517.387518842394\n",
      "9810 164.44819251723254 1517.387518842394\n",
      "9820 306.5682097219242 1682.1027800756988\n",
      "9830 293.04535672892206 1740.8665230810086\n",
      "9840 280.11900248325 1740.8665230810086\n",
      "9850 522.2044692974188 1049.6244201413067\n",
      "9860 499.16980997314295 1250.026595244365\n",
      "9870 477.15121918405066 1184.5908171518524\n",
      "9880 456.10387771863765 1491.1127019161897\n",
      "9890 435.98494335971645 1372.3576496849903\n",
      "9900 416.75346367836374 1502.3488550360582\n",
      "9910 398.37029267456364 1288.3497472151962\n",
      "9920 380.7980110948663 1119.9279118602562\n",
      "9930 364.0008502648691 1334.9346438905936\n",
      "9940 347.9446192814789 1007.3736686460879\n",
      "9950 332.5966354167544 1487.8895992357272\n",
      "9960 317.9256575916643 1073.3881869239697\n",
      "9970 303.9018227843459 1495.780043455329\n",
      "9980 290.49658524342215 914.2509527766915\n",
      "9990 277.68265838264574 1315.0934840311174\n"
     ]
    },
    {
     "data": {
      "image/png": "[encoded data removed]",
      "text/plain": [
       "<Figure size 432x288 with 1 Axes>"
      ]
     },
     "metadata": {},
     "output_type": "display_data"
    },
    {
     "name": "stdout",
     "output_type": "stream",
     "text": [
      "2028.018886338286 ([43, 84, 175, 46, 43], 2028.018886338286, [957.2133986188851, 3.269621133338811])\n"
     ]
    },
    {
     "ename": "NameError",
     "evalue": "name 'progess' is not defined",
     "output_type": "error",
     "traceback": [
      "\u001b[0;31m---------------------------------------------------------------------------\u001b[0m",
      "\u001b[0;31mNameError\u001b[0m                                 Traceback (most recent call last)",
      "\u001b[0;32m<ipython-input-140-92958f293731>\u001b[0m in \u001b[0;36m<module>\u001b[0;34m()\u001b[0m\n\u001b[0;32m----> 1\u001b[0;31m \u001b[0msimulated_annealing_plot\u001b[0m\u001b[0;34m(\u001b[0m\u001b[0mbudget\u001b[0m\u001b[0;34m,\u001b[0m \u001b[0mtour_length\u001b[0m\u001b[0;34m,\u001b[0m \u001b[0mSF_sites\u001b[0m\u001b[0;34m,\u001b[0m \u001b[0mtravel_matrix\u001b[0m\u001b[0;34m,\u001b[0m \u001b[0mtemperature\u001b[0m\u001b[0;34m=\u001b[0m\u001b[0;36m100\u001b[0m\u001b[0;34m,\u001b[0m \u001b[0mstopping_temperature\u001b[0m\u001b[0;34m=\u001b[0m\u001b[0;36m0.00000001\u001b[0m\u001b[0;34m,\u001b[0m \u001b[0mmax_iterations\u001b[0m\u001b[0;34m=\u001b[0m\u001b[0;36m10000\u001b[0m\u001b[0;34m,\u001b[0m \u001b[0malpha\u001b[0m\u001b[0;34m=\u001b[0m\u001b[0;36m0.995\u001b[0m\u001b[0;34m)\u001b[0m\u001b[0;34m\u001b[0m\u001b[0m\n\u001b[0m",
      "\u001b[0;32m<ipython-input-139-d8cca74ebb22>\u001b[0m in \u001b[0;36msimulated_annealing_plot\u001b[0;34m(budget, tour_length, SF_sites, travel_matrix, temperature, stopping_temperature, max_iterations, alpha)\u001b[0m\n\u001b[1;32m     56\u001b[0m     \u001b[0mprint\u001b[0m\u001b[0;34m(\u001b[0m\u001b[0mbest_score\u001b[0m\u001b[0;34m,\u001b[0m \u001b[0mbest_route\u001b[0m\u001b[0;34m)\u001b[0m\u001b[0;34m\u001b[0m\u001b[0m\n\u001b[1;32m     57\u001b[0m \u001b[0;34m\u001b[0m\u001b[0m\n\u001b[0;32m---> 58\u001b[0;31m     \u001b[0;32mreturn\u001b[0m \u001b[0mprogess\u001b[0m\u001b[0;34m,\u001b[0m \u001b[0mroute\u001b[0m\u001b[0;34m,\u001b[0m \u001b[0mbest_score_index\u001b[0m\u001b[0;34m\u001b[0m\u001b[0m\n\u001b[0m",
      "\u001b[0;31mNameError\u001b[0m: name 'progess' is not defined"
     ]
    }
   ],
   "source": [
    "simulated_annealing_plot(budget, tour_length, SF_sites, travel_matrix, temperature=100, stopping_temperature=0.00000001, max_iterations=10000, alpha=0.995)"
   ]
  },
  {
   "cell_type": "code",
   "execution_count": null,
   "metadata": {},
   "outputs": [],
   "source": []
  },
  {
   "cell_type": "code",
   "execution_count": null,
   "metadata": {},
   "outputs": [],
   "source": []
  }
 ],
 "metadata": {
  "kernelspec": {
   "display_name": "Python 3",
   "language": "python",
   "name": "python3"
  },
  "language_info": {
   "codemirror_mode": {
    "name": "ipython",
    "version": 3
   },
   "file_extension": ".py",
   "mimetype": "text/x-python",
   "name": "python",
   "nbconvert_exporter": "python",
   "pygments_lexer": "ipython3",
   "version": "3.6.5"
  },
  "varInspector": {
   "cols": {
    "lenName": 16,
    "lenType": 16,
    "lenVar": 40
   },
   "kernels_config": {
    "python": {
     "delete_cmd_postfix": "",
     "delete_cmd_prefix": "del ",
     "library": "var_list.py",
     "varRefreshCmd": "print(var_dic_list())"
    },
    "r": {
     "delete_cmd_postfix": ") ",
     "delete_cmd_prefix": "rm(",
     "library": "var_list.r",
     "varRefreshCmd": "cat(var_dic_list()) "
    }
   },
   "position": {
    "height": "536px",
    "left": "1070px",
    "right": "20px",
    "top": "120px",
    "width": "339px"
   },
   "types_to_exclude": [
    "module",
    "function",
    "builtin_function_or_method",
    "instance",
    "_Feature"
   ],
   "window_display": false
  }
 },
 "nbformat": 4,
 "nbformat_minor": 2
}
