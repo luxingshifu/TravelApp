{
 "cells": [
  {
   "cell_type": "markdown",
   "metadata": {},
   "source": [
    "# Recommender System for Travel App"
   ]
  },
  {
   "cell_type": "markdown",
   "metadata": {},
   "source": [
    "### Let's import some useful libraries"
   ]
  },
  {
   "cell_type": "code",
   "execution_count": 1,
   "metadata": {},
   "outputs": [],
   "source": [
    "\n",
    "import numpy as np\n",
    "import pickle as pkl\n",
    "import bisect\n",
    "import os\n",
    "import pandas as pd\n",
    "import math\n",
    "from collections import Counter\n",
    "import random\n",
    "import random\n",
    "#import enchant\n",
    "import recsys\n",
    "import matplotlib.pyplot as plt\n",
    "#from nltk import WordNetLemmatizer, word_tokenize, bigrams, ngrams, RegexpTokenizer\n",
    "from fuzzywuzzy import fuzz\n",
    "from fuzzywuzzy import process\n",
    "#lemmatize = WordNetLemmatizer()\n",
    "%matplotlib inline"
   ]
  },
  {
   "cell_type": "markdown",
   "metadata": {},
   "source": [
    "### Now we instantiate an instance of the class recsys.  We also pick some hyperparameters. "
   ]
  },
  {
   "cell_type": "code",
   "execution_count": 2,
   "metadata": {},
   "outputs": [],
   "source": [
    "test=recsys.recsys(users=100,sites=1000,latent_features=20,dropout=0,epochs=10,max_iter=100,lr=.01,batch_size=50)\n"
   ]
  },
  {
   "cell_type": "markdown",
   "metadata": {},
   "source": [
    "### We need some data to test this one.  Let's make some data up."
   ]
  },
  {
   "cell_type": "code",
   "execution_count": 3,
   "metadata": {},
   "outputs": [],
   "source": [
    "data=[]\n",
    "users=100\n",
    "sites=1000\n",
    "ranked=30\n",
    "for j in range(users):\n",
    "    ra=np.random.choice(range(users),ranked)\n",
    "    data.append(np.array([10*random.random() if (i in ra) else float('NaN') for i in range(sites)]))\n",
    "data=np.array(data)"
   ]
  },
  {
   "cell_type": "markdown",
   "metadata": {},
   "source": [
    "### Calling the fit method on this 'data'"
   ]
  },
  {
   "cell_type": "code",
   "execution_count": 4,
   "metadata": {},
   "outputs": [
    {
     "name": "stdout",
     "output_type": "stream",
     "text": [
      "Epoch 1\n",
      "Epoch 2\n",
      "Epoch 3\n",
      "Epoch 4\n",
      "Epoch 5\n",
      "Epoch 6\n",
      "Epoch 7\n",
      "Epoch 8\n",
      "Epoch 9\n",
      "Epoch 10\n"
     ]
    }
   ],
   "source": [
    "test.fit(data)"
   ]
  },
  {
   "cell_type": "markdown",
   "metadata": {},
   "source": [
    "### We now have a fit model.  Let's check the loss function.  The losses are stored in the recsys class, so we can just call 'test.losses' to get a list of losses for each iteration."
   ]
  },
  {
   "cell_type": "code",
   "execution_count": 5,
   "metadata": {},
   "outputs": [
    {
     "data": {
      "image/png": "[encoded data removed]",
      "text/plain": [
       "<Figure size 432x288 with 1 Axes>"
      ]
     },
     "metadata": {},
     "output_type": "display_data"
    }
   ],
   "source": [
    "plt.scatter(list(range(len(test.losses))),test.losses,s=.3)\n",
    "plt.xlabel('Iteration')\n",
    "plt.ylabel('Loss')\n",
    "plt.ylim(0,1)\n",
    "plt.show()"
   ]
  },
  {
   "cell_type": "markdown",
   "metadata": {},
   "source": [
    "### Now we can make some predictions for a new user....  Since I'm lazy, I'll just make a prediction for one of the previously seen users.  The call looks like this:"
   ]
  },
  {
   "cell_type": "code",
   "execution_count": 6,
   "metadata": {},
   "outputs": [],
   "source": [
    "predictions=test.predict(data[2])"
   ]
  },
  {
   "cell_type": "markdown",
   "metadata": {},
   "source": [
    "# Making Predictions w/ Real Data\n",
    "\n",
    "Now we need to run this with some real data.  Below we have some functions to clean the data.  The data is coming from https://www.tripadvisor.com/ and https://trip.sftravel.com/."
   ]
  },
  {
   "cell_type": "code",
   "execution_count": 2,
   "metadata": {},
   "outputs": [],
   "source": [
    "#Results is a list of user rankings of various attractions in SF.  It is structured as a list of json\n",
    "# like files of the form [{user1:{attraction1:rating1,attraction2:rating2,attraction3:rating3}, user2:...}]\n",
    "\n",
    "#original range is 19400\n",
    "\n",
    "results=[]\n",
    "for k in range(100,19400,100):\n",
    "    with open(f'raw_data/file_{k}.pkl','rb') as f:\n",
    "        likes=pkl.load(f)\n",
    "        results.append(likes)\n",
    "    \n",
    "# Now we need to combine all the results above into one big dictionary.    \n",
    "              \n",
    "res=results[0]\n",
    "for i in range(1,len(results)):\n",
    "    res={**res,**results[i]}\n",
    "    \n",
    "with open('good_data/loc_info.pkl','rb') as f:\n",
    "    loc_info=pkl.load(f)\n",
    "    \n",
    "with open('good_data/style_mapper.pkl','rb') as f:\n",
    "    style_mapper=pkl.load(f)\n",
    "    \n",
    "with open('good_data/full_place_list.pkl','rb') as f:\n",
    "    full_place_list=pkl.load(f)\n",
    "    \n",
    "    \n",
    "\n",
    "site_index=pkl.load(open('good_data/site_index.pkl','rb'))\n",
    "\n"
   ]
  },
  {
   "cell_type": "code",
   "execution_count": 31,
   "metadata": {},
   "outputs": [],
   "source": [
    "keys=list(res.keys())\n",
    "# {x[15:]:res[keys[3]][x] for x in res[keys[3] if x[15:] in site_index}"
   ]
  },
  {
   "cell_type": "code",
   "execution_count": null,
   "metadata": {},
   "outputs": [],
   "source": []
  },
  {
   "cell_type": "code",
   "execution_count": 50,
   "metadata": {},
   "outputs": [],
   "source": [
    "def clean_res(res):\n",
    "    keys=list(res.keys())\n",
    "    new_dct={}\n",
    "    for i in range(len(keys)):\n",
    "        dct=res[keys[i]]\n",
    "        new={x[15:]:dct[x] for x in dct if x[15:] in site_index}\n",
    "        if len(new)!=0:\n",
    "            new_dct[keys[i]]=new\n",
    "    return new_dct"
   ]
  },
  {
   "cell_type": "code",
   "execution_count": 52,
   "metadata": {},
   "outputs": [],
   "source": [
    "res2=clean_res(res)"
   ]
  },
  {
   "cell_type": "code",
   "execution_count": 3,
   "metadata": {},
   "outputs": [
    {
     "data": {
      "text/plain": [
       "0.9983579638752053"
      ]
     },
     "execution_count": 3,
     "metadata": {},
     "output_type": "execute_result"
    }
   ],
   "source": [
    "len([x for x in site_index if x in full_place_list])/len(site_index)"
   ]
  },
  {
   "cell_type": "code",
   "execution_count": 4,
   "metadata": {},
   "outputs": [],
   "source": [
    "# things_to_remove=pkl.load(open('good_data/things_to_remove.pkl','rb'))"
   ]
  },
  {
   "cell_type": "code",
   "execution_count": 5,
   "metadata": {},
   "outputs": [],
   "source": [
    "# def condition(x):\n",
    "#     bad_words=['cafe', 'restaurant', 'bar', 'deli', 'diner','donald', 'panera','canteen','chophouse','saloon','eatery',\\\n",
    "#                'dive','fast-food','coffee','canteen','pizzeria','grill','drive-in','hamburger','caffe','kitchen',\\\n",
    "#                 'taqueria','crepe','bagel','comer','bakery','steak','noodle','pizza','burger','sushi','hotel','cuisine',\\\n",
    "#               'bakeshop','bistro','donuts','baskin robbins','ice cream','jamba juice','pollo','subs','food','soft serve',\\\n",
    "#               'taco','ramen','shabu','jerry','holiday inn','chowder','gyros','cantina','fish','juice','taste','inn','pub',\\\n",
    "#               'mrs. fields','cebicheria','boulangerie','le marais','nijiya','uma casa','cupcakes','chicken','resturant',\\\n",
    "#               'sushirrito','motel','hotel','tavern','biscuit','warming','rv park','lounge','ihop','stinking','pizzetta',\\\n",
    "#               'puccini','tortilla']    \n",
    "#     return all([w not in x.lower() for w in bad_words])\n",
    "\n",
    "# def condition_vivien(x):\n",
    "#     return x not in things_to_remove"
   ]
  },
  {
   "cell_type": "code",
   "execution_count": 3,
   "metadata": {},
   "outputs": [],
   "source": [
    "# make_matrix takes in a list of rankings of attractions as well as a dictionary (site to labels) and spits out \n",
    "# 1) an array of user preferences, 2) a list of users and 3) a list of attractions.  The only reason we need to feed\n",
    "# in the dictionary is to see if there is labeled data....  \n",
    "\n",
    "#New strategy:  Include all the sites whether or not there is a label.  Later, assign each site a vector, the vector\n",
    "# being zero if unlabeled.\n",
    "\n",
    "\n",
    "def site_check(x):\n",
    "    return x in site_index\n",
    "    \n",
    "def remove_reviews(bla):\n",
    "    return [x for x in bla if 'Reviews' not in x]\n",
    "\n",
    "def make_matrix(res):\n",
    "    user_list=list(res.keys())\n",
    "    places=[]\n",
    "    for user_key in user_list:\n",
    "        for place in res[user_key].keys():\n",
    "            place_minus_sf=place[15:]\n",
    "            #We are removing the conditions on the places for now.  These will be added later after training.\n",
    "            if place_minus_sf in site_index:\n",
    "                places.append(place)\n",
    "            \n",
    "    #this is the same as uvp_set above.\n",
    "    places=list(set(places))\n",
    "\n",
    "\n",
    "    matrix=[]\n",
    "    for u in user_list:\n",
    "        user_likes=[]\n",
    "        for p in places:\n",
    "            if p in res[u].keys():\n",
    "                user_likes.append(res[u][p])\n",
    "            else:\n",
    "                user_likes.append(float('NaN'))\n",
    "        matrix.append(user_likes)\n",
    "\n",
    "    return np.array(matrix), user_list, places\n",
    "\n",
    "\n",
    "# get_data takes in the results 'res' above and spits out a 'clean' matrix of user preferences\n",
    "# as well as a list of users and places.  This is basically a cleaned version of 'make_matrix'\n",
    "\n",
    "def get_data(res):\n",
    "    \n",
    "    matrix, user_list, places = make_matrix(res)\n",
    "    \n",
    "    good_list=[]\n",
    "    for i in range(len(matrix)):\n",
    "        if sum(np.nan_to_num(matrix[i],0))!=0:\n",
    "            good_list.append(i)\n",
    "            \n",
    "    users_clean=np.array(user_list)[good_list]\n",
    "    matrix_clean=matrix[good_list]\n",
    "    return matrix_clean, users_clean, places"
   ]
  },
  {
   "cell_type": "code",
   "execution_count": 4,
   "metadata": {},
   "outputs": [],
   "source": [
    "def make_user_profiles(matrix,loc_info_clean,full_place_list):\n",
    "    profiles={}\n",
    "    for u in range(len(matrix)):\n",
    "        features_list=[]\n",
    "        for i in range(len(matrix[0])):\n",
    "            try:\n",
    "                features_list+=int(matrix[u][i])*(loc_info_clean[full_place_list[i]])\n",
    "            except:\n",
    "                features_list+=''\n",
    "\n",
    "        new_features=[]\n",
    "        for f in features_list:\n",
    "            try:\n",
    "                nf=style_mapper[f]\n",
    "                if type(nf)==str:\n",
    "                    new_features.append(nf)\n",
    "                else:\n",
    "                    new_features+=nf\n",
    "            except:\n",
    "                pass\n",
    "\n",
    "        ct=Counter(new_features)\n",
    "        norm=np.linalg.norm(list(ct.values()))\n",
    "        tot=sum(ct.values())\n",
    "\n",
    "        res={k:10*ct[k]/norm for k in ct.keys()}\n",
    "        #Use the line above if we want to normalize everything to a total of 10, else, use below.\n",
    "        #Not normalizing kinda makes sense because we can give more weight to those who have travelled\n",
    "        #more and reviewed more places... these people are more likely to be traveling and use the app \n",
    "        #anyway.\n",
    "        \n",
    "#         res={k:ct[k] for k in ct.keys()}\n",
    "        profiles[u]=res\n",
    "    return profiles\n",
    "\n",
    "\n",
    "\n",
    "def convert_profiles_to_np(profiles,attributes=['Nature','History','Culture','Life']):\n",
    "    \n",
    "    #Where does matrix come from?\n",
    "    np_profiles=[]\n",
    "    for u in range(len(profiles)):\n",
    "        user_profile=[]\n",
    "        for a in attributes:\n",
    "            if a in profiles[u].keys():\n",
    "                user_profile.append(profiles[u][a])\n",
    "            else:\n",
    "                user_profile.append(0)\n",
    "        np_profiles.append(user_profile)\n",
    "        \n",
    "    return np.array(np_profiles)\n",
    "\n",
    "#Flatten is just a helper function for 'make_profiles'\n",
    "\n",
    "def flatten(testlist):\n",
    "    acc=[]\n",
    "    for x in testlist:\n",
    "        if type(x)==str:\n",
    "            acc.append(x)\n",
    "        elif type(x)==list:\n",
    "            acc+=x\n",
    "    return acc"
   ]
  },
  {
   "cell_type": "code",
   "execution_count": 53,
   "metadata": {},
   "outputs": [
    {
     "ename": "NameError",
     "evalue": "name 'places_clean' is not defined",
     "output_type": "error",
     "traceback": [
      "\u001b[0;31m---------------------------------------------------------------------------\u001b[0m",
      "\u001b[0;31mNameError\u001b[0m                                 Traceback (most recent call last)",
      "\u001b[0;32m<ipython-input-53-d8a8009eeeeb>\u001b[0m in \u001b[0;36m<module>\u001b[0;34m()\u001b[0m\n\u001b[0;32m----> 1\u001b[0;31m \u001b[0mplaces_clean\u001b[0m\u001b[0;34m\u001b[0m\u001b[0m\n\u001b[0m",
      "\u001b[0;31mNameError\u001b[0m: name 'places_clean' is not defined"
     ]
    }
   ],
   "source": []
  },
  {
   "cell_type": "code",
   "execution_count": 5,
   "metadata": {},
   "outputs": [],
   "source": [
    "def make_place_profile(places_clean,loc_info_clean,style_mapper):\n",
    "    place_profile=[]\n",
    "    for p in places_clean:\n",
    "        try:\n",
    "            loc_info=loc_info_clean[p]\n",
    "            new_labels=[]\n",
    "            for label in loc_info:\n",
    "\n",
    "                sml=style_mapper[label]\n",
    "\n",
    "                if type(sml)==list:\n",
    "                    new_labels+=sml\n",
    "                else:\n",
    "                    new_labels+=[sml]\n",
    "                    pass\n",
    "                #print(new_labels)\n",
    "            ct=Counter(new_labels)\n",
    "            place_profile.append(np.array([ct['Nature'],ct['History'],ct['Culture'],ct['Life']]))\n",
    "        except:\n",
    "            place_profile.append(np.array([0,0,0,0]))\n",
    "    return place_profile"
   ]
  },
  {
   "cell_type": "code",
   "execution_count": 6,
   "metadata": {},
   "outputs": [],
   "source": [
    "def create_recsys(matrix,dropout=.1,latent_features=4,max_iter=10,lr=.001,epochs=3,temperature=1,batch_size=50):\n",
    "    return recsys.recsys(matrix,len(matrix),len(matrix[0]),latent_features,dropout,max_iter,epochs,temperature,lr,batch_size=batch_size)"
   ]
  },
  {
   "cell_type": "code",
   "execution_count": 7,
   "metadata": {},
   "outputs": [],
   "source": [
    "def make_place_arrays(places,loc_info_clean,style_mapper):\n",
    "    \n",
    "    #loc_info_clean is apparently the full place list\n",
    "    \n",
    "    places_clean=[x[15:] for x in places]\n",
    "    unreviewed_places=[x for x in loc_info_clean.keys() if x not in places_clean and 'tour' not in x.lower() and x in site_index]\n",
    "    full_place_list=places_clean+unreviewed_places\n",
    "\n",
    "    \n",
    "    place_profile = make_place_profile(places_clean,loc_info_clean,style_mapper)\n",
    "    unreviewed_place_profile = make_place_profile(unreviewed_places,loc_info_clean,style_mapper)\n",
    "    \n",
    "    reviewed_places = np.vstack(place_profile)\n",
    "    unreviewed_places = np.vstack(unreviewed_place_profile)\n",
    "    \n",
    "    full_profiles = np.concatenate((reviewed_places,unreviewed_places),axis=0)\n",
    "    \n",
    "    return full_profiles, full_place_list, unreviewed_places"
   ]
  },
  {
   "cell_type": "code",
   "execution_count": 8,
   "metadata": {},
   "outputs": [],
   "source": [
    "def convert_to_cdf(array,minimum,maximum):\n",
    "    new=[]\n",
    "    for x in array:\n",
    "        index=(maximum-minimum)/(len(array))*(bisect.bisect_left(sorted(array),x)-(len(array))/2)\n",
    "        new.append(index)\n",
    "    return np.array(new)\n",
    "\n",
    "\n",
    "\n",
    "def config_data(res, loc_info, style_mapper):\n",
    "    \n",
    "\n",
    "    \n",
    "    # first, use get_data to construct a matrix, user list and place list appearing in the\n",
    "    # user reviews.\n",
    "    \n",
    "    matrix, user_list, places = get_data(res)\n",
    "    \n",
    "    #next, build the user profiles based off of their reviews.\n",
    "    \n",
    "    loc_info_clean={x: remove_reviews(loc_info[x][1]) for x in loc_info.keys()}\n",
    "    \n",
    "    # The function 'make_place_arrays' is essentially just `passing through'. The reason\n",
    "    # this is done is to ensure that the input and output is consistent with the other\n",
    "    # data.\n",
    "    \n",
    "    \n",
    "    mpp = make_place_arrays(places,loc_info_clean,style_mapper)\n",
    "    full_profiles, full_place_list, unreviewed_places = mpp\n",
    "    \n",
    "    \n",
    "    \n",
    "    \n",
    "    user_profiles=make_user_profiles(matrix,loc_info_clean,full_place_list)\n",
    "    np_profiles=convert_profiles_to_np(user_profiles)\n",
    "    \n",
    "    np_profiles_normalized=pd.DataFrame(np_profiles).apply(lambda x: convert_to_cdf(x,0,10),axis=0)\n",
    "    \n",
    "    # next, we clean up places and add in a string of zeros for all the places which the\n",
    "    # users (all of them) have not been to.\n",
    "    \n",
    "    places_clean=[x[15:] for x in places]\n",
    "    padding=len([x for x in loc_info_clean.keys() if x not in places_clean and 'tour' not in x.lower() and x in site_index])  \n",
    "    zeros=np.zeros((len(matrix),padding))\n",
    "    new_matrix=np.concatenate((np_profiles,matrix,zeros),axis=1)\n",
    "\n",
    "    \n",
    "    \n",
    "    return user_profiles, new_matrix, places, mpp, style_mapper"
   ]
  },
  {
   "cell_type": "code",
   "execution_count": 46,
   "metadata": {},
   "outputs": [],
   "source": [
    "# loc_info_clean={x: remove_reviews(loc_info[x][1]) for x in loc_info.keys()}"
   ]
  },
  {
   "cell_type": "code",
   "execution_count": 14,
   "metadata": {},
   "outputs": [],
   "source": [
    "# full_place_list"
   ]
  },
  {
   "cell_type": "code",
   "execution_count": 35,
   "metadata": {},
   "outputs": [],
   "source": [
    "# profiles=[]\n",
    "# for u in range(len(matrix)):\n",
    "#     features_list=[]\n",
    "#     for i in range(len(matrix[0])):\n",
    "#         try:\n",
    "#             features_list+=int(matrix[u][i])*(loc_info_clean[full_place_list[i]])\n",
    "#         except:\n",
    "#             features_list+=''\n",
    "#     profiles.append(features_list)"
   ]
  },
  {
   "cell_type": "code",
   "execution_count": 9,
   "metadata": {},
   "outputs": [],
   "source": [
    "data=config_data(res,loc_info,style_mapper)\n",
    "user_profiles, matrix, reviewed_places, mpp, style_mapper = data\n",
    "full_place_profiles, full_place_list, unreviewed_places = mpp"
   ]
  },
  {
   "cell_type": "code",
   "execution_count": 15,
   "metadata": {},
   "outputs": [
    {
     "data": {
      "text/plain": [
       "(612, 608, 10358)"
      ]
     },
     "execution_count": 15,
     "metadata": {},
     "output_type": "execute_result"
    }
   ],
   "source": [
    "len(matrix[0]), len(full_place_profiles), len(user_profiles)"
   ]
  },
  {
   "cell_type": "code",
   "execution_count": 10,
   "metadata": {},
   "outputs": [],
   "source": [
    "# these are scores based on user profiles\n",
    "nature_scores=matrix[:,0]\n",
    "history_scores=matrix[:,1]\n",
    "culture_scores=matrix[:,2]\n",
    "life_scores=matrix[:,3]\n"
   ]
  },
  {
   "cell_type": "code",
   "execution_count": 21,
   "metadata": {},
   "outputs": [
    {
     "data": {
      "image/png": "[encoded data removed]",
      "text/plain": [
       "<Figure size 432x288 with 1 Axes>"
      ]
     },
     "metadata": {
      "needs_background": "light"
     },
     "output_type": "display_data"
    }
   ],
   "source": [
    "plt.hist(data[1][5][4:],bins=100)\n",
    "plt.show()"
   ]
  },
  {
   "cell_type": "code",
   "execution_count": 11,
   "metadata": {},
   "outputs": [
    {
     "data": {
      "text/plain": [
       "(4.753218911877891, 6.205286990682838, 2.030775620190107, 1.9122211214609839)"
      ]
     },
     "execution_count": 11,
     "metadata": {},
     "output_type": "execute_result"
    }
   ],
   "source": [
    "np.mean(nature_scores), np.mean(history_scores),np.mean(culture_scores),np.mean(life_scores)"
   ]
  },
  {
   "cell_type": "code",
   "execution_count": 12,
   "metadata": {},
   "outputs": [
    {
     "data": {
      "text/plain": [
       "array([ 0.9125262 , -4.75321891,  0.08153311, ...,  3.82171035,\n",
       "       -4.75321891, -4.75321891])"
      ]
     },
     "execution_count": 12,
     "metadata": {},
     "output_type": "execute_result"
    }
   ],
   "source": [
    "nature_scores-np.mean(nature_scores)"
   ]
  },
  {
   "cell_type": "code",
   "execution_count": 13,
   "metadata": {},
   "outputs": [
    {
     "data": {
      "image/png": "[encoded data removed]",
      "text/plain": [
       "<Figure size 432x288 with 1 Axes>"
      ]
     },
     "metadata": {
      "needs_background": "light"
     },
     "output_type": "display_data"
    }
   ],
   "source": [
    "plt.hist(nature_scores,bins=100)\n",
    "plt.hist(history_scores,bins=100)\n",
    "plt.hist(culture_scores,bins=100)\n",
    "plt.hist(life_scores,bins=100)\n",
    "plt.show()"
   ]
  },
  {
   "cell_type": "code",
   "execution_count": 19,
   "metadata": {},
   "outputs": [
    {
     "data": {
      "text/plain": [
       "(-0.4151522249928706,\n",
       " -0.18864998006676675,\n",
       " -1.0128345564754002,\n",
       " -1.1957155870427607)"
      ]
     },
     "execution_count": 19,
     "metadata": {},
     "output_type": "execute_result"
    }
   ],
   "source": [
    "np.mean(nature_scores), np.mean(history_scores), np.mean(culture_scores), np.mean(life_scores)"
   ]
  },
  {
   "cell_type": "code",
   "execution_count": 14,
   "metadata": {},
   "outputs": [
    {
     "data": {
      "image/png": "[encoded data removed]",
      "text/plain": [
       "<Figure size 432x288 with 1 Axes>"
      ]
     },
     "metadata": {
      "needs_background": "light"
     },
     "output_type": "display_data"
    }
   ],
   "source": [
    "history_hist= plt.hist(history_scores,bins=100)"
   ]
  },
  {
   "cell_type": "code",
   "execution_count": 96,
   "metadata": {},
   "outputs": [
    {
     "data": {
      "text/plain": [
       "array([ 1,  3,  6, 10, 15])"
      ]
     },
     "execution_count": 96,
     "metadata": {},
     "output_type": "execute_result"
    }
   ],
   "source": [
    "np.cumsum([1,2,3,4,5])"
   ]
  },
  {
   "cell_type": "code",
   "execution_count": 99,
   "metadata": {},
   "outputs": [
    {
     "data": {
      "text/plain": [
       "array([1.074e+03, 3.100e+02, 5.380e+02, 1.322e+03, 4.100e+01, 6.000e+02,\n",
       "       1.751e+03, 2.250e+02, 5.410e+02, 7.590e+02, 2.560e+02, 3.610e+02,\n",
       "       6.010e+02, 1.950e+02, 1.470e+02, 5.550e+02, 1.460e+02, 1.070e+02,\n",
       "       3.100e+02, 5.700e+01, 1.380e+02, 1.930e+02, 3.700e+01, 1.030e+02,\n",
       "       4.300e+01, 1.370e+02, 6.000e+01, 3.200e+01, 8.800e+01, 1.900e+01,\n",
       "       4.100e+01, 6.300e+01, 1.700e+01, 3.900e+01, 2.800e+01, 2.900e+01,\n",
       "       1.300e+01, 1.600e+01, 1.500e+01, 8.000e+00, 1.900e+01, 1.100e+01,\n",
       "       5.000e+00, 1.000e+01, 4.000e+00, 9.000e+00, 7.000e+00, 1.000e+00,\n",
       "       7.000e+00, 4.000e+00, 4.000e+00, 6.000e+00, 1.000e+00, 5.000e+00,\n",
       "       1.000e+00, 2.000e+00, 3.000e+00, 0.000e+00, 1.000e+00, 1.000e+00,\n",
       "       1.000e+00, 1.000e+00, 0.000e+00, 0.000e+00, 0.000e+00, 1.000e+00,\n",
       "       0.000e+00, 1.000e+00, 4.000e+00, 0.000e+00, 1.000e+00, 2.000e+00,\n",
       "       0.000e+00, 0.000e+00, 1.000e+00, 0.000e+00, 1.000e+00, 0.000e+00,\n",
       "       1.000e+00, 0.000e+00, 0.000e+00, 0.000e+00, 0.000e+00, 0.000e+00,\n",
       "       0.000e+00, 0.000e+00, 0.000e+00, 0.000e+00, 0.000e+00, 0.000e+00,\n",
       "       0.000e+00, 0.000e+00, 0.000e+00, 1.000e+00, 0.000e+00, 0.000e+00,\n",
       "       0.000e+00, 0.000e+00, 0.000e+00, 1.000e+00])"
      ]
     },
     "execution_count": 99,
     "metadata": {},
     "output_type": "execute_result"
    }
   ],
   "source": [
    "history_hist[0]"
   ]
  },
  {
   "cell_type": "code",
   "execution_count": 115,
   "metadata": {},
   "outputs": [
    {
     "data": {
      "text/plain": [
       "9.64786201940352"
      ]
     },
     "execution_count": 115,
     "metadata": {},
     "output_type": "execute_result"
    }
   ],
   "source": [
    "\n",
    "bisect.bisect_left(sorted(history_scores),2)*100/len(matrix)"
   ]
  },
  {
   "cell_type": "code",
   "execution_count": 143,
   "metadata": {},
   "outputs": [],
   "source": []
  },
  {
   "cell_type": "code",
   "execution_count": 132,
   "metadata": {},
   "outputs": [],
   "source": [
    "up=matrix[:,:4]"
   ]
  },
  {
   "cell_type": "code",
   "execution_count": 142,
   "metadata": {},
   "outputs": [
    {
     "data": {
      "text/plain": [
       "array([92.59791592, 17.26554078, 17.26554078, 98.22134387, 52.65001797])"
      ]
     },
     "execution_count": 142,
     "metadata": {},
     "output_type": "execute_result"
    }
   ],
   "source": [
    "cdf_history[:5]"
   ]
  },
  {
   "cell_type": "code",
   "execution_count": 141,
   "metadata": {},
   "outputs": [],
   "source": [
    "cdf_nature=convert_to_cdf(nature_scores)\n",
    "cdf_history=convert_to_cdf(history_scores)\n",
    "cdf_culture=convert_to_cdf(culture_scores)\n",
    "cdf_life=convert_to_cdf(life_scores)"
   ]
  },
  {
   "cell_type": "code",
   "execution_count": null,
   "metadata": {},
   "outputs": [],
   "source": [
    "np.concatenate((np_profiles,matrix,zeros),axis=1)"
   ]
  },
  {
   "cell_type": "code",
   "execution_count": 130,
   "metadata": {},
   "outputs": [
    {
     "data": {
      "image/png": "[encoded data removed]",
      "text/plain": [
       "<Figure size 432x288 with 1 Axes>"
      ]
     },
     "metadata": {
      "needs_background": "light"
     },
     "output_type": "display_data"
    }
   ],
   "source": [
    "plt.hist(cdfs,bins=100)\n",
    "plt.show()"
   ]
  },
  {
   "cell_type": "code",
   "execution_count": 105,
   "metadata": {},
   "outputs": [
    {
     "data": {
      "image/png": "[encoded data removed]",
      "text/plain": [
       "<Figure size 432x288 with 1 Axes>"
      ]
     },
     "metadata": {
      "needs_background": "light"
     },
     "output_type": "display_data"
    }
   ],
   "source": [
    "plt.plot(range(100),np.cumsum(history_hist[0])/len(matrix))\n",
    "plt.show()"
   ]
  },
  {
   "cell_type": "code",
   "execution_count": 72,
   "metadata": {},
   "outputs": [
    {
     "data": {
      "text/plain": [
       "array([3.80000e+01, 4.30000e+01, 4.80000e+01, ..., 1.72058e+05,\n",
       "       1.72066e+05, 1.72076e+05])"
      ]
     },
     "execution_count": 72,
     "metadata": {},
     "output_type": "execute_result"
    }
   ],
   "source": [
    "np.cumsum(history_scores)"
   ]
  },
  {
   "cell_type": "code",
   "execution_count": 74,
   "metadata": {},
   "outputs": [
    {
     "data": {
      "text/plain": [
       "[<matplotlib.lines.Line2D at 0x11781c588>]"
      ]
     },
     "execution_count": 74,
     "metadata": {},
     "output_type": "execute_result"
    },
    {
     "data": {
      "image/png": "[encoded data removed]",
      "text/plain": [
       "<Figure size 432x288 with 1 Axes>"
      ]
     },
     "metadata": {
      "needs_background": "light"
     },
     "output_type": "display_data"
    }
   ],
   "source": [
    "plt.plot(np.cumsum(sorted(history_scores)))"
   ]
  },
  {
   "cell_type": "code",
   "execution_count": 20,
   "metadata": {},
   "outputs": [],
   "source": [
    "with open('good_data/full_place_list_light.pkl','wb') as f:\n",
    "    pkl.dump(full_place_list,f)\n",
    "    \n",
    "    \n",
    "with open('good_data/place_profiles_light.pkl','wb') as f:\n",
    "    pkl.dump(full_place_profiles,f)\n",
    "    \n"
   ]
  },
  {
   "cell_type": "code",
   "execution_count": 15,
   "metadata": {},
   "outputs": [
    {
     "data": {
      "text/plain": [
       "(3675, 4)"
      ]
     },
     "execution_count": 15,
     "metadata": {},
     "output_type": "execute_result"
    }
   ],
   "source": [
    "full_place_profiles.shape"
   ]
  },
  {
   "cell_type": "code",
   "execution_count": 39,
   "metadata": {},
   "outputs": [],
   "source": [
    "nature=full_place_profiles[:,0]\n",
    "history=full_place_profiles[:,1]\n",
    "culture=full_place_profiles[:,2]\n",
    "life=full_place_profiles[:,3]"
   ]
  },
  {
   "cell_type": "code",
   "execution_count": null,
   "metadata": {},
   "outputs": [],
   "source": []
  },
  {
   "cell_type": "code",
   "execution_count": 41,
   "metadata": {},
   "outputs": [
    {
     "data": {
      "image/png": "[encoded data removed]",
      "text/plain": [
       "<Figure size 432x288 with 1 Axes>"
      ]
     },
     "metadata": {
      "needs_background": "light"
     },
     "output_type": "display_data"
    }
   ],
   "source": [
    "plt.hist(nature,bins=100)\n",
    "plt.xlim(0,5)\n",
    "plt.show()"
   ]
  },
  {
   "cell_type": "code",
   "execution_count": 115,
   "metadata": {},
   "outputs": [],
   "source": [
    "preferences=[3,1,4,-5]\n",
    "new_user_preferences=(10/sum(np.abs(preferences)))*np.array(preferences)\n",
    "offset=np.array([sum(new_user_preferences*x) for x in full_place_profiles])/4"
   ]
  },
  {
   "cell_type": "code",
   "execution_count": 116,
   "metadata": {},
   "outputs": [
    {
     "ename": "NameError",
     "evalue": "name 'test_real' is not defined",
     "output_type": "error",
     "traceback": [
      "\u001b[0;31m---------------------------------------------------------------------------\u001b[0m",
      "\u001b[0;31mNameError\u001b[0m                                 Traceback (most recent call last)",
      "\u001b[0;32m<ipython-input-116-74c549b5da1b>\u001b[0m in \u001b[0;36m<module>\u001b[0;34m()\u001b[0m\n\u001b[1;32m      1\u001b[0m \u001b[0minitialization\u001b[0m\u001b[0;34m=\u001b[0m\u001b[0mnp\u001b[0m\u001b[0;34m.\u001b[0m\u001b[0mzeros\u001b[0m\u001b[0;34m(\u001b[0m\u001b[0mlen\u001b[0m\u001b[0;34m(\u001b[0m\u001b[0mfull_place_profiles\u001b[0m\u001b[0;34m)\u001b[0m\u001b[0;34m)\u001b[0m\u001b[0;34m\u001b[0m\u001b[0m\n\u001b[1;32m      2\u001b[0m \u001b[0mnew_user\u001b[0m\u001b[0;34m=\u001b[0m\u001b[0mnp\u001b[0m\u001b[0;34m.\u001b[0m\u001b[0mconcatenate\u001b[0m\u001b[0;34m(\u001b[0m\u001b[0;34m(\u001b[0m\u001b[0mnew_user_preferences\u001b[0m\u001b[0;34m,\u001b[0m\u001b[0minitialization\u001b[0m\u001b[0;34m)\u001b[0m\u001b[0;34m,\u001b[0m\u001b[0maxis\u001b[0m\u001b[0;34m=\u001b[0m\u001b[0;36m0\u001b[0m\u001b[0;34m)\u001b[0m\u001b[0;34m\u001b[0m\u001b[0m\n\u001b[0;32m----> 3\u001b[0;31m \u001b[0mpredictions_raw\u001b[0m\u001b[0;34m=\u001b[0m\u001b[0mtest_real\u001b[0m\u001b[0;34m.\u001b[0m\u001b[0mpredict\u001b[0m\u001b[0;34m(\u001b[0m\u001b[0mnew_user\u001b[0m\u001b[0;34m)\u001b[0m\u001b[0;34m\u001b[0m\u001b[0m\n\u001b[0m\u001b[1;32m      4\u001b[0m \u001b[0mnn_predictions\u001b[0m\u001b[0;34m=\u001b[0m\u001b[0mpredictions_raw\u001b[0m\u001b[0;34m.\u001b[0m\u001b[0mdetach\u001b[0m\u001b[0;34m(\u001b[0m\u001b[0;34m)\u001b[0m\u001b[0;34m.\u001b[0m\u001b[0mnumpy\u001b[0m\u001b[0;34m(\u001b[0m\u001b[0;34m)\u001b[0m\u001b[0;34m\u001b[0m\u001b[0m\n",
      "\u001b[0;31mNameError\u001b[0m: name 'test_real' is not defined"
     ]
    }
   ],
   "source": [
    "initialization=np.zeros(len(full_place_profiles))\n",
    "new_user=np.concatenate((new_user_preferences,initialization),axis=0)\n",
    "predictions_raw=test_real.predict(new_user)\n",
    "nn_predictions=predictions_raw.detach().numpy()"
   ]
  },
  {
   "cell_type": "code",
   "execution_count": 185,
   "metadata": {},
   "outputs": [
    {
     "data": {
      "text/plain": [
       "'La Boulangerie de San Francisco'"
      ]
     },
     "execution_count": 185,
     "metadata": {},
     "output_type": "execute_result"
    }
   ],
   "source": [
    "full_place_list[list(nn_predictions).index(max(nn_predictions))]"
   ]
  },
  {
   "cell_type": "code",
   "execution_count": 41,
   "metadata": {},
   "outputs": [
    {
     "data": {
      "text/plain": [
       "'/Users/williamcottrell72/MyGit/Kodak'"
      ]
     },
     "execution_count": 41,
     "metadata": {},
     "output_type": "execute_result"
    }
   ],
   "source": [
    "os.getcwd()\n"
   ]
  },
  {
   "cell_type": "code",
   "execution_count": 35,
   "metadata": {},
   "outputs": [],
   "source": [
    "with open('data/processed_data.pkl','wb') as f:\n",
    "    pkl.dump(data,f)\n",
    "\n",
    "# with open('data/processed_data.pkl','rb') as f:\n",
    "#     processed_data=pkl.load(f)"
   ]
  },
  {
   "cell_type": "code",
   "execution_count": 189,
   "metadata": {},
   "outputs": [
    {
     "data": {
      "text/plain": [
       "11132"
      ]
     },
     "execution_count": 189,
     "metadata": {},
     "output_type": "execute_result"
    }
   ],
   "source": [
    "len(data[1])"
   ]
  },
  {
   "cell_type": "code",
   "execution_count": 15,
   "metadata": {},
   "outputs": [],
   "source": [
    "test_real=create_recsys(data[1],max_iter=200,lr=.01,epochs=8,batch_size=200,latent_features=12)"
   ]
  },
  {
   "cell_type": "code",
   "execution_count": 52,
   "metadata": {},
   "outputs": [
    {
     "data": {
      "text/plain": [
       "(10358, 612)"
      ]
     },
     "execution_count": 52,
     "metadata": {},
     "output_type": "execute_result"
    }
   ],
   "source": [
    "data[1].shape"
   ]
  },
  {
   "cell_type": "code",
   "execution_count": 16,
   "metadata": {},
   "outputs": [
    {
     "name": "stdout",
     "output_type": "stream",
     "text": [
      "Epoch 1\n",
      "Epoch 2\n",
      "Epoch 3\n",
      "Epoch 4\n",
      "Epoch 5\n",
      "Epoch 6\n",
      "Epoch 7\n",
      "Epoch 8\n"
     ]
    }
   ],
   "source": [
    "test_real.fit()"
   ]
  },
  {
   "cell_type": "code",
   "execution_count": null,
   "metadata": {},
   "outputs": [],
   "source": []
  },
  {
   "cell_type": "code",
   "execution_count": 19,
   "metadata": {},
   "outputs": [],
   "source": [
    "sample_indices=np.random.choice(range(len(data[1][0])),17,replace=False)\n",
    "sample=data[1][sample_indices]"
   ]
  },
  {
   "cell_type": "code",
   "execution_count": 20,
   "metadata": {},
   "outputs": [
    {
     "data": {
      "text/plain": [
       "tensor([[ 2.9810,  1.5082,  1.5374,  ..., -0.0006,  0.0014, -0.0018],\n",
       "        [ 1.7999,  2.1126,  0.9161,  ...,  0.0109,  0.0059, -0.0024],\n",
       "        [ 3.6200,  1.9025,  0.6223,  ..., -0.0004,  0.0001, -0.0003],\n",
       "        ...,\n",
       "        [ 4.5361,  0.4629,  1.0363,  ...,  0.0011, -0.0030, -0.0001],\n",
       "        [ 2.8857,  2.9814,  2.4910,  ..., -0.0038, -0.0062,  0.0020],\n",
       "        [ 1.1620,  2.5965,  1.0256,  ...,  0.0148,  0.0112, -0.0021]],\n",
       "       grad_fn=<ThAddmmBackward>)"
      ]
     },
     "execution_count": 20,
     "metadata": {},
     "output_type": "execute_result"
    }
   ],
   "source": [
    "test_real.forward(sample)"
   ]
  },
  {
   "cell_type": "code",
   "execution_count": 19,
   "metadata": {},
   "outputs": [],
   "source": [
    "# with open('model/model.pkl','wb') as f:\n",
    "#     pkl.dump(test_real,f)\n",
    "\n",
    "import torch\n",
    "    \n",
    "torch.save(test_real.state_dict(),'model/model_cdf_light')\n",
    "    \n",
    "# torch.save(test_real,'model/model3')\n",
    "# with open('model/model.pkl','rb') as f:\n",
    "#     test_real=pkl.load(f)\n",
    "\n",
    "# test_real.state_dict()"
   ]
  },
  {
   "cell_type": "code",
   "execution_count": 18,
   "metadata": {},
   "outputs": [
    {
     "data": {
      "text/plain": [
       "11132"
      ]
     },
     "execution_count": 18,
     "metadata": {},
     "output_type": "execute_result"
    }
   ],
   "source": [
    "data[1].shape[0]"
   ]
  },
  {
   "cell_type": "code",
   "execution_count": 22,
   "metadata": {},
   "outputs": [
    {
     "data": {
      "text/plain": [
       "0.1001129150390625"
      ]
     },
     "execution_count": 22,
     "metadata": {},
     "output_type": "execute_result"
    }
   ],
   "source": [
    ".75**8"
   ]
  },
  {
   "cell_type": "code",
   "execution_count": 223,
   "metadata": {},
   "outputs": [],
   "source": [
    "import torch.nn as nn\n",
    "new_model=recsys.recsys(latent_features=10,sites=len(full_place_list)+4)\n"
   ]
  },
  {
   "cell_type": "code",
   "execution_count": 224,
   "metadata": {},
   "outputs": [],
   "source": [
    "new_model.load_state_dict(torch.load('model/model2'))"
   ]
  },
  {
   "cell_type": "code",
   "execution_count": 17,
   "metadata": {},
   "outputs": [
    {
     "data": {
      "image/png": "[encoded data removed]",
      "text/plain": [
       "<Figure size 432x288 with 1 Axes>"
      ]
     },
     "metadata": {
      "needs_background": "light"
     },
     "output_type": "display_data"
    }
   ],
   "source": [
    "plt.scatter(list(range(len(test_real.losses))),test_real.losses,s=.3)\n",
    "# plt.scatter(list(range(len(old_losses))),old_losses,s=.3)\n",
    "plt.xlabel('Iteration')\n",
    "plt.ylabel('Loss')\n",
    "plt.ylim(0,1)\n",
    "plt.show()"
   ]
  },
  {
   "cell_type": "code",
   "execution_count": 18,
   "metadata": {},
   "outputs": [
    {
     "data": {
      "text/plain": [
       "[0.053257569670677185,\n",
       " 0.05323784425854683,\n",
       " 0.05321819707751274,\n",
       " 0.05319865047931671,\n",
       " 0.053179189562797546,\n",
       " 0.05315978452563286,\n",
       " 0.05314051732420921,\n",
       " 0.05312131345272064,\n",
       " 0.053102198988199234,\n",
       " 0.05308319628238678]"
      ]
     },
     "execution_count": 18,
     "metadata": {},
     "output_type": "execute_result"
    }
   ],
   "source": [
    "test_real.losses[-10:]"
   ]
  },
  {
   "cell_type": "code",
   "execution_count": null,
   "metadata": {},
   "outputs": [],
   "source": []
  },
  {
   "cell_type": "code",
   "execution_count": 160,
   "metadata": {},
   "outputs": [],
   "source": [
    "# Predictions are in the full space, including the rated and unrated attractions\n",
    "\n",
    "# def preferences_to_placescores(preferences,weight,num_results=10,fpp=full_place_profiles):\n",
    "  \n",
    "    \n",
    "    \n",
    "#     new_user_preferences=(10/sum(preferences))*np.array(preferences)\n",
    "    \n",
    "    \n",
    "#     initialization=np.zeros(len(fpp))\n",
    "\n",
    "#     #Finally, we combine the preferences with the initialization to represent the new user as a row.\n",
    "\n",
    "#     new_user=np.concatenate((new_user_preferences,initialization),axis=0)\n",
    "\n",
    "\n",
    "#     #Let's figure out what the user likes!\n",
    "#     predictions_raw=test_real.predict(new_user)\n",
    "    \n",
    "#     predictions=predictions_raw.detach().numpy()[len(preferences):]\n",
    "\n",
    "    \n",
    "    \n",
    "#     offset=[sum(new_user_preferences*x) for x in fpp]\n",
    "\n",
    "#     final_predictions=predictions+weight*np.array(offset)\n",
    "#     place_prediction=sorted(list(enumerate(final_predictions)),key=lambda x: x[1],reverse=True)\n",
    "#     potentials=[[full_place_list[x[0]],x[1]] for x in place_prediction]\n",
    "#     filtered=list(filter(lambda x: condition(x[0])  and condition_vivien(x[0]),potentials))[:num_results]\n",
    "#     return filtered \n",
    "    \n",
    "#     return [[full_place_list[x[0]],x[1]] for x in place_prediction][:num_results]\n",
    "# return filtered "
   ]
  },
  {
   "cell_type": "code",
   "execution_count": 161,
   "metadata": {},
   "outputs": [
    {
     "data": {
      "text/plain": [
       "True"
      ]
     },
     "execution_count": 161,
     "metadata": {},
     "output_type": "execute_result"
    }
   ],
   "source": [
    "condition('War SF 34Opera House')"
   ]
  },
  {
   "cell_type": "code",
   "execution_count": 162,
   "metadata": {},
   "outputs": [],
   "source": [
    "recsnew=preferences_to_placescores([1,2,3,4],1,10,full_place_profiles)"
   ]
  },
  {
   "cell_type": "code",
   "execution_count": 163,
   "metadata": {},
   "outputs": [
    {
     "data": {
      "text/plain": [
       "['Comedy Clubs in San Francisco',\n",
       " '4WD, ATV & Off-Road Tours in San Francisco',\n",
       " 'Taxis & Shuttles in San Francisco',\n",
       " 'Stand-Up Paddleboarding in San Francisco',\n",
       " 'Ski & Snow Tours in San Francisco',\n",
       " 'Nature & Wildlife Tours in San Francisco',\n",
       " 'Yoga & Pilates in San Francisco',\n",
       " 'Kayaking & Canoeing in San Francisco',\n",
       " 'Fashion Shows & Tours in San Francisco',\n",
       " 'Bar, Club & Pub Tours in San Francisco']"
      ]
     },
     "execution_count": 163,
     "metadata": {},
     "output_type": "execute_result"
    }
   ],
   "source": [
    "things_to_remove[:10]"
   ]
  },
  {
   "cell_type": "code",
   "execution_count": 159,
   "metadata": {},
   "outputs": [],
   "source": [
    "for s in [x[0] for x in recsnew]:\n",
    "    if 'Fashion Shows' in s:\n",
    "        print(s)\n",
    "    "
   ]
  },
  {
   "cell_type": "code",
   "execution_count": 19,
   "metadata": {},
   "outputs": [],
   "source": [
    "full_profiles, full_place_list, urp = mpp\n",
    "zeros=np.zeros((len(matrix),len(urp)))"
   ]
  },
  {
   "cell_type": "code",
   "execution_count": 35,
   "metadata": {},
   "outputs": [
    {
     "ename": "NameError",
     "evalue": "name 'preferences' is not defined",
     "output_type": "error",
     "traceback": [
      "\u001b[0;31m---------------------------------------------------------------------------\u001b[0m",
      "\u001b[0;31mNameError\u001b[0m                                 Traceback (most recent call last)",
      "\u001b[0;32m<ipython-input-35-f167274aaa87>\u001b[0m in \u001b[0;36m<module>\u001b[0;34m()\u001b[0m\n\u001b[0;32m----> 1\u001b[0;31m \u001b[0mnew_user_preferences\u001b[0m\u001b[0;34m=\u001b[0m\u001b[0;34m(\u001b[0m\u001b[0;36m10\u001b[0m\u001b[0;34m/\u001b[0m\u001b[0msum\u001b[0m\u001b[0;34m(\u001b[0m\u001b[0mpreferences\u001b[0m\u001b[0;34m)\u001b[0m\u001b[0;34m)\u001b[0m\u001b[0;34m*\u001b[0m\u001b[0mnp\u001b[0m\u001b[0;34m.\u001b[0m\u001b[0marray\u001b[0m\u001b[0;34m(\u001b[0m\u001b[0mpreferences\u001b[0m\u001b[0;34m)\u001b[0m\u001b[0;34m\u001b[0m\u001b[0m\n\u001b[0m",
      "\u001b[0;31mNameError\u001b[0m: name 'preferences' is not defined"
     ]
    }
   ],
   "source": [
    "new_user_preferences=(10/sum(preferences))*np.array(preferences)"
   ]
  },
  {
   "cell_type": "code",
   "execution_count": 56,
   "metadata": {},
   "outputs": [
    {
     "data": {
      "text/plain": [
       "2359"
      ]
     },
     "execution_count": 56,
     "metadata": {},
     "output_type": "execute_result"
    }
   ],
   "source": [
    "initialization=np.zeros(len(data[1][0])-len(preferences))\n",
    "\n",
    "#Finally, we combine the preferences with the initialization to represent the new user as a row.\n",
    "\n",
    "new_user=np.concatenate((new_user_preferences,initialization),axis=0)\n",
    "len(new_user)"
   ]
  },
  {
   "cell_type": "code",
   "execution_count": 68,
   "metadata": {},
   "outputs": [
    {
     "data": {
      "text/plain": [
       "(10836, 2359)"
      ]
     },
     "execution_count": 68,
     "metadata": {},
     "output_type": "execute_result"
    }
   ],
   "source": [
    "data[1].shape"
   ]
  },
  {
   "cell_type": "code",
   "execution_count": 66,
   "metadata": {},
   "outputs": [
    {
     "data": {
      "text/plain": [
       "(1, 2359)"
      ]
     },
     "execution_count": 66,
     "metadata": {},
     "output_type": "execute_result"
    }
   ],
   "source": [
    "new_user.reshape(1,-1).shape"
   ]
  },
  {
   "cell_type": "code",
   "execution_count": 21,
   "metadata": {},
   "outputs": [
    {
     "ename": "NameError",
     "evalue": "name 'test_real' is not defined",
     "output_type": "error",
     "traceback": [
      "\u001b[0;31m---------------------------------------------------------------------------\u001b[0m",
      "\u001b[0;31mNameError\u001b[0m                                 Traceback (most recent call last)",
      "\u001b[0;32m<ipython-input-21-0c7d123bac61>\u001b[0m in \u001b[0;36m<module>\u001b[0;34m()\u001b[0m\n\u001b[0;32m----> 1\u001b[0;31m \u001b[0mpredictions_raw\u001b[0m\u001b[0;34m=\u001b[0m\u001b[0mtest_real\u001b[0m\u001b[0;34m.\u001b[0m\u001b[0mpredict\u001b[0m\u001b[0;34m(\u001b[0m\u001b[0mnew_user\u001b[0m\u001b[0;34m.\u001b[0m\u001b[0mreshape\u001b[0m\u001b[0;34m(\u001b[0m\u001b[0;36m1\u001b[0m\u001b[0;34m,\u001b[0m\u001b[0;34m-\u001b[0m\u001b[0;36m1\u001b[0m\u001b[0;34m)\u001b[0m\u001b[0;34m)\u001b[0m\u001b[0;34m\u001b[0m\u001b[0m\n\u001b[0m",
      "\u001b[0;31mNameError\u001b[0m: name 'test_real' is not defined"
     ]
    }
   ],
   "source": [
    "predictions_raw=test_real.predict(new_user.reshape(1,-1))"
   ]
  },
  {
   "cell_type": "code",
   "execution_count": 43,
   "metadata": {},
   "outputs": [
    {
     "ename": "RuntimeError",
     "evalue": "size mismatch, m1: [1 x 2359], m2: [3679 x 10] at /Users/soumith/miniconda2/conda-bld/pytorch_1532623076075/work/aten/src/TH/generic/THTensorMath.cpp:2070",
     "output_type": "error",
     "traceback": [
      "\u001b[0;31m---------------------------------------------------------------------------\u001b[0m",
      "\u001b[0;31mRuntimeError\u001b[0m                              Traceback (most recent call last)",
      "\u001b[0;32m<ipython-input-43-15863008a102>\u001b[0m in \u001b[0;36m<module>\u001b[0;34m()\u001b[0m\n\u001b[1;32m      1\u001b[0m \u001b[0;31m# ['Nature','History','Culture','Life']\u001b[0m\u001b[0;34m\u001b[0m\u001b[0;34m\u001b[0m\u001b[0m\n\u001b[1;32m      2\u001b[0m \u001b[0mpreferences\u001b[0m\u001b[0;34m=\u001b[0m\u001b[0;34m[\u001b[0m\u001b[0;36m0\u001b[0m\u001b[0;34m,\u001b[0m\u001b[0;36m1\u001b[0m\u001b[0;34m,\u001b[0m\u001b[0;36m0\u001b[0m\u001b[0;34m,\u001b[0m\u001b[0;36m0\u001b[0m\u001b[0;34m]\u001b[0m\u001b[0;34m\u001b[0m\u001b[0m\n\u001b[0;32m----> 3\u001b[0;31m \u001b[0mpreferences_to_placescores\u001b[0m\u001b[0;34m(\u001b[0m\u001b[0mpreferences\u001b[0m\u001b[0;34m,\u001b[0m\u001b[0mnum_results\u001b[0m\u001b[0;34m=\u001b[0m\u001b[0;36m20\u001b[0m\u001b[0;34m,\u001b[0m\u001b[0mweight\u001b[0m\u001b[0;34m=\u001b[0m\u001b[0;36m.01\u001b[0m\u001b[0;34m)\u001b[0m\u001b[0;34m\u001b[0m\u001b[0m\n\u001b[0m",
      "\u001b[0;32m<ipython-input-42-7d29717a92d7>\u001b[0m in \u001b[0;36mpreferences_to_placescores\u001b[0;34m(preferences, weight, num_results, user_profiles, new_matrix, places, mpp, style_mapper)\u001b[0m\n\u001b[1;32m     18\u001b[0m \u001b[0;34m\u001b[0m\u001b[0m\n\u001b[1;32m     19\u001b[0m     \u001b[0;31m#Let's figure out what the user likes!\u001b[0m\u001b[0;34m\u001b[0m\u001b[0;34m\u001b[0m\u001b[0m\n\u001b[0;32m---> 20\u001b[0;31m     \u001b[0mpredictions_raw\u001b[0m\u001b[0;34m=\u001b[0m\u001b[0mtest_real\u001b[0m\u001b[0;34m.\u001b[0m\u001b[0mpredict\u001b[0m\u001b[0;34m(\u001b[0m\u001b[0mnew_user\u001b[0m\u001b[0;34m)\u001b[0m\u001b[0;34m\u001b[0m\u001b[0m\n\u001b[0m\u001b[1;32m     21\u001b[0m \u001b[0;34m\u001b[0m\u001b[0m\n\u001b[1;32m     22\u001b[0m     \u001b[0mpredictions\u001b[0m\u001b[0;34m=\u001b[0m\u001b[0mpredictions_raw\u001b[0m\u001b[0;34m.\u001b[0m\u001b[0mdetach\u001b[0m\u001b[0;34m(\u001b[0m\u001b[0;34m)\u001b[0m\u001b[0;34m.\u001b[0m\u001b[0mnumpy\u001b[0m\u001b[0;34m(\u001b[0m\u001b[0;34m)\u001b[0m\u001b[0;34m[\u001b[0m\u001b[0mlen\u001b[0m\u001b[0;34m(\u001b[0m\u001b[0mpreferences\u001b[0m\u001b[0;34m)\u001b[0m\u001b[0;34m:\u001b[0m\u001b[0;34m]\u001b[0m\u001b[0;34m\u001b[0m\u001b[0m\n",
      "\u001b[0;32m~/MyGit/Kodak/recsys.py\u001b[0m in \u001b[0;36mpredict\u001b[0;34m(self, x)\u001b[0m\n\u001b[1;32m    104\u001b[0m     \u001b[0;32mdef\u001b[0m \u001b[0mpredict\u001b[0m\u001b[0;34m(\u001b[0m\u001b[0mself\u001b[0m\u001b[0;34m,\u001b[0m\u001b[0mx\u001b[0m\u001b[0;34m)\u001b[0m\u001b[0;34m:\u001b[0m\u001b[0;34m\u001b[0m\u001b[0m\n\u001b[1;32m    105\u001b[0m         \u001b[0mx\u001b[0m\u001b[0;34m=\u001b[0m\u001b[0mself\u001b[0m\u001b[0;34m.\u001b[0m\u001b[0mimputer\u001b[0m\u001b[0;34m(\u001b[0m\u001b[0mx\u001b[0m\u001b[0;34m)\u001b[0m\u001b[0;34m\u001b[0m\u001b[0m\n\u001b[0;32m--> 106\u001b[0;31m         \u001b[0;32mreturn\u001b[0m \u001b[0mself\u001b[0m\u001b[0;34m.\u001b[0m\u001b[0mforward\u001b[0m\u001b[0;34m(\u001b[0m\u001b[0mx\u001b[0m\u001b[0;34m)\u001b[0m\u001b[0;34m\u001b[0m\u001b[0m\n\u001b[0m\u001b[1;32m    107\u001b[0m \u001b[0;34m\u001b[0m\u001b[0m\n\u001b[1;32m    108\u001b[0m     \u001b[0;32mdef\u001b[0m \u001b[0mfit\u001b[0m\u001b[0;34m(\u001b[0m\u001b[0mself\u001b[0m\u001b[0;34m,\u001b[0m\u001b[0mratings\u001b[0m\u001b[0;34m=\u001b[0m\u001b[0;32mNone\u001b[0m\u001b[0;34m)\u001b[0m\u001b[0;34m:\u001b[0m\u001b[0;34m\u001b[0m\u001b[0m\n",
      "\u001b[0;32m~/MyGit/Kodak/recsys.py\u001b[0m in \u001b[0;36mforward\u001b[0;34m(self, x)\u001b[0m\n\u001b[1;32m     80\u001b[0m     \u001b[0;32mdef\u001b[0m \u001b[0mforward\u001b[0m\u001b[0;34m(\u001b[0m\u001b[0mself\u001b[0m\u001b[0;34m,\u001b[0m\u001b[0mx\u001b[0m\u001b[0;34m)\u001b[0m\u001b[0;34m:\u001b[0m\u001b[0;34m\u001b[0m\u001b[0m\n\u001b[1;32m     81\u001b[0m         \u001b[0mx\u001b[0m\u001b[0;34m=\u001b[0m\u001b[0mself\u001b[0m\u001b[0;34m.\u001b[0m\u001b[0mimputer\u001b[0m\u001b[0;34m(\u001b[0m\u001b[0mx\u001b[0m\u001b[0;34m)\u001b[0m\u001b[0;34m\u001b[0m\u001b[0m\n\u001b[0;32m---> 82\u001b[0;31m         \u001b[0mx\u001b[0m\u001b[0;34m=\u001b[0m\u001b[0mself\u001b[0m\u001b[0;34m.\u001b[0m\u001b[0mlinear1\u001b[0m\u001b[0;34m(\u001b[0m\u001b[0mx\u001b[0m\u001b[0;34m.\u001b[0m\u001b[0mfloat\u001b[0m\u001b[0;34m(\u001b[0m\u001b[0;34m)\u001b[0m\u001b[0;34m)\u001b[0m\u001b[0;34m\u001b[0m\u001b[0m\n\u001b[0m\u001b[1;32m     83\u001b[0m         \u001b[0mx\u001b[0m\u001b[0;34m=\u001b[0m\u001b[0mtorch\u001b[0m\u001b[0;34m.\u001b[0m\u001b[0mtanh\u001b[0m\u001b[0;34m(\u001b[0m\u001b[0mx\u001b[0m\u001b[0;34m)\u001b[0m\u001b[0;34m\u001b[0m\u001b[0m\n\u001b[1;32m     84\u001b[0m         \u001b[0mx\u001b[0m\u001b[0;34m=\u001b[0m\u001b[0mself\u001b[0m\u001b[0;34m.\u001b[0m\u001b[0mlinear2\u001b[0m\u001b[0;34m(\u001b[0m\u001b[0mx\u001b[0m\u001b[0;34m.\u001b[0m\u001b[0mfloat\u001b[0m\u001b[0;34m(\u001b[0m\u001b[0;34m)\u001b[0m\u001b[0;34m)\u001b[0m\u001b[0;34m\u001b[0m\u001b[0m\n",
      "\u001b[0;32m~/anaconda3/lib/python3.6/site-packages/torch/nn/modules/module.py\u001b[0m in \u001b[0;36m__call__\u001b[0;34m(self, *input, **kwargs)\u001b[0m\n\u001b[1;32m    475\u001b[0m             \u001b[0mresult\u001b[0m \u001b[0;34m=\u001b[0m \u001b[0mself\u001b[0m\u001b[0;34m.\u001b[0m\u001b[0m_slow_forward\u001b[0m\u001b[0;34m(\u001b[0m\u001b[0;34m*\u001b[0m\u001b[0minput\u001b[0m\u001b[0;34m,\u001b[0m \u001b[0;34m**\u001b[0m\u001b[0mkwargs\u001b[0m\u001b[0;34m)\u001b[0m\u001b[0;34m\u001b[0m\u001b[0m\n\u001b[1;32m    476\u001b[0m         \u001b[0;32melse\u001b[0m\u001b[0;34m:\u001b[0m\u001b[0;34m\u001b[0m\u001b[0m\n\u001b[0;32m--> 477\u001b[0;31m             \u001b[0mresult\u001b[0m \u001b[0;34m=\u001b[0m \u001b[0mself\u001b[0m\u001b[0;34m.\u001b[0m\u001b[0mforward\u001b[0m\u001b[0;34m(\u001b[0m\u001b[0;34m*\u001b[0m\u001b[0minput\u001b[0m\u001b[0;34m,\u001b[0m \u001b[0;34m**\u001b[0m\u001b[0mkwargs\u001b[0m\u001b[0;34m)\u001b[0m\u001b[0;34m\u001b[0m\u001b[0m\n\u001b[0m\u001b[1;32m    478\u001b[0m         \u001b[0;32mfor\u001b[0m \u001b[0mhook\u001b[0m \u001b[0;32min\u001b[0m \u001b[0mself\u001b[0m\u001b[0;34m.\u001b[0m\u001b[0m_forward_hooks\u001b[0m\u001b[0;34m.\u001b[0m\u001b[0mvalues\u001b[0m\u001b[0;34m(\u001b[0m\u001b[0;34m)\u001b[0m\u001b[0;34m:\u001b[0m\u001b[0;34m\u001b[0m\u001b[0m\n\u001b[1;32m    479\u001b[0m             \u001b[0mhook_result\u001b[0m \u001b[0;34m=\u001b[0m \u001b[0mhook\u001b[0m\u001b[0;34m(\u001b[0m\u001b[0mself\u001b[0m\u001b[0;34m,\u001b[0m \u001b[0minput\u001b[0m\u001b[0;34m,\u001b[0m \u001b[0mresult\u001b[0m\u001b[0;34m)\u001b[0m\u001b[0;34m\u001b[0m\u001b[0m\n",
      "\u001b[0;32m~/anaconda3/lib/python3.6/site-packages/torch/nn/modules/linear.py\u001b[0m in \u001b[0;36mforward\u001b[0;34m(self, input)\u001b[0m\n\u001b[1;32m     53\u001b[0m \u001b[0;34m\u001b[0m\u001b[0m\n\u001b[1;32m     54\u001b[0m     \u001b[0;32mdef\u001b[0m \u001b[0mforward\u001b[0m\u001b[0;34m(\u001b[0m\u001b[0mself\u001b[0m\u001b[0;34m,\u001b[0m \u001b[0minput\u001b[0m\u001b[0;34m)\u001b[0m\u001b[0;34m:\u001b[0m\u001b[0;34m\u001b[0m\u001b[0m\n\u001b[0;32m---> 55\u001b[0;31m         \u001b[0;32mreturn\u001b[0m \u001b[0mF\u001b[0m\u001b[0;34m.\u001b[0m\u001b[0mlinear\u001b[0m\u001b[0;34m(\u001b[0m\u001b[0minput\u001b[0m\u001b[0;34m,\u001b[0m \u001b[0mself\u001b[0m\u001b[0;34m.\u001b[0m\u001b[0mweight\u001b[0m\u001b[0;34m,\u001b[0m \u001b[0mself\u001b[0m\u001b[0;34m.\u001b[0m\u001b[0mbias\u001b[0m\u001b[0;34m)\u001b[0m\u001b[0;34m\u001b[0m\u001b[0m\n\u001b[0m\u001b[1;32m     56\u001b[0m \u001b[0;34m\u001b[0m\u001b[0m\n\u001b[1;32m     57\u001b[0m     \u001b[0;32mdef\u001b[0m \u001b[0mextra_repr\u001b[0m\u001b[0;34m(\u001b[0m\u001b[0mself\u001b[0m\u001b[0;34m)\u001b[0m\u001b[0;34m:\u001b[0m\u001b[0;34m\u001b[0m\u001b[0m\n",
      "\u001b[0;32m~/anaconda3/lib/python3.6/site-packages/torch/nn/functional.py\u001b[0m in \u001b[0;36mlinear\u001b[0;34m(input, weight, bias)\u001b[0m\n\u001b[1;32m   1024\u001b[0m         \u001b[0;32mreturn\u001b[0m \u001b[0mtorch\u001b[0m\u001b[0;34m.\u001b[0m\u001b[0maddmm\u001b[0m\u001b[0;34m(\u001b[0m\u001b[0mbias\u001b[0m\u001b[0;34m,\u001b[0m \u001b[0minput\u001b[0m\u001b[0;34m,\u001b[0m \u001b[0mweight\u001b[0m\u001b[0;34m.\u001b[0m\u001b[0mt\u001b[0m\u001b[0;34m(\u001b[0m\u001b[0;34m)\u001b[0m\u001b[0;34m)\u001b[0m\u001b[0;34m\u001b[0m\u001b[0m\n\u001b[1;32m   1025\u001b[0m \u001b[0;34m\u001b[0m\u001b[0m\n\u001b[0;32m-> 1026\u001b[0;31m     \u001b[0moutput\u001b[0m \u001b[0;34m=\u001b[0m \u001b[0minput\u001b[0m\u001b[0;34m.\u001b[0m\u001b[0mmatmul\u001b[0m\u001b[0;34m(\u001b[0m\u001b[0mweight\u001b[0m\u001b[0;34m.\u001b[0m\u001b[0mt\u001b[0m\u001b[0;34m(\u001b[0m\u001b[0;34m)\u001b[0m\u001b[0;34m)\u001b[0m\u001b[0;34m\u001b[0m\u001b[0m\n\u001b[0m\u001b[1;32m   1027\u001b[0m     \u001b[0;32mif\u001b[0m \u001b[0mbias\u001b[0m \u001b[0;32mis\u001b[0m \u001b[0;32mnot\u001b[0m \u001b[0;32mNone\u001b[0m\u001b[0;34m:\u001b[0m\u001b[0;34m\u001b[0m\u001b[0m\n\u001b[1;32m   1028\u001b[0m         \u001b[0moutput\u001b[0m \u001b[0;34m+=\u001b[0m \u001b[0mbias\u001b[0m\u001b[0;34m\u001b[0m\u001b[0m\n",
      "\u001b[0;31mRuntimeError\u001b[0m: size mismatch, m1: [1 x 2359], m2: [3679 x 10] at /Users/soumith/miniconda2/conda-bld/pytorch_1532623076075/work/aten/src/TH/generic/THTensorMath.cpp:2070"
     ]
    }
   ],
   "source": [
    "# ['Nature','History','Culture','Life']\n",
    "preferences=[0,1,0,0]\n",
    "preferences_to_placescores(preferences,num_results=20,weight=.01)"
   ]
  },
  {
   "cell_type": "code",
   "execution_count": 231,
   "metadata": {},
   "outputs": [],
   "source": [
    "\n",
    "# full_predictions=test_real.predict(new_matrix)\n",
    "# full_predictions2=full_predictions[:,4:].detach().numpy()\n",
    "# averages=[np.mean(full_predictions2[:,i]) for i in range(len(full_profiles))]\n",
    "# stds=[np.std(full_predictions2[:,i]) for i in range(len(full_profiles))]"
   ]
  }
 ],
 "metadata": {
  "kernelspec": {
   "display_name": "Python 3",
   "language": "python",
   "name": "python3"
  },
  "language_info": {
   "codemirror_mode": {
    "name": "ipython",
    "version": 3
   },
   "file_extension": ".py",
   "mimetype": "text/x-python",
   "name": "python",
   "nbconvert_exporter": "python",
   "pygments_lexer": "ipython3",
   "version": "3.6.6"
  }
 },
 "nbformat": 4,
 "nbformat_minor": 2
}
