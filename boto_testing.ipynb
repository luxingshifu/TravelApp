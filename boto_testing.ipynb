{
 "cells": [
  {
   "cell_type": "code",
   "execution_count": 1,
   "metadata": {},
   "outputs": [],
   "source": [
    "import recommender"
   ]
  },
  {
   "cell_type": "code",
   "execution_count": 9,
   "metadata": {},
   "outputs": [
    {
     "data": {
      "text/plain": [
       "[['Novy', 0.3871121406555176],\n",
       " ['Nijiya Market', 0.34621816873550415],\n",
       " ['Japanese Tea Garden', 0.3047288081225227],\n",
       " ['The Gregangelo Museum', 0.28823531613193076],\n",
       " ['Bow Hon', 0.2727523446083069],\n",
       " ['Chinese United Methodist Church', 0.2529411936981765],\n",
       " ['Presidio Chapel', 0.25294112590583767],\n",
       " ['The Owl Tree', 0.24018782377243042],\n",
       " ['USS Pampanito', 0.22941178037219506],\n",
       " ['Fort Mason Center', 0.22313680596211377],\n",
       " ['500 Capp Street Foundation', 0.21764708669385058],\n",
       " ['San Francisco Art Exchange', 0.2176470601120294],\n",
       " ['Coit Tower', 0.21764689690526395],\n",
       " ['Regalito', 0.2120027095079422],\n",
       " ['Exploratorium', 0.21176478556396536],\n",
       " ['Camera Obscura', 0.20588230850268627],\n",
       " ['Federal Reserve Bank BUILDING', 0.20000010021742015],\n",
       " ['Sing Fat Co. building', 0.20000006005269882],\n",
       " ['The Jimi Hendrix House', 0.20000004622950912],\n",
       " ['Pioneer log cabin', 0.20000002938107891]]"
      ]
     },
     "execution_count": 9,
     "metadata": {},
     "output_type": "execute_result"
    }
   ],
   "source": [
    "preferences=[3,4,9,1]\n",
    "recommender.preferences_to_placescores(preferences,num_results=20,weight=.01)"
   ]
  },
  {
   "cell_type": "code",
   "execution_count": null,
   "metadata": {},
   "outputs": [],
   "source": []
  },
  {
   "cell_type": "code",
   "execution_count": null,
   "metadata": {},
   "outputs": [],
   "source": []
  }
 ],
 "metadata": {
  "kernelspec": {
   "display_name": "Python 3",
   "language": "python",
   "name": "python3"
  },
  "language_info": {
   "codemirror_mode": {
    "name": "ipython",
    "version": 3
   },
   "file_extension": ".py",
   "mimetype": "text/x-python",
   "name": "python",
   "nbconvert_exporter": "python",
   "pygments_lexer": "ipython3",
   "version": "3.6.5"
  }
 },
 "nbformat": 4,
 "nbformat_minor": 2
}
