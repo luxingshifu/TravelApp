{
 "cells": [
  {
   "cell_type": "code",
   "execution_count": 1,
   "metadata": {},
   "outputs": [
    {
     "name": "stderr",
     "output_type": "stream",
     "text": [
      "/Users/williamcottrell72/anaconda3/lib/python3.6/site-packages/google/auth/_default.py:66: UserWarning: Your application has authenticated using end user credentials from Google Cloud SDK. We recommend that most server applications use service accounts instead. If your application continues to use end user credentials from Cloud SDK, you might receive a \"quota exceeded\" or \"API not enabled\" error. For more information about service accounts, see https://cloud.google.com/docs/authentication/.\n",
      "  warnings.warn(_CLOUD_SDK_CREDENTIALS_WARNING)\n"
     ]
    }
   ],
   "source": [
    "import recommender"
   ]
  },
  {
   "cell_type": "code",
   "execution_count": 2,
   "metadata": {},
   "outputs": [
    {
     "data": {
      "text/plain": [
       "[[\"Spa J'Adore\", 0.35920029878616333],\n",
       " ['The Gregangelo Museum', 0.28823545939548645],\n",
       " ['The Barrel Room', 0.26698538661003113],\n",
       " ['Presidio Chapel', 0.2529411503555706],\n",
       " ['Chinese United Methodist Church', 0.25294114589283284],\n",
       " ['USS Pampanito', 0.22941180875558848],\n",
       " ['500 Capp Street Foundation', 0.21764736306610544],\n",
       " ['San Francisco Art Exchange', 0.2176471962571317],\n",
       " ['Coit Tower', 0.21764713547358283],\n",
       " ['Candlestick RV Park', 0.21516890823841095],\n",
       " ['Exploratorium', 0.21176556455642345],\n",
       " ['Camera Obscura', 0.20588237438649312],\n",
       " ['One Lombard Street', 0.20000355611109627],\n",
       " ['Pioneer log cabin', 0.2000011651084151],\n",
       " ['The barracks', 0.20000015546999067],\n",
       " ['Doolan-Larson Residence and Storefronts', 0.20000013573759362],\n",
       " ['Federal Reserve Bank BUILDING', 0.20000011380231514],\n",
       " ['Buich Building', 0.20000006840794243],\n",
       " ['Genella Building', 0.20000006333156933],\n",
       " ['Belli Building', 0.2000000171981398]]"
      ]
     },
     "execution_count": 2,
     "metadata": {},
     "output_type": "execute_result"
    }
   ],
   "source": [
    "\n",
    "preferences=[3,4,9,1]\n",
    "recommender.preferences_to_placescores(preferences,num_results=20,weight=.01)\n",
    "\n"
   ]
  },
  {
   "cell_type": "code",
   "execution_count": null,
   "metadata": {},
   "outputs": [],
   "source": []
  }
 ],
 "metadata": {
  "kernelspec": {
   "display_name": "Python 3",
   "language": "python",
   "name": "python3"
  },
  "language_info": {
   "codemirror_mode": {
    "name": "ipython",
    "version": 3
   },
   "file_extension": ".py",
   "mimetype": "text/x-python",
   "name": "python",
   "nbconvert_exporter": "python",
   "pygments_lexer": "ipython3",
   "version": "3.6.5"
  }
 },
 "nbformat": 4,
 "nbformat_minor": 2
}
