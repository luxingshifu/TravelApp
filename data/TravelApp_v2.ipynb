{
 "cells": [
  {
   "cell_type": "markdown",
   "metadata": {},
   "source": [
    "# Recommender System for Travel App"
   ]
  },
  {
   "cell_type": "markdown",
   "metadata": {},
   "source": [
    "### Let's import some useful libraries"
   ]
  },
  {
   "cell_type": "code",
   "execution_count": 300,
   "metadata": {},
   "outputs": [],
   "source": [
    "import torch\n",
    "import torch.nn.functional as F\n",
    "import torch.optim as optim\n",
    "import numpy as np\n",
    "import pickle as pkl\n",
    "import torch.autograd as autograd\n",
    "import torch.nn as nn\n",
    "import os\n",
    "import math\n",
    "from collections import Counter\n",
    "import random\n",
    "import gensim\n",
    "import nltk\n",
    "import random\n",
    "from sklearn.manifold import TSNE\n",
    "from sklearn.cluster import KMeans\n",
    "import enchant\n",
    "import matplotlib.pyplot as plt\n",
    "from nltk import WordNetLemmatizer, word_tokenize, bigrams, ngrams, RegexpTokenizer\n",
    "from fuzzywuzzy import fuzz\n",
    "from fuzzywuzzy import process\n",
    "lemmatize = WordNetLemmatizer()\n",
    "%matplotlib inline"
   ]
  },
  {
   "cell_type": "markdown",
   "metadata": {},
   "source": [
    "### Here is the code for the recommender system.  This consists of a deep auto-encoder with a 'fit' and 'predict' method like sklearn."
   ]
  },
  {
   "cell_type": "code",
   "execution_count": 88,
   "metadata": {},
   "outputs": [],
   "source": [
    "class recsys(nn.Module):\n",
    "    \n",
    "    \n",
    "    def __init__(self,ratings=None,users=100,sites=1000,latent_features=10,\\\n",
    "                 dropout=.1,max_iter=10,epochs=4,temperature=1,lr=.01,batch_size=500,\\\n",
    "                 losses=None):\n",
    "        \n",
    "        super(recsys,self).__init__()\n",
    "        \n",
    "        \n",
    "        self.users=users\n",
    "        self.sites=sites\n",
    "        self.dropout=nn.Dropout(p=dropout)\n",
    "        self.max_iter=max_iter\n",
    "        self.lr=lr\n",
    "        self.batch_size=batch_size\n",
    "        self.temperature=temperature\n",
    "        self.ratings=ratings\n",
    "        self.losses=None\n",
    "        self.epochs=epochs\n",
    "        self.linear1=nn.Linear(sites,latent_features)\n",
    "        self.linear2=nn.Linear(latent_features,latent_features)\n",
    "        self.linear3=nn.Linear(latent_features,sites)\n",
    "    \n",
    "    \n",
    "    # The input x should have shape (number_of_users,sites)\n",
    "    # Ratings needs to be a torch tensor of the same shape as x.\n",
    "    \n",
    "    \n",
    "#     def get_mask(self,ratings=None):\n",
    "\n",
    "#         try: \n",
    "#             if ratings==None:\n",
    "#                 pass\n",
    "#         except:\n",
    "#             self.ratings=ratings\n",
    "            \n",
    "#         mask=[]\n",
    "#         for i in range(len(self.ratings)):\n",
    "#             mask.append([0 if math.isnan(self.ratings[i,j]) else 1 for j in range(len(self.ratings[0]))])\n",
    "#         return torch.tensor(mask)\n",
    "       \n",
    "    \n",
    "    \n",
    "    def imputer(self,x=None):\n",
    "        #Need to make a function which takes in a ratings array and returns\n",
    "        #an initial best guess.  For now I'll just mask the unkown variables\n",
    "        #print(type(self.ratings))\n",
    "        \n",
    "        try: \n",
    "            if x==None:\n",
    "                ratings=self.ratings\n",
    "        except:\n",
    "            ratings=x\n",
    "\n",
    "                \n",
    "        ratings[np.isnan(ratings)] = 0\n",
    "        return torch.tensor(ratings).float()\n",
    "    \n",
    "\n",
    "    \n",
    "    def forward(self,x):\n",
    "        x=self.imputer(x)\n",
    "        x=self.linear1(x.float())\n",
    "        x=torch.tanh(x)\n",
    "        x=self.linear2(x.float())\n",
    "        x=self.dropout(x.float())\n",
    "        x=torch.tanh(x)\n",
    "        x=self.linear3(x.float())\n",
    "        return x\n",
    "    \n",
    "    \n",
    "    def custom_loss(self,x,y):\n",
    "        ct=0\n",
    "        for i in range(len(x)):\n",
    "            if (torch.norm(x[i])==0) or (torch.norm(y[i])==0):\n",
    "                pass\n",
    "            else:\n",
    "                ct+=1-(x[i]@y[i])/(torch.norm(x[i])*torch.norm(y[i]))\n",
    "        return ct/len(x)\n",
    "\n",
    "\n",
    "    \n",
    "    def predict(self,x):\n",
    "        x=self.imputer(x)\n",
    "        return self.forward(x)\n",
    "    \n",
    "    def fit(self,ratings=None):\n",
    "        \n",
    "        try: \n",
    "            if ratings==None:\n",
    "                ratings=self.ratings\n",
    "    \n",
    "        except:\n",
    "            pass\n",
    "\n",
    "        ratings_clean=self.imputer(ratings)\n",
    "       \n",
    "        \n",
    "\n",
    "        loss_function=nn.MSELoss()\n",
    "    \n",
    "        \n",
    "\n",
    "\n",
    "        f= open('data/losses','w+')\n",
    "\n",
    "        losses=[]\n",
    "\n",
    "        for i in range(1,self.epochs+1):\n",
    "            \n",
    "            optimizer = optim.Adam(self.parameters(),lr=self.lr/i)\n",
    "            \n",
    "            print(f'Epoch {i}')\n",
    "            \n",
    "            sample_indices=np.random.choice(range(len(ratings_clean)),self.batch_size,replace=False)\n",
    "            sample=ratings_clean[sample_indices]\n",
    "            #print(sample_indices)\n",
    "            \n",
    "            for _ in range(self.max_iter):\n",
    "                optimizer.zero_grad()\n",
    "                out = self.forward(sample)\n",
    "                #out = self.forward(ratings_clean)\n",
    "                #loss = loss_function(out,ratings_clean) #This one works!\n",
    "                loss = self.custom_loss(out,sample)  #This one works\n",
    "                #loss = self.custom_loss(out,ratings_clean)\n",
    "                losses.append(float(loss.detach().numpy()))\n",
    "                f.write(str(loss.detach().numpy())+',')\n",
    "                loss.backward(retain_graph=True)\n",
    "                \n",
    "                optimizer.step()\n",
    "            self.losses=losses\n",
    "        f.close()"
   ]
  },
  {
   "cell_type": "markdown",
   "metadata": {},
   "source": [
    "### Now we instantiate an instance of the class recsys.  We also pick some hyperparameters. "
   ]
  },
  {
   "cell_type": "code",
   "execution_count": 105,
   "metadata": {},
   "outputs": [],
   "source": [
    "test=recsys(users=100,sites=1000,latent_features=20,dropout=0,epochs=10,max_iter=100,lr=.01,batch_size=50)\n"
   ]
  },
  {
   "cell_type": "markdown",
   "metadata": {},
   "source": [
    "### We need some data to run this one.  Let's make some data up."
   ]
  },
  {
   "cell_type": "code",
   "execution_count": 101,
   "metadata": {},
   "outputs": [],
   "source": [
    "data=[]\n",
    "users=100\n",
    "sites=1000\n",
    "ranked=30\n",
    "for j in range(users):\n",
    "    ra=np.random.choice(range(users),ranked)\n",
    "    data.append(np.array([10*random.random() if (i in ra) else float('NaN') for i in range(sites)]))\n",
    "data=np.array(data)"
   ]
  },
  {
   "cell_type": "markdown",
   "metadata": {},
   "source": [
    "### Calling the fit method on this 'data'"
   ]
  },
  {
   "cell_type": "code",
   "execution_count": 106,
   "metadata": {
    "scrolled": false
   },
   "outputs": [
    {
     "name": "stdout",
     "output_type": "stream",
     "text": [
      "Epoch 1\n",
      "Epoch 2\n",
      "Epoch 3\n",
      "Epoch 4\n",
      "Epoch 5\n",
      "Epoch 6\n",
      "Epoch 7\n",
      "Epoch 8\n",
      "Epoch 9\n",
      "Epoch 10\n"
     ]
    }
   ],
   "source": [
    "test.fit(data)"
   ]
  },
  {
   "cell_type": "markdown",
   "metadata": {},
   "source": [
    "### We now have a fit model.  Let's check the loss function.  The losses are stored in the recsys class, so we can just call 'test.losses' to get a list of losses for each iteration."
   ]
  },
  {
   "cell_type": "code",
   "execution_count": 107,
   "metadata": {},
   "outputs": [
    {
     "data": {
      "image/png": "[encoded data removed]",
      "text/plain": [
       "<Figure size 432x288 with 1 Axes>"
      ]
     },
     "metadata": {},
     "output_type": "display_data"
    }
   ],
   "source": [
    "plt.scatter(list(range(len(test.losses))),test.losses,s=.3)\n",
    "plt.xlabel('Iteration')\n",
    "plt.ylabel('Loss')\n",
    "plt.ylim(0,1)\n",
    "plt.show()"
   ]
  },
  {
   "cell_type": "code",
   "execution_count": 108,
   "metadata": {},
   "outputs": [
    {
     "data": {
      "text/plain": [
       "0.1856667846441269"
      ]
     },
     "execution_count": 108,
     "metadata": {},
     "output_type": "execute_result"
    }
   ],
   "source": [
    "test.losses[-1]"
   ]
  },
  {
   "cell_type": "markdown",
   "metadata": {},
   "source": [
    "Here we see that the loss goes up near the beginning of each batch, but the overall trend is towards lower loss."
   ]
  },
  {
   "cell_type": "markdown",
   "metadata": {},
   "source": [
    "### Now we can make some predictions for a new user....  Since I'm lazy, I'll just make a prediction for one of the previously seen users.  The call looks like this:"
   ]
  },
  {
   "cell_type": "code",
   "execution_count": 7,
   "metadata": {},
   "outputs": [],
   "source": [
    "predictions=test.predict(data[2])"
   ]
  },
  {
   "cell_type": "markdown",
   "metadata": {},
   "source": [
    "# Making Predictions w/ Real Data"
   ]
  },
  {
   "cell_type": "markdown",
   "metadata": {},
   "source": [
    "Now we need to run this with some real data.  Below we have some functions to clean the data.  The data is coming from https://www.tripadvisor.com/ and https://trip.sftravel.com/."
   ]
  },
  {
   "cell_type": "code",
   "execution_count": 639,
   "metadata": {},
   "outputs": [],
   "source": [
    "#Results is a list of user rankings of various attractions in SF.  It is structured as a list of json\n",
    "# like files of the form [{user1:{attraction1:rating1,attraction2:rating2,attraction3:rating3}, user2:...}]\n",
    "\n",
    "results=[]\n",
    "for k in range(100,19400,100):\n",
    "    with open(f'data/file_{k}.pkl','rb') as f:\n",
    "        likes=pkl.load(f)\n",
    "        results.append(likes)\n",
    "    \n",
    "# Now we need to combine all the results above into one big dictionary.    \n",
    "              \n",
    "res=results[0]\n",
    "for i in range(1,len(results)):\n",
    "    res={**res,**results[i]}\n",
    "    \n",
    "# We need a dictionary to map trip adviser names to sf_travel site names:  \n",
    "\n",
    "with open('data/ta_to_sf.pkl','rb') as f:\n",
    "    ta_to_sf=pkl.load(f)\n",
    "    \n",
    "# Finally, we import a dictionary which maps trip-adviser sites to features.\n",
    "    \n",
    "with open('data/ta_feature_dct.pkl','rb') as f:\n",
    "    ta_feature_dct=pkl.load(f)\n",
    "    \n",
    "with open('data/loc_info.pkl','rb') as f:\n",
    "    loc_info=pkl.load(f)"
   ]
  },
  {
   "cell_type": "code",
   "execution_count": 640,
   "metadata": {},
   "outputs": [],
   "source": [
    "bla=['Magic Bus', '215 Reviews ']\n",
    "def remove_reviews(bla):\n",
    "    return [x for x in bla if 'Reviews' not in x]\n",
    "\n",
    "loc_info_clean={x: remove_reviews(loc_info[x][1]) for x in loc_info.keys()}"
   ]
  },
  {
   "cell_type": "code",
   "execution_count": null,
   "metadata": {},
   "outputs": [],
   "source": []
  },
  {
   "cell_type": "markdown",
   "metadata": {},
   "source": [
    "Note, loc_info_clean (size = ) is basically contained in uvp_set.  Need more data!\n",
    "Also, need 'definitive' place list that goes into neural network."
   ]
  },
  {
   "cell_type": "code",
   "execution_count": 635,
   "metadata": {},
   "outputs": [],
   "source": [
    "def comparison(string1,string2):\n",
    "    fr=fuzz.ratio(string1.lower().replace('san francisco',''),string2.lower().replace('san francisco',''))\n",
    "    return (fr>80)\n",
    "\n",
    "# for user1\n",
    "def make_profiles_new(matrix,loc_info_clean):\n",
    "    profiles={}\n",
    "    for u in range(len(matrix)):\n",
    "        features_list=[]\n",
    "        for i in range(len(matrix[0])):\n",
    "            try:\n",
    "                features_list+=int(matrix[u][i])*(loc_info_clean[places[i][15:]])\n",
    "            except:\n",
    "                pass\n",
    "\n",
    "        new_features=[]\n",
    "        for f in features_list:\n",
    "            try:\n",
    "                nf=style_mapper_v2[f]\n",
    "                if type(nf)==str:\n",
    "                    new_features.append(nf)\n",
    "                else:\n",
    "                    new_features+=nf\n",
    "            except:\n",
    "                pass\n",
    "\n",
    "        ct=Counter(new_features)\n",
    "        tot=sum(ct.values())\n",
    "\n",
    "        #res={k:10*ct[k]/tot for k in ct.keys()}\n",
    "        res={k:ct[k] for k in ct.keys()}\n",
    "        profiles[u]=res\n",
    "    return profiles\n",
    "        "
   ]
  },
  {
   "cell_type": "code",
   "execution_count": 650,
   "metadata": {},
   "outputs": [],
   "source": [
    "new_profiles=make_profiles_new(matrix,loc_info_clean)"
   ]
  },
  {
   "cell_type": "code",
   "execution_count": 651,
   "metadata": {},
   "outputs": [],
   "source": [
    "new_np_profiles=convert_profile_to_np(new_profiles)"
   ]
  },
  {
   "cell_type": "code",
   "execution_count": null,
   "metadata": {},
   "outputs": [],
   "source": []
  },
  {
   "cell_type": "code",
   "execution_count": 496,
   "metadata": {},
   "outputs": [
    {
     "data": {
      "text/plain": [
       "'Nature'"
      ]
     },
     "execution_count": 496,
     "metadata": {},
     "output_type": "execute_result"
    }
   ],
   "source": [
    "style_mapper_v2[features_list[34]]"
   ]
  },
  {
   "cell_type": "code",
   "execution_count": 497,
   "metadata": {},
   "outputs": [],
   "source": [
    "new_features=[]\n",
    "for f in features_list:\n",
    "    try:\n",
    "        nf=style_mapper_v2[f]\n",
    "        if type(nf)==str:\n",
    "            new_features.append(nf)\n",
    "        else:\n",
    "            new_features+=nf\n",
    "    except:\n",
    "        pass"
   ]
  },
  {
   "cell_type": "code",
   "execution_count": 645,
   "metadata": {},
   "outputs": [],
   "source": [
    "user_visited_places=[]\n",
    "for u in res.keys():\n",
    "    for place in res[u].keys():\n",
    "        place_minus_sf=place[15:]\n",
    "        user_visited_places.append(place_minus_sf)\n",
    "        \n",
    "uvp_set=set(user_visited_places)"
   ]
  },
  {
   "cell_type": "code",
   "execution_count": 372,
   "metadata": {},
   "outputs": [],
   "source": [
    "def make_labeled_uvp(uvp_set,labeled_locations):\n",
    "    labeled_uvp={}\n",
    "    for pc in uvp_set:\n",
    "        comp_best=0\n",
    "        current_closest=None\n",
    "        for sft in labeled_locations:\n",
    "            comp=fuzz.ratio(pc.lower().replace('san francisco',' '),sft.lower().replace('san francisco',' '))\n",
    "            if comp>comp_best:\n",
    "                comp_best=comp\n",
    "                current_closest=sft\n",
    "\n",
    "        if comp_best>83:\n",
    "            labeled_uvp[pc]=current_closest\n",
    "    return labeled_uvp"
   ]
  },
  {
   "cell_type": "code",
   "execution_count": null,
   "metadata": {},
   "outputs": [],
   "source": []
  },
  {
   "cell_type": "code",
   "execution_count": 647,
   "metadata": {},
   "outputs": [],
   "source": [
    "labeled_uvp=make_labeled_uvp(uvp_set,list(loc_info_clean.keys()))"
   ]
  },
  {
   "cell_type": "code",
   "execution_count": null,
   "metadata": {},
   "outputs": [],
   "source": []
  },
  {
   "cell_type": "code",
   "execution_count": 395,
   "metadata": {},
   "outputs": [],
   "source": [
    "attraction_types=[]\n",
    "for x in loc_info.keys():\n",
    "    attractions=loc_info[x][1]\n",
    "    attraction_types+=attractions\n",
    "\n"
   ]
  },
  {
   "cell_type": "code",
   "execution_count": 655,
   "metadata": {},
   "outputs": [],
   "source": [
    "style_mapper={'Dandyhorse San Francisco Bike Tours & Rental':['Life','Nature'],'Concerts & Shows':'Life',\\\n",
    "                 'Events':'Life','Evergreen Escapes San Francisco':'Nature','Food & Drink':'Life',\\\n",
    "                'Fun & Games':'Life','Magic Bus':'Life','Museums':'Culture','Nature & Parks':'Nature',\\\n",
    "                 'Outdoor Activities':'Nature','Streets of San Francisco Bike Tours':['Nature','Life'],\\\n",
    "                 'Shopping':'Life','Sights & Landmarks':'History','The Fillmore':['History','Life','Culture'],\\\n",
    "                 'Zoos & Aquariums':'Nature','Bridges':'History','Music Festivals':['Culture','Life'],\\\n",
    "                'Antique Stores':['Culture','History'],'State Parks':'Nature','Symphonies':'Culture',\\\n",
    "                 'History Museums':'History','Architectural Buildings':['History','Culture'],'Ferries':['Nature','Life'],\\\n",
    "                'Other Food & Drink':'Life','Mountains':'Nature','Fountains':'Nature','Lighthouses':['History','Nature'],\\\n",
    "                'Art Galleries':'Culture','Children\\'s Museums':'Culture','Art Museums':'Culture',\\\n",
    "                'Historic Sites':'History','Hiking Trails':'Nature','Bodies of Water':'Nature',\\\n",
    "                 'Farmers Markets':['Life','Culture'],'Sports Camps & Clinics':'Life','Ships':'History',\\\n",
    "                'Cultural Events':'Culture','Events':'Life','Neighborhoods':['Life','Culture'],\\\n",
    "                'Military Bases & Facilities':'History','Observatories & Planetariums':'Culture',\\\n",
    "                'Government Buildings':'History','Factory Outlets':'Life','Military Museums':['History','Culture'],\\\n",
    "                'Shopping Malls':'Life','Conference & Convention Centers':'Life','Specialty Museums':'Culture',\\\n",
    "                'Scenic Walking Areas':'Nature','Historic Walking Areas':'Nature','Jogging Paths & Tracks':'Nature',\\\n",
    "                'Lookouts':'Nature','Marinas':'Nature','Sports Complexes':'Life','Monuments & Statues':'History',\\\n",
    "                'Missions':'History','National Parks':'Nature','Nature & Wildlife Areas':'Nature','Beaches':'Nature',\\\n",
    "                'Piers & Boardwalks':'Nature','Science Museums':'Culture','Arenas & Stadiums':'Life',\\\n",
    "                'Scenic Drives':['Life','Nature'],'Department Stores':'Life','Wineries & Vineyards':['Culture','Nature','Life'],\\\n",
    "                'Department Stores':'Life','Cemeteries':['History','Culture','Nature'],'Points of Interest & Landmarks':['History','Culture'],\\\n",
    "                'Theaters':['Culture','Life'],'Islands':'Nature','Forests':'Nature','Distilleries':'Life','Breweries':'Life',\\\n",
    "                'Operas':'Culture','Ballets':'Culture','Churches & Cathedrals':['History','Culture'],\\\n",
    "                 'Sacred & Religious Sites':['History','Culture'],'Gardens':'Nature','Libraries':['Life','Culture'],\\\n",
    "                'Universities & Schools':['History','Culture'],'Farms':'Nature','Classes & Workshops':'Life',\\\n",
    "                'Observation Decks & Towers':'Nature',\"Outspoke'n Bike Rentals\":['Life','Nature'],'Tramways':['Culture','History']}\n",
    "                 "
   ]
  },
  {
   "cell_type": "code",
   "execution_count": 656,
   "metadata": {},
   "outputs": [],
   "source": [
    "with open('data/style_mapper.pkl','wb') as f:\n",
    "    pkl.dump(style_mapper,f)"
   ]
  },
  {
   "cell_type": "code",
   "execution_count": 414,
   "metadata": {},
   "outputs": [],
   "source": [
    "at=set(attraction_types)\n",
    "new_at=[x for x in at if 'Reviews' not in x]"
   ]
  },
  {
   "cell_type": "code",
   "execution_count": 280,
   "metadata": {},
   "outputs": [],
   "source": [
    "\n",
    "# make_matrix takes in a list of rankings of attractions as well as a dictionary (site to labels) and spits out \n",
    "# 1) an array of user preferences, 2) a list of users and 3) a list of attractions.  The only reason we need to feed\n",
    "# in the dictionary is to see if there is labeled data....\n",
    "\n",
    "def make_matrix(users,ta_to_sf):\n",
    "    user_list=list(users.keys())\n",
    "    places=[]\n",
    "    for user_key in user_list:\n",
    "        for place in users[user_key].keys():\n",
    "            place_minus_sf=place[15:]\n",
    "            if place_minus_sf in list(ta_to_sf.keys()):\n",
    "                places.append(place)\n",
    "    places=list(set(places))\n",
    "\n",
    "\n",
    "    matrix=[]\n",
    "    for u in user_list:\n",
    "        user_likes=[]\n",
    "        for p in places:\n",
    "            if p in users[u].keys():\n",
    "                user_likes.append(users[u][p])\n",
    "            else:\n",
    "                user_likes.append(float('NaN'))\n",
    "        matrix.append(user_likes)\n",
    "\n",
    "    return np.array(matrix), user_list, places\n",
    "\n",
    "\n",
    "# get_data takes in the results 'res' above and spits out a 'clean' matrix of user preferences\n",
    "# as well as a list of users and places.  This is basically a cleaned version of 'make_matrix'\n",
    "\n",
    "def get_data(res,ta_to_sf):\n",
    "    \n",
    "    matrix, user_list, places = make_matrix(res,ta_to_sf)\n",
    "    \n",
    "    good_list=[]\n",
    "    for i in range(len(matrix)):\n",
    "        if sum(np.nan_to_num(matrix[i],0))!=0:\n",
    "            good_list.append(i)\n",
    "            \n",
    "    users_clean=np.array(user_list)[good_list]\n",
    "    matrix_clean=matrix[good_list]\n",
    "    return matrix_clean, users_clean, places\n",
    "\n",
    "# make profiles creates a user profile based on past data and the labels for each site that were scraped from \n",
    "# sf_trip\n",
    "\n",
    "def make_profiles(matrix,ta_features_dct):\n",
    "    profiles={}\n",
    "    for u in range(len(matrix)):\n",
    "        st=''\n",
    "        for i in range(len(matrix[0])):\n",
    "            st+=int(matrix[u][i])*(ta_feature_dct[places[i][15:]]+' ').replace(' & ','+').replace('Must See','Must-See')\n",
    "        res1=Counter(flatten([style_mapper[x.strip(',')] for x in st.split()]))\n",
    "        keys=res1.keys()\n",
    "        res1p={k:10*res1[k]/sum([res1[k] for k in keys]) for k in keys}\n",
    "        profiles[u]=res1p\n",
    "    return profiles\n",
    "\n",
    "#Now we convert the profiles to numpy.\n",
    "\n",
    "def convert_profile_to_np(profiles,attributes=['Nature','History','Culture','Life']):\n",
    "    np_profiles=[]\n",
    "    for u in range(len(matrix)):\n",
    "        user_profile=[]\n",
    "        for a in attributes:\n",
    "            if a in profiles[u].keys():\n",
    "                user_profile.append(profiles[u][a])\n",
    "            else:\n",
    "                user_profile.append(0)\n",
    "        np_profiles.append(user_profile)\n",
    "    return np.array(np_profiles)\n",
    "\n",
    "#Flatten is just a helper function for 'make_profiles'\n",
    "\n",
    "def flatten(testlist):\n",
    "    acc=[]\n",
    "    for x in testlist:\n",
    "        if type(x)==str:\n",
    "            acc.append(x)\n",
    "        elif type(x)==list:\n",
    "            acc+=x\n",
    "    return acc\n",
    "\n",
    "# This is just a wrapper for creating the recsys class.  The wrapper allows us to automatically initialize\n",
    "# the number of users and attractions\n",
    "\n",
    "def create_recsys(matrix,dropout=.1,latent_features=4,max_iter=100,lr=.001,epochs=5,temperature=1,batch_size=500):\n",
    "    return recsys(matrix,matrix.shape[0],matrix.shape[1],latent_features,dropout,max_iter,epochs,temperature,lr,\\\n",
    "                 batch_size=batch_size)\n",
    "\n",
    "\n",
    "style_mapper={'Adventure':'Nature', 'Art':'Culture','Cuisine':'Life','Culture':'Culture',\\\n",
    "              'Fun+Entertainment':['Life','History'],'History':'History','Landmark':'History','Museum':'Culture',\\\n",
    "              'Must-See':'History','Nature':'Nature','Nightlife':'Life','Shopping':'Life','Sports':'Life',\\\n",
    "              'Tour':'Life','R+R':'Life'}\n"
   ]
  },
  {
   "cell_type": "markdown",
   "metadata": {},
   "source": [
    "## Building and Training Model\n",
    "\n",
    "### Now that we have the code above it is simple to train a model.  "
   ]
  },
  {
   "cell_type": "code",
   "execution_count": 291,
   "metadata": {},
   "outputs": [],
   "source": [
    "matrix, users, places = get_data(res,ta_to_sf)"
   ]
  },
  {
   "cell_type": "code",
   "execution_count": null,
   "metadata": {},
   "outputs": [],
   "source": []
  },
  {
   "cell_type": "code",
   "execution_count": 77,
   "metadata": {},
   "outputs": [],
   "source": [
    "profiles=make_profiles(matrix,ta_feature_dct)\n",
    "\n",
    "np_profiles=convert_profile_to_np(profiles)"
   ]
  },
  {
   "cell_type": "markdown",
   "metadata": {},
   "source": [
    "In the next line we make a new array which combines the generated user profiles with their historical data.  "
   ]
  },
  {
   "cell_type": "code",
   "execution_count": 567,
   "metadata": {},
   "outputs": [],
   "source": [
    "new_matrix=np.concatenate((new_np_profiles,matrix),axis=1)"
   ]
  },
  {
   "cell_type": "markdown",
   "metadata": {},
   "source": [
    "Now we want to train a model on our data.  Since the training is going to take a long time let's just look at a small sample to see if things are working.  I'll pick 500 users randomly just to get started. I'll also initialized a recsys using the create_recsys function above."
   ]
  },
  {
   "cell_type": "code",
   "execution_count": 568,
   "metadata": {},
   "outputs": [],
   "source": [
    "#sample=np.random.choice(range(len(new_matrix)),50,replace=False)\n",
    "test_real=create_recsys(new_matrix,max_iter=100,lr=.01,epochs=10,batch_size=500,latent_features=10)"
   ]
  },
  {
   "cell_type": "code",
   "execution_count": 569,
   "metadata": {},
   "outputs": [],
   "source": [
    "#Let's compute the average and std rating for each site.\n",
    "\n",
    "full_predictions=test_real.predict(new_matrix)\n",
    "full_predictions2=full_predictions[:,4:].detach().numpy()\n",
    "averages=[np.mean(full_predictions2[:,i]) for i in range(len(places))]\n",
    "stds=[np.std(full_predictions2[:,i]) for i in range(len(places))]"
   ]
  },
  {
   "cell_type": "code",
   "execution_count": null,
   "metadata": {},
   "outputs": [],
   "source": []
  },
  {
   "cell_type": "code",
   "execution_count": 570,
   "metadata": {},
   "outputs": [
    {
     "name": "stdout",
     "output_type": "stream",
     "text": [
      "Epoch 1\n",
      "Epoch 2\n",
      "Epoch 3\n",
      "Epoch 4\n",
      "Epoch 5\n",
      "Epoch 6\n",
      "Epoch 7\n",
      "Epoch 8\n",
      "Epoch 9\n",
      "Epoch 10\n"
     ]
    }
   ],
   "source": [
    "test_real.fit()"
   ]
  },
  {
   "cell_type": "code",
   "execution_count": null,
   "metadata": {},
   "outputs": [],
   "source": []
  },
  {
   "cell_type": "markdown",
   "metadata": {},
   "source": [
    "Now we have a fit model.  Let's suppose a new user comes along with no previous history.  We will ask him to fill out fill out a questionaire describing his/her preference for ['Nature','History','Culture','Life'], in that order."
   ]
  },
  {
   "cell_type": "code",
   "execution_count": 571,
   "metadata": {},
   "outputs": [],
   "source": [
    "preferences=[1,1000000,10,0]\n",
    "\n",
    "# This user really likes nature, sort of likes culture, but is ambivalent about history and 'life'.\n",
    "# Note that the internally the scores are normalized such that the sum is 10, hence the extra factors below. \n",
    "\n",
    "new_user_preferences=(10/sum(preferences))*np.array(preferences)\n",
    "\n",
    "#Since we know nothing about the new user we just initialize their site rankings to zero. \n",
    "\n",
    "initialization=np.zeros(len(matrix[0]))\n",
    "\n",
    "#Finally, we combine the preferences with the initialization to represent the new user as a row.\n",
    "\n",
    "new_user=np.concatenate((new_user_preferences,initialization),axis=0)\n",
    "\n",
    "\n",
    "#Let's figure out what the user likes!\n",
    "predictions_raw=test_real.predict(new_user)\n",
    "\n",
    "# These are raw predictions.  We want to filter out the 'background effect'.  To do this we subtract off the average preferences.\n",
    "\n",
    "predictions_shifted=predictions_raw[4:].detach().numpy()-np.array(averages)\n",
    "predictions=sorted(list(enumerate([predictions_shifted[i]/stds[i] for i in range(len(predictions_shifted))])),\\\n",
    "                   key=lambda x: x[1],reverse=True)"
   ]
  },
  {
   "cell_type": "code",
   "execution_count": 572,
   "metadata": {},
   "outputs": [
    {
     "data": {
      "text/plain": [
       "[['Golden Gate Bridge', 7.277243614196777],\n",
       " ['Alcatraz Cruises, LLC', 6.863089084625244],\n",
       " ['The Waterfront Bakery', 6.728348731994629],\n",
       " ['Gialina Pizzeria', 6.655496597290039],\n",
       " ['Bix', 6.563409328460693],\n",
       " ['Salt & Straw', 6.24951171875],\n",
       " ['Nordstrom', 6.1594953536987305],\n",
       " ['Cable Cars', 5.832560062408447],\n",
       " ['Coit Tower', 5.4632344245910645],\n",
       " ['Telegraph Hill', 5.420362949371338],\n",
       " ['San Francisco Love Tour', 5.39027738571167],\n",
       " [\"Tad's Steakhouse\", 5.3486647605896],\n",
       " ['Saigon Sandwich Shop', 5.343319416046143],\n",
       " [\"Pedro's Cantina\", 5.328435897827148],\n",
       " ['Great American Music Hall', 4.936143398284912],\n",
       " ['Golden Boy Pizza', 4.900278091430664],\n",
       " ['Dumpling Time', 4.692088603973389],\n",
       " ['Sightglass Coffee', 4.628865718841553],\n",
       " ['San Francisco Helicopter and Alcatraz Tour', 4.570711135864258],\n",
       " ['Crystal Jade Jiang Nan', 4.534503936767578]]"
      ]
     },
     "execution_count": 572,
     "metadata": {},
     "output_type": "execute_result"
    }
   ],
   "source": [
    "#Let's figure out what the user likes!\n",
    "#predictions=sorted(list(enumerate(test_real.predict(new_user))),key=lambda x: x[1],reverse=True)\n",
    "sites=[[places[p[0]][15:],float(p[1])] for p in predictions[:20]]\n",
    "sites"
   ]
  },
  {
   "cell_type": "code",
   "execution_count": 574,
   "metadata": {},
   "outputs": [
    {
     "data": {
      "text/plain": [
       "['The House',\n",
       " 'Alcatraz Island',\n",
       " 'Katana-ya',\n",
       " 'Sheba Piano Lounge',\n",
       " 'Kabuki Springs and Spa',\n",
       " 'Burger Bar',\n",
       " 'El Techo',\n",
       " \"Fishermen's Grotto\",\n",
       " 'Redwood Ramblers',\n",
       " \"Tommy's Mexican Restaurant\",\n",
       " 'Waterfront Restaurant and Cafe',\n",
       " 'Golden Gate Bridge',\n",
       " 'San Francisco Helicopter and Alcatraz Tour',\n",
       " 'Hog Island Oyster Company',\n",
       " 'Urban Putt',\n",
       " 'The Boardroom',\n",
       " \"Mama's on Washington Square\",\n",
       " 'Golden Boy Pizza',\n",
       " 'MaSo',\n",
       " 'Blazing Saddles Bike Rentals and Tours',\n",
       " 'Crab House at Pier 39',\n",
       " 'City Sightseeing',\n",
       " 'Cotogna',\n",
       " 'Caffe Baonecci',\n",
       " 'Hana Zen Sushi Bar - Pier 39',\n",
       " 'The Plant Cafe Organic',\n",
       " 'Rosamunde Sausage Grill',\n",
       " 'San Francisco Fire Engine Tours & Adventures',\n",
       " 'Monsieur Benjamin',\n",
       " 'The Stinking Rose - San Francisco']"
      ]
     },
     "execution_count": 574,
     "metadata": {},
     "output_type": "execute_result"
    }
   ],
   "source": [
    "raw_pred=sorted(list(enumerate(predictions_raw.detach().numpy())),key=lambda x:x[1],reverse=True)\n",
    "[places[p[0]][15:] for p in raw_pred[:30]]"
   ]
  },
  {
   "cell_type": "code",
   "execution_count": 573,
   "metadata": {},
   "outputs": [
    {
     "data": {
      "image/png": "[encoded data removed]",
      "text/plain": [
       "<Figure size 432x288 with 1 Axes>"
      ]
     },
     "metadata": {},
     "output_type": "display_data"
    }
   ],
   "source": [
    "plt.scatter(list(range(len(test_real.losses))),test_real.losses,s=.1)\n",
    "plt.xlabel('Iteration')\n",
    "plt.ylabel('Loss')\n",
    "plt.ylim(0,1)\n",
    "plt.show()"
   ]
  },
  {
   "cell_type": "markdown",
   "metadata": {},
   "source": [
    "## Notes:\n",
    "\n",
    "The results are not very representative of the user profile.  One might hope that if we set the user profile to 'nature=10, else=0', we would only get outdoors activities.  The problems is that everything is filtered through a neuro network which is influenced by what the 'nature-lovers' and others actually did in the past.....  These past actions are not necessarily in alignment with the ratings....  \n",
    "\n",
    "Let's imagine a simpler world where any user who likes nature ONLY visits natural attractions... I.e., there is a strong correlation between the labels and what one actually does.  In this world, we should be able to pick out purely 'natural' activies....\n",
    "\n",
    "Need to transform rankings to something like \"10(site_score_for_user - avg_site_score)\"\n",
    "\n",
    "Also, are we really masking unseen data??? "
   ]
  },
  {
   "cell_type": "code",
   "execution_count": null,
   "metadata": {},
   "outputs": [],
   "source": []
  }
 ],
 "metadata": {
  "kernelspec": {
   "display_name": "Python 3",
   "language": "python",
   "name": "python3"
  },
  "language_info": {
   "codemirror_mode": {
    "name": "ipython",
    "version": 3
   },
   "file_extension": ".py",
   "mimetype": "text/x-python",
   "name": "python",
   "nbconvert_exporter": "python",
   "pygments_lexer": "ipython3",
   "version": "3.6.5"
  }
 },
 "nbformat": 4,
 "nbformat_minor": 2
}
