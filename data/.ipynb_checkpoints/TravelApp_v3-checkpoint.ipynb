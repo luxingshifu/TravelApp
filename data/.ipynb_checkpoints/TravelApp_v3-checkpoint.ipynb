{
 "cells": [
  {
   "cell_type": "markdown",
   "metadata": {},
   "source": [
    "# Recommender System for Travel App"
   ]
  },
  {
   "cell_type": "markdown",
   "metadata": {},
   "source": [
    "### Let's import some useful libraries"
   ]
  },
  {
   "cell_type": "code",
   "execution_count": 1,
   "metadata": {},
   "outputs": [],
   "source": [
    "\n",
    "import numpy as np\n",
    "import pickle as pkl\n",
    "\n",
    "import os\n",
    "import math\n",
    "from collections import Counter\n",
    "import random\n",
    "import gensim\n",
    "import nltk\n",
    "import random\n",
    "from sklearn.manifold import TSNE\n",
    "from sklearn.cluster import KMeans\n",
    "import enchant\n",
    "import recsys\n",
    "import matplotlib.pyplot as plt\n",
    "from nltk import WordNetLemmatizer, word_tokenize, bigrams, ngrams, RegexpTokenizer\n",
    "from fuzzywuzzy import fuzz\n",
    "from fuzzywuzzy import process\n",
    "lemmatize = WordNetLemmatizer()\n",
    "%matplotlib inline"
   ]
  },
  {
   "cell_type": "markdown",
   "metadata": {},
   "source": [
    "### Now we instantiate an instance of the class recsys.  We also pick some hyperparameters. "
   ]
  },
  {
   "cell_type": "code",
   "execution_count": 2,
   "metadata": {},
   "outputs": [],
   "source": [
    "test=recsys.recsys(users=100,sites=1000,latent_features=20,dropout=0,epochs=10,max_iter=100,lr=.01,batch_size=50)\n"
   ]
  },
  {
   "cell_type": "markdown",
   "metadata": {},
   "source": [
    "### We need some data to test this one.  Let's make some data up."
   ]
  },
  {
   "cell_type": "code",
   "execution_count": 3,
   "metadata": {},
   "outputs": [],
   "source": [
    "data=[]\n",
    "users=100\n",
    "sites=1000\n",
    "ranked=30\n",
    "for j in range(users):\n",
    "    ra=np.random.choice(range(users),ranked)\n",
    "    data.append(np.array([10*random.random() if (i in ra) else float('NaN') for i in range(sites)]))\n",
    "data=np.array(data)"
   ]
  },
  {
   "cell_type": "markdown",
   "metadata": {},
   "source": [
    "### Calling the fit method on this 'data'"
   ]
  },
  {
   "cell_type": "code",
   "execution_count": 4,
   "metadata": {},
   "outputs": [
    {
     "name": "stdout",
     "output_type": "stream",
     "text": [
      "Epoch 1\n",
      "Epoch 2\n",
      "Epoch 3\n",
      "Epoch 4\n",
      "Epoch 5\n",
      "Epoch 6\n",
      "Epoch 7\n",
      "Epoch 8\n",
      "Epoch 9\n",
      "Epoch 10\n"
     ]
    }
   ],
   "source": [
    "test.fit(data)"
   ]
  },
  {
   "cell_type": "markdown",
   "metadata": {},
   "source": [
    "### We now have a fit model.  Let's check the loss function.  The losses are stored in the recsys class, so we can just call 'test.losses' to get a list of losses for each iteration."
   ]
  },
  {
   "cell_type": "code",
   "execution_count": 5,
   "metadata": {},
   "outputs": [
    {
     "data": {
      "image/png": "[encoded data removed]",
      "text/plain": [
       "<Figure size 432x288 with 1 Axes>"
      ]
     },
     "metadata": {},
     "output_type": "display_data"
    }
   ],
   "source": [
    "plt.scatter(list(range(len(test.losses))),test.losses,s=.3)\n",
    "plt.xlabel('Iteration')\n",
    "plt.ylabel('Loss')\n",
    "plt.ylim(0,1)\n",
    "plt.show()"
   ]
  },
  {
   "cell_type": "markdown",
   "metadata": {},
   "source": [
    "### Now we can make some predictions for a new user....  Since I'm lazy, I'll just make a prediction for one of the previously seen users.  The call looks like this:"
   ]
  },
  {
   "cell_type": "code",
   "execution_count": 6,
   "metadata": {},
   "outputs": [],
   "source": [
    "predictions=test.predict(data[2])"
   ]
  },
  {
   "cell_type": "markdown",
   "metadata": {},
   "source": [
    "# Making Predictions w/ Real Data\n",
    "\n",
    "Now we need to run this with some real data.  Below we have some functions to clean the data.  The data is coming from https://www.tripadvisor.com/ and https://trip.sftravel.com/."
   ]
  },
  {
   "cell_type": "code",
   "execution_count": 7,
   "metadata": {},
   "outputs": [],
   "source": [
    "#Results is a list of user rankings of various attractions in SF.  It is structured as a list of json\n",
    "# like files of the form [{user1:{attraction1:rating1,attraction2:rating2,attraction3:rating3}, user2:...}]\n",
    "\n",
    "results=[]\n",
    "for k in range(100,19400,100):\n",
    "    with open(f'data/file_{k}.pkl','rb') as f:\n",
    "        likes=pkl.load(f)\n",
    "        results.append(likes)\n",
    "    \n",
    "# Now we need to combine all the results above into one big dictionary.    \n",
    "              \n",
    "res=results[0]\n",
    "for i in range(1,len(results)):\n",
    "    res={**res,**results[i]}\n",
    "    \n",
    "with open('data/loc_info.pkl','rb') as f:\n",
    "    loc_info=pkl.load(f)\n",
    "    \n",
    "with open('data/style_mapper.pkl','rb') as f:\n",
    "    style_mapper=pkl.load(f)\n",
    "    \n",
    "def remove_reviews(bla):\n",
    "    return [x for x in bla if 'Reviews' not in x]\n"
   ]
  },
  {
   "cell_type": "code",
   "execution_count": 8,
   "metadata": {},
   "outputs": [],
   "source": [
    "# Here need a map which takes in 'res' and \n",
    "\n",
    "user_visited_places=[]\n",
    "for u in res.keys():\n",
    "    for place in res[u].keys():\n",
    "        place_minus_sf=place[15:]\n",
    "        user_visited_places.append(place_minus_sf)\n",
    "        \n",
    "uvp_set=set(user_visited_places)\n",
    "\n",
    "def make_labeled_uvp(uvp_set,labeled_locations):\n",
    "    labeled_uvp={}\n",
    "    for pc in uvp_set:\n",
    "        comp_best=0\n",
    "        current_closest=None\n",
    "        for sft in labeled_locations:\n",
    "            comp=fuzz.ratio(pc.lower().replace('san francisco',' '),sft.lower().replace('san francisco',' '))\n",
    "            if comp>comp_best:\n",
    "                comp_best=comp\n",
    "                current_closest=sft\n",
    "\n",
    "        if comp_best>83:\n",
    "            labeled_uvp[pc]=current_closest\n",
    "    return labeled_uvp\n",
    "\n",
    "loc_info_clean={x: remove_reviews(loc_info[x][1]) for x in loc_info.keys()}\n",
    "\n",
    "labeled_uvp=make_labeled_uvp(uvp_set,list(loc_info_clean.keys()))"
   ]
  },
  {
   "cell_type": "code",
   "execution_count": 9,
   "metadata": {},
   "outputs": [],
   "source": [
    "# make_matrix takes in a list of rankings of attractions as well as a dictionary (site to labels) and spits out \n",
    "# 1) an array of user preferences, 2) a list of users and 3) a list of attractions.  The only reason we need to feed\n",
    "# in the dictionary is to see if there is labeled data....  \n",
    "\n",
    "#New strategy:  Include all the sites whether or not there is a label.  Later, assign each site a vector, the vector\n",
    "# being zero if unlabeled.\n",
    "\n",
    "def make_matrix(res):\n",
    "    user_list=list(res.keys())\n",
    "    places=[]\n",
    "    for user_key in user_list:\n",
    "        for place in res[user_key].keys():\n",
    "            place_minus_sf=place[15:]\n",
    "            #if place_minus_sf in labeled_places:\n",
    "            places.append(place)\n",
    "    places=list(set(places))\n",
    "\n",
    "\n",
    "    matrix=[]\n",
    "    for u in user_list:\n",
    "        user_likes=[]\n",
    "        for p in places:\n",
    "            if p in res[u].keys():\n",
    "                user_likes.append(res[u][p])\n",
    "            else:\n",
    "                user_likes.append(float('NaN'))\n",
    "        matrix.append(user_likes)\n",
    "\n",
    "    return np.array(matrix), user_list, places\n",
    "\n",
    "\n",
    "# get_data takes in the results 'res' above and spits out a 'clean' matrix of user preferences\n",
    "# as well as a list of users and places.  This is basically a cleaned version of 'make_matrix'\n",
    "\n",
    "def get_data(res):\n",
    "    \n",
    "    matrix, user_list, places = make_matrix(res)\n",
    "    \n",
    "    good_list=[]\n",
    "    for i in range(len(matrix)):\n",
    "        if sum(np.nan_to_num(matrix[i],0))!=0:\n",
    "            good_list.append(i)\n",
    "            \n",
    "    users_clean=np.array(user_list)[good_list]\n",
    "    matrix_clean=matrix[good_list]\n",
    "    return matrix_clean, users_clean, places"
   ]
  },
  {
   "cell_type": "code",
   "execution_count": 10,
   "metadata": {},
   "outputs": [],
   "source": [
    "matrix, user_list, places = get_data(res)"
   ]
  },
  {
   "cell_type": "code",
   "execution_count": 11,
   "metadata": {},
   "outputs": [],
   "source": [
    "def make_profiles_new(matrix,loc_info_clean):\n",
    "    profiles={}\n",
    "    for u in range(len(matrix)):\n",
    "        features_list=[]\n",
    "        for i in range(len(matrix[0])):\n",
    "            try:\n",
    "                features_list+=int(matrix[u][i])*(loc_info_clean[places[i][15:]])\n",
    "            except:\n",
    "                features_list+=''\n",
    "\n",
    "        new_features=[]\n",
    "        for f in features_list:\n",
    "            try:\n",
    "                nf=style_mapper[f]\n",
    "                if type(nf)==str:\n",
    "                    new_features.append(nf)\n",
    "                else:\n",
    "                    new_features+=nf\n",
    "            except:\n",
    "                pass\n",
    "\n",
    "        ct=Counter(new_features)\n",
    "        tot=sum(ct.values())\n",
    "\n",
    "        #res={k:10*ct[k]/tot for k in ct.keys()}\n",
    "        #Use the line above if we want to normalize everything to a total of 10, else, use below.\n",
    "        \n",
    "        res={k:ct[k] for k in ct.keys()}\n",
    "        profiles[u]=res\n",
    "    return profiles\n",
    "\n",
    "\n",
    "def convert_profiles_to_np(profiles,attributes=['Nature','History','Culture','Life']):\n",
    "    np_profiles=[]\n",
    "    for u in range(len(matrix)):\n",
    "        user_profile=[]\n",
    "        for a in attributes:\n",
    "            if a in profiles[u].keys():\n",
    "                user_profile.append(profiles[u][a])\n",
    "            else:\n",
    "                user_profile.append(0)\n",
    "        np_profiles.append(user_profile)\n",
    "    return np.array(np_profiles)\n",
    "\n",
    "#Flatten is just a helper function for 'make_profiles'\n",
    "\n",
    "def flatten(testlist):\n",
    "    acc=[]\n",
    "    for x in testlist:\n",
    "        if type(x)==str:\n",
    "            acc.append(x)\n",
    "        elif type(x)==list:\n",
    "            acc+=x\n",
    "    return acc"
   ]
  },
  {
   "cell_type": "code",
   "execution_count": 16,
   "metadata": {},
   "outputs": [],
   "source": [
    "def make_place_profile(places_clean,loc_info_clean,style_mapper):\n",
    "    place_profile=[]\n",
    "    for p in places_clean:\n",
    "        try:\n",
    "            loc_info=loc_info_clean[p]\n",
    "            new_labels=[]\n",
    "            for label in loc_info:\n",
    "\n",
    "                sml=style_mapper[label]\n",
    "\n",
    "                if type(sml)==list:\n",
    "                    new_labels+=sml\n",
    "                else:\n",
    "                    new_labels+=[sml]\n",
    "                    pass\n",
    "                #print(new_labels)\n",
    "            ct=Counter(new_labels)\n",
    "            place_profile.append(np.array([ct['Nature'],ct['History'],ct['Culture'],ct['Life']]))\n",
    "        except:\n",
    "            place_profile.append(np.array([0,0,0,0]))\n",
    "    return place_profile"
   ]
  },
  {
   "cell_type": "code",
   "execution_count": 12,
   "metadata": {},
   "outputs": [],
   "source": [
    "def create_recsys(matrix,dropout=.1,latent_features=4,max_iter=10,lr=.001,epochs=3,temperature=1,batch_size=50):\n",
    "    return recsys.recsys(matrix,len(matrix),len(matrix[0]),latent_features,dropout,max_iter,epochs,temperature,lr,batch_size=batch_size)"
   ]
  },
  {
   "cell_type": "code",
   "execution_count": 13,
   "metadata": {},
   "outputs": [],
   "source": [
    "def make_place_arrays(places,loc_info_clean,style_mapper):\n",
    "    \n",
    "    places_clean=[x[15:] for x in places]\n",
    "    unreviewed_places=[x for x in loc_info_clean.keys() if x not in places_clean and 'tour' not in x.lower()]\n",
    "    reviewed_places=[x for x in loc_info_clean.keys() if x in places_clean]\n",
    "    full_place_list=places_clean+unreviewed_places\n",
    "\n",
    "    \n",
    "    place_profile = make_place_profile(places_clean,loc_info_clean,style_mapper)\n",
    "    unreviewed_place_profile = make_place_profile(unreviewed_places,loc_info_clean,style_mapper)\n",
    "    rp = np.vstack(place_profile)\n",
    "    unreviewed_places = np.vstack(unreviewed_place_profile)\n",
    "    full_profiles = np.concatenate((rp,unreviewed_places),axis=0)\n",
    "    return full_profiles, full_place_list, unreviewed_places"
   ]
  },
  {
   "cell_type": "code",
   "execution_count": 14,
   "metadata": {},
   "outputs": [],
   "source": [
    "def config_data(res, loc_info, style_mapper):\n",
    "    \n",
    "\n",
    "    matrix, user_list, places = get_data(res)\n",
    "    \n",
    "    loc_info_clean={x: remove_reviews(loc_info[x][1]) for x in loc_info.keys()}\n",
    "    \n",
    "    user_profiles=make_profiles_new(matrix,loc_info_clean)\n",
    "    \n",
    "    places_clean=[x[15:] for x in places]\n",
    "    padding=len([x for x in loc_info_clean.keys() if x not in places_clean and 'tour' not in x.lower()])\n",
    "    \n",
    "    \n",
    "    zeros=np.zeros((len(matrix),padding))\n",
    "    \n",
    "    user_profiles=make_profiles_new(matrix,loc_info_clean)\n",
    "    np_profiles=convert_profiles_to_np(user_profiles)\n",
    "    new_matrix=np.concatenate((np_profiles,matrix,zeros),axis=1)\n",
    "    \n",
    "    mpp = make_place_arrays(places,loc_info_clean,style_mapper)\n",
    "    \n",
    "    return user_profiles, new_matrix, places, mpp, style_mapper"
   ]
  },
  {
   "cell_type": "code",
   "execution_count": 17,
   "metadata": {},
   "outputs": [],
   "source": [
    "data=config_data(res,loc_info,style_mapper)"
   ]
  },
  {
   "cell_type": "code",
   "execution_count": 18,
   "metadata": {},
   "outputs": [],
   "source": [
    "test_real=create_recsys(data[1],max_iter=100,lr=.01,epochs=5,batch_size=100,latent_features=10)"
   ]
  },
  {
   "cell_type": "code",
   "execution_count": 19,
   "metadata": {},
   "outputs": [
    {
     "name": "stdout",
     "output_type": "stream",
     "text": [
      "Epoch 1\n",
      "Epoch 2\n",
      "Epoch 3\n",
      "Epoch 4\n",
      "Epoch 5\n"
     ]
    }
   ],
   "source": [
    "test_real.fit()"
   ]
  },
  {
   "cell_type": "code",
   "execution_count": 20,
   "metadata": {},
   "outputs": [
    {
     "data": {
      "image/png": "[encoded data removed]",
      "text/plain": [
       "<Figure size 432x288 with 1 Axes>"
      ]
     },
     "metadata": {},
     "output_type": "display_data"
    }
   ],
   "source": [
    "plt.scatter(list(range(len(test_real.losses))),test_real.losses,s=.3)\n",
    "plt.xlabel('Iteration')\n",
    "plt.ylabel('Loss')\n",
    "plt.ylim(0,1)\n",
    "plt.show()"
   ]
  },
  {
   "cell_type": "code",
   "execution_count": 21,
   "metadata": {},
   "outputs": [],
   "source": [
    "# Predictions are in the full space, including the rated and unrated attractions\n",
    "\n",
    "def preferences_to_placescores(preferences,weight,num_results=10,user_profiles=data[0],new_matrix=data[1],places=data[2],mpp=data[3],style_mapper=data[4]):\n",
    "    \n",
    "    full_profiles, full_place_list, urp = mpp\n",
    "    zeros=np.zeros((len(matrix),len(urp)))\n",
    "    \n",
    "    \n",
    "    new_user_preferences=(10/sum(preferences))*np.array(preferences)\n",
    "    \n",
    "    \n",
    "    initialization=np.zeros(len(new_matrix[0])-len(preferences))\n",
    "\n",
    "    #Finally, we combine the preferences with the initialization to represent the new user as a row.\n",
    "\n",
    "    new_user=np.concatenate((new_user_preferences,initialization),axis=0)\n",
    "\n",
    "\n",
    "    #Let's figure out what the user likes!\n",
    "    predictions_raw=test_real.predict(new_user)\n",
    "    \n",
    "    predictions=predictions_raw.detach().numpy()[len(preferences):]\n",
    "\n",
    "    \n",
    "    \n",
    "    offset=[sum(new_user_preferences*x) for x in full_profiles]\n",
    "\n",
    "    final_predictions=predictions+weight*np.array(offset)\n",
    "    place_prediction=sorted(list(enumerate(final_predictions)),key=lambda x: x[1],reverse=True)[:num_results]\n",
    "    return [[full_place_list[x[0]],x[1]] for x in place_prediction]\n",
    "    "
   ]
  },
  {
   "cell_type": "code",
   "execution_count": 22,
   "metadata": {},
   "outputs": [
    {
     "data": {
      "text/plain": [
       "[['Alcatraz Island', 0.7027576703966063],\n",
       " ['Twin Peaks', 0.44287783254823915],\n",
       " ['South Bay', 0.3984481229367218],\n",
       " ['Fort Funston', 0.3980443876523425],\n",
       " ['Bay Area Ridge Trail', 0.39803724883607017],\n",
       " ['Wolf Ridge Loop', 0.3980360250750239],\n",
       " ['Lands End', 0.34966654826841587],\n",
       " ['San Francisco Zoo', 0.3434621666832947],\n",
       " ['Baker Beach', 0.31330391515932315],\n",
       " ['Conservatory of Flowers', 0.3106840544655108],\n",
       " ['Telegraph Hill', 0.29866824611109183],\n",
       " ['Golden Gate Promenade', 0.2985499253033851],\n",
       " ['San Francisco Bay Trail', 0.29853785515562886],\n",
       " ['1.5-mile Coastal Trail', 0.298536794871253],\n",
       " ['San Francisco Botanical Garden', 0.29853596298782686],\n",
       " ['Juan Bautista de Anza National Historic Trail', 0.29853266865386213],\n",
       " ['Ecology Trail', 0.2985324447221694],\n",
       " ['Ocean Beach', 0.29853131419035545],\n",
       " ['Marina Green', 0.2985306673036086],\n",
       " ['Batteries to Bluffs trail', 0.2985292849056543]]"
      ]
     },
     "execution_count": 22,
     "metadata": {},
     "output_type": "execute_result"
    }
   ],
   "source": [
    "# ['Nature','History','Culture','Life']\n",
    "preferences=[8335,2,7,32]\n",
    "preferences_to_placescores(preferences,num_results=20,weight=.01)"
   ]
  },
  {
   "cell_type": "code",
   "execution_count": 231,
   "metadata": {},
   "outputs": [],
   "source": [
    "\n",
    "# full_predictions=test_real.predict(new_matrix)\n",
    "# full_predictions2=full_predictions[:,4:].detach().numpy()\n",
    "# averages=[np.mean(full_predictions2[:,i]) for i in range(len(full_profiles))]\n",
    "# stds=[np.std(full_predictions2[:,i]) for i in range(len(full_profiles))]"
   ]
  }
 ],
 "metadata": {
  "kernelspec": {
   "display_name": "Python 3",
   "language": "python",
   "name": "python3"
  },
  "language_info": {
   "codemirror_mode": {
    "name": "ipython",
    "version": 3
   },
   "file_extension": ".py",
   "mimetype": "text/x-python",
   "name": "python",
   "nbconvert_exporter": "python",
   "pygments_lexer": "ipython3",
   "version": "3.6.5"
  }
 },
 "nbformat": 4,
 "nbformat_minor": 2
}
