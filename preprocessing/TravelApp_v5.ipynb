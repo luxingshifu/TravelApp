{
 "cells": [
  {
   "cell_type": "code",
   "execution_count": 1,
   "metadata": {
    "ExecuteTime": {
     "end_time": "2018-09-23T22:02:50.365561Z",
     "start_time": "2018-09-23T22:02:49.786462Z"
    }
   },
   "outputs": [],
   "source": [
    "import numpy as np\n",
    "import pickle as pkl\n",
    "import bisect\n",
    "import os\n",
    "import torch\n",
    "import pandas as pd\n",
    "import math\n",
    "from collections import Counter\n",
    "import random\n",
    "import random\n",
    "from builddata import config_data, get_res, create_recsys\n",
    "import recsys\n",
    "import matplotlib.pyplot as plt\n",
    "from fuzzywuzzy import fuzz\n",
    "from fuzzywuzzy import process\n",
    "%matplotlib inline\n",
    "\n",
    "with open('good_data/loc_info.pkl','rb') as f:\n",
    "    loc_info=pkl.load(f)\n",
    "\n",
    "    \n",
    "def remove_reviews(bla):\n",
    "    return [x for x in bla if 'Reviews' not in x]\n",
    "\n",
    "loc_info_clean={x: remove_reviews(loc_info[x][1]) for x in loc_info.keys()}    \n",
    "\n",
    "with open('good_data/style_mapper.pkl','rb') as f:\n",
    "    style_mapper=pkl.load(f)\n",
    "    \n",
    "site_index=pkl.load(open('good_data/site_index.pkl','rb'))"
   ]
  },
  {
   "cell_type": "markdown",
   "metadata": {},
   "source": [
    "# Making Predictions w/ Real Data\n",
    "\n",
    "Now we need to run this with some real data.  Below we have some functions to clean the data.  The data is coming from https://www.tripadvisor.com/ and https://trip.sftravel.com/."
   ]
  },
  {
   "cell_type": "code",
   "execution_count": 2,
   "metadata": {
    "ExecuteTime": {
     "end_time": "2018-09-23T22:02:55.871846Z",
     "start_time": "2018-09-23T22:02:55.866669Z"
    }
   },
   "outputs": [],
   "source": [
    "def get_res():\n",
    "    results=[]\n",
    "    for k in range(100,19400,100):\n",
    "        with open(f'raw_data/file_{k}.pkl','rb') as f:\n",
    "            likes=pkl.load(f)\n",
    "            results.append(likes)\n",
    "\n",
    "    # Now we need to combine all the results above into one big dictionary.    \n",
    "\n",
    "    res=results[0]\n",
    "    for i in range(1,len(results)):\n",
    "        res={**res,**results[i]}\n",
    "    return res\n",
    "\n",
    "\n",
    "def clean_res(res):\n",
    "    keys=list(res.keys())\n",
    "    new_dct={}\n",
    "    for i in range(len(keys)):\n",
    "        dct=res[keys[i]]\n",
    "        new={x[15:]:dct[x] for x in dct if x[15:] in site_index}\n",
    "        if len(new)!=0:\n",
    "            new_dct[keys[i]]=new\n",
    "    return new_dct"
   ]
  },
  {
   "cell_type": "code",
   "execution_count": null,
   "metadata": {
    "ExecuteTime": {
     "end_time": "2018-09-23T22:04:26.873891Z",
     "start_time": "2018-09-23T22:04:26.730193Z"
    }
   },
   "outputs": [],
   "source": []
  },
  {
   "cell_type": "code",
   "execution_count": 20,
   "metadata": {},
   "outputs": [],
   "source": [
    "def make_matrix(res):\n",
    "    user_list=list(res.keys())\n",
    "    \n",
    "    matrix=[]\n",
    "    for u in user_list:\n",
    "        user_likes=[]\n",
    "        for p in site_index:\n",
    "            if p in res[u].keys():\n",
    "                user_likes.append(res[u][p])\n",
    "            else:\n",
    "                user_likes.append(float('NaN'))\n",
    "        if sum(np.nan_to_num(user_likes,0))!=0:          \n",
    "            matrix.append(user_likes)\n",
    "\n",
    "    return np.array(matrix), user_list"
   ]
  },
  {
   "cell_type": "code",
   "execution_count": 4,
   "metadata": {},
   "outputs": [],
   "source": [
    "def make_user_profiles(matrix,loc_info_clean):\n",
    "    profiles={}\n",
    "    \n",
    "    for u in range(len(matrix)):\n",
    "        features_list=[]\n",
    "        for i in range(len(matrix[0])):\n",
    "            try:\n",
    "                features_list+=int(matrix[u][i])*(loc_info_clean[site_index[i]])\n",
    "            except:\n",
    "                features_list+=''\n",
    "\n",
    "        new_features=[]\n",
    "        for f in features_list:\n",
    "            try:\n",
    "                nf=style_mapper[f]\n",
    "                if type(nf)==str:\n",
    "                    new_features.append(nf)\n",
    "                else:\n",
    "                    new_features+=nf\n",
    "            except:\n",
    "                pass\n",
    "\n",
    "        ct=Counter(new_features)\n",
    "        norm=np.linalg.norm(list(ct.values()))\n",
    "        tot=sum(ct.values())\n",
    "\n",
    "#         res={k:10*ct[k]/norm for k in ct.keys()}\n",
    "        #Use the line above if we want to normalize everything to a total of 10, else, use below.\n",
    "        #Not normalizing kinda makes sense because we can give more weight to those who have travelled\n",
    "        #more and reviewed more places... these people are more likely to be traveling and use the app \n",
    "        #anyway.\n",
    "        \n",
    "        res={k:ct[k] for k in ct.keys()}\n",
    "        profiles[u]=res\n",
    "    return profiles\n",
    "\n",
    "\n",
    "def convert_profiles_to_np(profiles,attributes=['Nature','History','Culture','Life']):\n",
    "    \n",
    "    #Where does matrix come from?\n",
    "    np_profiles=[]\n",
    "    for u in range(len(profiles)):\n",
    "        user_profile=[]\n",
    "        for a in attributes:\n",
    "            if a in profiles[u].keys():\n",
    "                user_profile.append(profiles[u][a])\n",
    "            else:\n",
    "                user_profile.append(0)\n",
    "        np_profiles.append(user_profile)\n",
    "        \n",
    "    return np.array(np_profiles)\n",
    "\n",
    "\n",
    "\n",
    "def make_place_profile(site_index,loc_info_clean,style_mapper):\n",
    "    place_profile=[]\n",
    "    for p in site_index:\n",
    "        try:\n",
    "            loc_info=loc_info_clean[p]\n",
    "            new_labels=[]\n",
    "            for label in loc_info:\n",
    "\n",
    "                sml=style_mapper[label]\n",
    "\n",
    "                if type(sml)==list:\n",
    "                    new_labels+=sml\n",
    "                else:\n",
    "                    new_labels+=[sml]\n",
    "                    pass\n",
    "                #print(new_labels)\n",
    "            ct=Counter(new_labels)\n",
    "            place_profile.append(np.array([ct['Nature'],ct['History'],ct['Culture'],ct['Life']]))\n",
    "        except:\n",
    "            place_profile.append(np.array([0,0,0,0]))\n",
    "    return place_profile"
   ]
  },
  {
   "cell_type": "code",
   "execution_count": 21,
   "metadata": {},
   "outputs": [],
   "source": [
    "def convert_to_cdf(array,minimum,maximum):\n",
    "    new=[]\n",
    "    for x in array:\n",
    "        index=(maximum-minimum)/(len(array))*(bisect.bisect_left(sorted(array),x))\n",
    "        new.append(index)\n",
    "    return np.array(new)\n",
    "\n",
    "\n",
    "\n",
    "def config_data(res, loc_info_clean, style_mapper):\n",
    "    \n",
    "\n",
    "    \n",
    "    # first, use get_data to construct a matrix, user list and place list appearing in the\n",
    "    # user reviews.\n",
    "    \n",
    "    matrix, user_list = make_matrix(res)\n",
    "    \n",
    "    #next, build the user profiles based off of their reviews.\n",
    "    \n",
    "#     loc_info_clean={x: remove_reviews(loc_info[x][1]) for x in loc_info.keys()}\n",
    "    \n",
    "    # The function 'make_place_arrays' is essentially just `passing through'. The reason\n",
    "    # this is done is to ensure that the input and output is consistent with the other\n",
    "    # data.\n",
    "    \n",
    "    \n",
    "#     mpp = make_place_arrays(places,loc_info_clean,style_mapper)\n",
    "#     full_profiles, full_place_list, unreviewed_places = mpp\n",
    "    \n",
    "    place_profiles=make_place_profile(site_index,loc_info_clean,style_mapper)\n",
    "    \n",
    "    \n",
    "    user_profiles=make_user_profiles(matrix,loc_info_clean)\n",
    "    np_profiles=convert_profiles_to_np(user_profiles)\n",
    "    \n",
    "    np_profiles_normalized=pd.DataFrame(np_profiles).apply(lambda x: convert_to_cdf(x,0,10),axis=0)\n",
    "    \n",
    "    # next, we clean up places and add in a string of zeros for all the places which the\n",
    "    # users (all of them) have not been to.\n",
    "    \n",
    "#     places_clean=[x[15:] for x in places]\n",
    "#     padding=len([x for x in loc_info_clean.keys() if x not in places_clean and 'tour' not in x.lower() and x in site_index])  \n",
    "#     zeros=np.zeros((len(matrix),padding))\n",
    "    new_matrix=np.concatenate((np_profiles_normalized,matrix),axis=1)\n",
    "\n",
    "    \n",
    "    \n",
    "    return user_profiles, new_matrix, place_profiles"
   ]
  },
  {
   "cell_type": "code",
   "execution_count": 6,
   "metadata": {},
   "outputs": [],
   "source": [
    "res=clean_res(get_res())"
   ]
  },
  {
   "cell_type": "code",
   "execution_count": 15,
   "metadata": {},
   "outputs": [],
   "source": [
    "user_profiles, matrix, place_profiles=config_data(res, loc_info_clean, style_mapper)"
   ]
  },
  {
   "cell_type": "code",
   "execution_count": 28,
   "metadata": {},
   "outputs": [],
   "source": [
    "# profiles=make_user_profiles(matrix,loc_info)\n",
    "# np_profiles=convert_profiles_to_np(profiles)"
   ]
  },
  {
   "cell_type": "code",
   "execution_count": 16,
   "metadata": {},
   "outputs": [],
   "source": [
    "with open('good_data/place_profiles_light.pkl','wb') as f:\n",
    "    pkl.dump(place_profiles, f)"
   ]
  },
  {
   "cell_type": "code",
   "execution_count": 3,
   "metadata": {},
   "outputs": [],
   "source": [
    "# pkl.dump(data,open('tmp_data/data','wb'))\n",
    "data=pkl.load(open('tmp_data/data','rb'))"
   ]
  },
  {
   "cell_type": "code",
   "execution_count": 8,
   "metadata": {},
   "outputs": [
    {
     "name": "stdout",
     "output_type": "stream",
     "text": [
      "Epoch 1\n",
      "Epoch 2\n",
      "Epoch 3\n",
      "Epoch 4\n",
      "Epoch 5\n",
      "Epoch 6\n",
      "Epoch 7\n",
      "Epoch 8\n"
     ]
    }
   ],
   "source": [
    "test_real=create_recsys(matrix,max_iter=500,lr=.01,epochs=8,batch_size=200,latent_features=12)\n",
    "test_real.fit()"
   ]
  },
  {
   "cell_type": "code",
   "execution_count": 12,
   "metadata": {},
   "outputs": [],
   "source": [
    "# with open('good_data/full_place_list.pkl','wb') as f:\n",
    "#     pkl.dump(full_place_list,f)\n",
    "    \n",
    "    \n",
    "# with open('good_data/place_profiles.pkl','wb') as f:\n",
    "#     pkl.dump(full_place_profiles,f)\n",
    "\n",
    "torch.save(test_real.state_dict(),'model/model_cdf_light')\n",
    "    \n",
    "# sample_indices=np.random.choice(range(len(data[1][0])),17,replace=False)\n",
    "# sample=data[1][sample_indices]\n",
    "# test_real.forward(sample)"
   ]
  },
  {
   "cell_type": "code",
   "execution_count": 17,
   "metadata": {},
   "outputs": [
    {
     "data": {
      "image/png": "[encoded data removed]",
      "text/plain": [
       "<Figure size 432x288 with 1 Axes>"
      ]
     },
     "metadata": {
      "needs_background": "light"
     },
     "output_type": "display_data"
    }
   ],
   "source": [
    "plt.scatter(list(range(len(test_real.losses))),test_real.losses,s=.3)\n",
    "# plt.scatter(list(range(len(old_losses))),old_losses,s=.3)\n",
    "plt.xlabel('Iteration')\n",
    "plt.ylabel('Loss')\n",
    "plt.ylim(0,1)\n",
    "plt.title(\"Recommender Loss Function\")\n",
    "plt.show()"
   ]
  },
  {
   "cell_type": "code",
   "execution_count": null,
   "metadata": {},
   "outputs": [],
   "source": []
  }
 ],
 "metadata": {
  "kernelspec": {
   "display_name": "Python 3",
   "language": "python",
   "name": "python3"
  },
  "language_info": {
   "codemirror_mode": {
    "name": "ipython",
    "version": 3
   },
   "file_extension": ".py",
   "mimetype": "text/x-python",
   "name": "python",
   "nbconvert_exporter": "python",
   "pygments_lexer": "ipython3",
   "version": "3.6.6"
  },
  "varInspector": {
   "cols": {
    "lenName": 16,
    "lenType": 16,
    "lenVar": 40
   },
   "kernels_config": {
    "python": {
     "delete_cmd_postfix": "",
     "delete_cmd_prefix": "del ",
     "library": "var_list.py",
     "varRefreshCmd": "print(var_dic_list())"
    },
    "r": {
     "delete_cmd_postfix": ") ",
     "delete_cmd_prefix": "rm(",
     "library": "var_list.r",
     "varRefreshCmd": "cat(var_dic_list()) "
    }
   },
   "types_to_exclude": [
    "module",
    "function",
    "builtin_function_or_method",
    "instance",
    "_Feature"
   ],
   "window_display": false
  }
 },
 "nbformat": 4,
 "nbformat_minor": 2
}
