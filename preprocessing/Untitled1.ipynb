{
 "cells": [
  {
   "cell_type": "code",
   "execution_count": 2,
   "metadata": {
    "ExecuteTime": {
     "end_time": "2018-09-26T18:36:55.066362Z",
     "start_time": "2018-09-26T18:36:55.063524Z"
    }
   },
   "outputs": [],
   "source": [
    "class ListNode(object):\n",
    "    def __init__(self, x):\n",
    "        self.value = x\n",
    "        self.next = None"
   ]
  },
  {
   "cell_type": "code",
   "execution_count": 4,
   "metadata": {
    "ExecuteTime": {
     "end_time": "2018-09-26T18:38:10.053997Z",
     "start_time": "2018-09-26T18:38:10.052023Z"
    }
   },
   "outputs": [],
   "source": [
    "a=ListNode(9876)\n",
    "a1=ListNode(5432)\n",
    "a2=ListNode(1999)\n",
    "a.next=a1\n",
    "a1.next=a2"
   ]
  },
  {
   "cell_type": "code",
   "execution_count": 5,
   "metadata": {
    "ExecuteTime": {
     "end_time": "2018-09-26T18:38:39.844489Z",
     "start_time": "2018-09-26T18:38:39.842120Z"
    }
   },
   "outputs": [],
   "source": [
    "b=ListNode(1)\n",
    "b1=ListNode(8001)\n",
    "b.next=b1"
   ]
  },
  {
   "cell_type": "code",
   "execution_count": 167,
   "metadata": {
    "ExecuteTime": {
     "end_time": "2018-09-26T20:12:11.490371Z",
     "start_time": "2018-09-26T20:12:11.484807Z"
    }
   },
   "outputs": [],
   "source": [
    "def addTwoHugeNumbers(a, b):\n",
    "    str_a=''\n",
    "    str_b=''\n",
    "    while a:\n",
    "        tmp_a=str(a.value)\n",
    "        tmp_a=(4-len(list(tmp_a)))*'0'+tmp_a\n",
    "        str_a=str_a+tmp_a\n",
    "        try:\n",
    "            a=a.next\n",
    "        except:\n",
    "            break\n",
    "        \n",
    "    while b:\n",
    "        tmp_b=str(b.value)\n",
    "        tmp_b=(4-len(list(tmp_b)))*'0'+tmp_b\n",
    "        str_b=str_b+tmp_b\n",
    "        try:\n",
    "            b=b.next\n",
    "        except:\n",
    "            break\n",
    "    print(str_b)\n",
    "    ab_sum=str(int(str_a)+int(str_b))\n",
    "    ab_sum_list=list(ab_sum)[::-1]\n",
    "    L=len(ab_sum_list)\n",
    "    result=[]\n",
    "    for i in range(L//4):\n",
    "        result.append(int(''.join(ab_sum_list[4*i:4*i+4][::-1])))\n",
    "    if L%4!=0:\n",
    "        result.append(int(''.join(ab_sum_list[4*(L//4):][::-1])))\n",
    "    result=result[::-1]\n",
    "    for i in range(len(result)):\n",
    "        result[i]=ListNode(result[i])\n",
    "    for i in range(len(result)-1):\n",
    "        result[i].next=result[i+1]\n",
    "    return result[0]\n",
    "\n",
    "    \n",
    "\n"
   ]
  },
  {
   "cell_type": "code",
   "execution_count": 156,
   "metadata": {
    "ExecuteTime": {
     "end_time": "2018-09-26T20:04:34.770970Z",
     "start_time": "2018-09-26T20:04:34.768219Z"
    }
   },
   "outputs": [],
   "source": [
    "str_a=''\n",
    "str_b=''\n",
    "while b:\n",
    "    tmp_b=str(b.value)\n",
    "    tmp_b=(4-len(list(tmp_b)))*'0'+tmp_b\n",
    "    str_b=str_b+tmp_b\n",
    "    print(str_b)\n",
    "    b=b.next"
   ]
  },
  {
   "cell_type": "code",
   "execution_count": 168,
   "metadata": {
    "ExecuteTime": {
     "end_time": "2018-09-26T20:12:14.093546Z",
     "start_time": "2018-09-26T20:12:14.089105Z"
    }
   },
   "outputs": [
    {
     "name": "stdout",
     "output_type": "stream",
     "text": [
      "010001000100\n"
     ]
    },
    {
     "data": {
      "text/plain": [
       "223"
      ]
     },
     "execution_count": 168,
     "metadata": {},
     "output_type": "execute_result"
    }
   ],
   "source": [
    "addTwoHugeNumbers(a,b).value"
   ]
  },
  {
   "cell_type": "code",
   "execution_count": 146,
   "metadata": {
    "ExecuteTime": {
     "end_time": "2018-09-26T20:00:22.443397Z",
     "start_time": "2018-09-26T20:00:22.440105Z"
    }
   },
   "outputs": [
    {
     "data": {
      "text/plain": [
       "1020101"
      ]
     },
     "execution_count": 146,
     "metadata": {},
     "output_type": "execute_result"
    }
   ],
   "source": [
    "int('01020101')"
   ]
  },
  {
   "cell_type": "code",
   "execution_count": 128,
   "metadata": {
    "ExecuteTime": {
     "end_time": "2018-09-26T19:52:14.096735Z",
     "start_time": "2018-09-26T19:52:14.092892Z"
    }
   },
   "outputs": [
    {
     "data": {
      "text/plain": [
       "22301040105"
      ]
     },
     "execution_count": 128,
     "metadata": {},
     "output_type": "execute_result"
    }
   ],
   "source": [
    "int('123'+'0004'+'0005')+int('100'+'0100'+'0100')"
   ]
  },
  {
   "cell_type": "code",
   "execution_count": 157,
   "metadata": {
    "ExecuteTime": {
     "end_time": "2018-09-26T20:04:49.314110Z",
     "start_time": "2018-09-26T20:04:49.311101Z"
    }
   },
   "outputs": [],
   "source": [
    "a=ListNode(123)\n",
    "a1=ListNode(4)\n",
    "a2=ListNode(5)\n",
    "b=ListNode(100)\n",
    "b1=ListNode(100)\n",
    "b2=ListNode(100)\n",
    "a.next=a1\n",
    "a1.next=a2\n",
    "b.next=b1\n",
    "b1.next=b2"
   ]
  },
  {
   "cell_type": "code",
   "execution_count": 116,
   "metadata": {
    "ExecuteTime": {
     "end_time": "2018-09-26T19:45:48.655718Z",
     "start_time": "2018-09-26T19:45:48.646860Z"
    }
   },
   "outputs": [
    {
     "ename": "ValueError",
     "evalue": "invalid literal for int() with base 10: ''",
     "output_type": "error",
     "traceback": [
      "\u001b[0;31m---------------------------------------------------------------------------\u001b[0m",
      "\u001b[0;31mValueError\u001b[0m                                Traceback (most recent call last)",
      "\u001b[0;32m<ipython-input-116-97726946f2a5>\u001b[0m in \u001b[0;36m<module>\u001b[0;34m()\u001b[0m\n\u001b[0;32m----> 1\u001b[0;31m \u001b[0maddTwoHugeNumbers\u001b[0m\u001b[0;34m(\u001b[0m\u001b[0ma\u001b[0m\u001b[0;34m,\u001b[0m\u001b[0mb\u001b[0m\u001b[0;34m)\u001b[0m\u001b[0;34m.\u001b[0m\u001b[0mnext\u001b[0m\u001b[0;34m.\u001b[0m\u001b[0mnext\u001b[0m\u001b[0;34m.\u001b[0m\u001b[0mvalue\u001b[0m\u001b[0;34m\u001b[0m\u001b[0m\n\u001b[0m",
      "\u001b[0;32m<ipython-input-113-bd5122be56bf>\u001b[0m in \u001b[0;36maddTwoHugeNumbers\u001b[0;34m(a, b)\u001b[0m\n\u001b[1;32m     19\u001b[0m         \u001b[0mresult\u001b[0m\u001b[0;34m.\u001b[0m\u001b[0mappend\u001b[0m\u001b[0;34m(\u001b[0m\u001b[0mint\u001b[0m\u001b[0;34m(\u001b[0m\u001b[0;34m''\u001b[0m\u001b[0;34m.\u001b[0m\u001b[0mjoin\u001b[0m\u001b[0;34m(\u001b[0m\u001b[0mab_sum_list\u001b[0m\u001b[0;34m[\u001b[0m\u001b[0;36m4\u001b[0m\u001b[0;34m*\u001b[0m\u001b[0mi\u001b[0m\u001b[0;34m:\u001b[0m\u001b[0;36m4\u001b[0m\u001b[0;34m*\u001b[0m\u001b[0mi\u001b[0m\u001b[0;34m+\u001b[0m\u001b[0;36m4\u001b[0m\u001b[0;34m]\u001b[0m\u001b[0;34m)\u001b[0m\u001b[0;34m)\u001b[0m\u001b[0;34m)\u001b[0m\u001b[0;34m\u001b[0m\u001b[0m\n\u001b[1;32m     20\u001b[0m \u001b[0;34m\u001b[0m\u001b[0m\n\u001b[0;32m---> 21\u001b[0;31m     \u001b[0mresult\u001b[0m\u001b[0;34m.\u001b[0m\u001b[0mappend\u001b[0m\u001b[0;34m(\u001b[0m\u001b[0mint\u001b[0m\u001b[0;34m(\u001b[0m\u001b[0;34m''\u001b[0m\u001b[0;34m.\u001b[0m\u001b[0mjoin\u001b[0m\u001b[0;34m(\u001b[0m\u001b[0mab_sum_list\u001b[0m\u001b[0;34m[\u001b[0m\u001b[0;36m4\u001b[0m\u001b[0;34m*\u001b[0m\u001b[0;34m(\u001b[0m\u001b[0mL\u001b[0m\u001b[0;34m//\u001b[0m\u001b[0;36m4\u001b[0m\u001b[0;34m)\u001b[0m\u001b[0;34m:\u001b[0m\u001b[0;34m]\u001b[0m\u001b[0;34m)\u001b[0m\u001b[0;34m)\u001b[0m\u001b[0;34m)\u001b[0m\u001b[0;34m\u001b[0m\u001b[0m\n\u001b[0m\u001b[1;32m     22\u001b[0m     \u001b[0;32mfor\u001b[0m \u001b[0mi\u001b[0m \u001b[0;32min\u001b[0m \u001b[0mrange\u001b[0m\u001b[0;34m(\u001b[0m\u001b[0mlen\u001b[0m\u001b[0;34m(\u001b[0m\u001b[0mresult\u001b[0m\u001b[0;34m)\u001b[0m\u001b[0;34m)\u001b[0m\u001b[0;34m:\u001b[0m\u001b[0;34m\u001b[0m\u001b[0m\n\u001b[1;32m     23\u001b[0m         \u001b[0mresult\u001b[0m\u001b[0;34m[\u001b[0m\u001b[0mi\u001b[0m\u001b[0;34m]\u001b[0m\u001b[0;34m=\u001b[0m\u001b[0mListNode\u001b[0m\u001b[0;34m(\u001b[0m\u001b[0mresult\u001b[0m\u001b[0;34m[\u001b[0m\u001b[0mi\u001b[0m\u001b[0;34m]\u001b[0m\u001b[0;34m)\u001b[0m\u001b[0;34m\u001b[0m\u001b[0m\n",
      "\u001b[0;31mValueError\u001b[0m: invalid literal for int() with base 10: ''"
     ]
    }
   ],
   "source": [
    "addTwoHugeNumbers(a,b).next.next.value"
   ]
  },
  {
   "cell_type": "code",
   "execution_count": 103,
   "metadata": {
    "ExecuteTime": {
     "end_time": "2018-09-26T19:28:43.750359Z",
     "start_time": "2018-09-26T19:28:43.747353Z"
    }
   },
   "outputs": [
    {
     "data": {
      "text/plain": [
       "112653226319"
      ]
     },
     "execution_count": 103,
     "metadata": {},
     "output_type": "execute_result"
    }
   ],
   "source": [
    "12343215314+100310011005"
   ]
  },
  {
   "cell_type": "code",
   "execution_count": 54,
   "metadata": {
    "ExecuteTime": {
     "end_time": "2018-09-26T19:08:35.290108Z",
     "start_time": "2018-09-26T19:08:35.284659Z"
    }
   },
   "outputs": [
    {
     "ename": "AttributeError",
     "evalue": "'int' object has no attribute 'value'",
     "output_type": "error",
     "traceback": [
      "\u001b[0;31m---------------------------------------------------------------------------\u001b[0m",
      "\u001b[0;31mAttributeError\u001b[0m                            Traceback (most recent call last)",
      "\u001b[0;32m<ipython-input-54-62a48570aa67>\u001b[0m in \u001b[0;36m<module>\u001b[0;34m()\u001b[0m\n\u001b[0;32m----> 1\u001b[0;31m \u001b[0mbuffalo\u001b[0m\u001b[0;34m.\u001b[0m\u001b[0mvalue\u001b[0m\u001b[0;34m\u001b[0m\u001b[0m\n\u001b[0m",
      "\u001b[0;31mAttributeError\u001b[0m: 'int' object has no attribute 'value'"
     ]
    }
   ],
   "source": [
    "buffalo.value"
   ]
  },
  {
   "cell_type": "code",
   "execution_count": 160,
   "metadata": {
    "ExecuteTime": {
     "end_time": "2018-09-26T20:09:21.881424Z",
     "start_time": "2018-09-26T20:09:21.879233Z"
    }
   },
   "outputs": [],
   "source": [
    "bla=[1,2,3,4]"
   ]
  },
  {
   "cell_type": "code",
   "execution_count": 163,
   "metadata": {
    "ExecuteTime": {
     "end_time": "2018-09-26T20:09:48.439942Z",
     "start_time": "2018-09-26T20:09:48.436262Z"
    }
   },
   "outputs": [
    {
     "data": {
      "text/plain": [
       "[]"
      ]
     },
     "execution_count": 163,
     "metadata": {},
     "output_type": "execute_result"
    }
   ],
   "source": [
    "bla[-2:-1]"
   ]
  },
  {
   "cell_type": "code",
   "execution_count": 62,
   "metadata": {
    "ExecuteTime": {
     "end_time": "2018-09-26T19:13:34.514390Z",
     "start_time": "2018-09-26T19:13:34.511272Z"
    }
   },
   "outputs": [
    {
     "data": {
      "text/plain": [
       "3"
      ]
     },
     "execution_count": 62,
     "metadata": {},
     "output_type": "execute_result"
    }
   ],
   "source": [
    "bla[0].value"
   ]
  },
  {
   "cell_type": "code",
   "execution_count": null,
   "metadata": {},
   "outputs": [],
   "source": []
  }
 ],
 "metadata": {
  "kernelspec": {
   "display_name": "Python 3",
   "language": "python",
   "name": "python3"
  },
  "language_info": {
   "codemirror_mode": {
    "name": "ipython",
    "version": 3
   },
   "file_extension": ".py",
   "mimetype": "text/x-python",
   "name": "python",
   "nbconvert_exporter": "python",
   "pygments_lexer": "ipython3",
   "version": "3.6.6"
  },
  "varInspector": {
   "cols": {
    "lenName": 16,
    "lenType": 16,
    "lenVar": 40
   },
   "kernels_config": {
    "python": {
     "delete_cmd_postfix": "",
     "delete_cmd_prefix": "del ",
     "library": "var_list.py",
     "varRefreshCmd": "print(var_dic_list())"
    },
    "r": {
     "delete_cmd_postfix": ") ",
     "delete_cmd_prefix": "rm(",
     "library": "var_list.r",
     "varRefreshCmd": "cat(var_dic_list()) "
    }
   },
   "types_to_exclude": [
    "module",
    "function",
    "builtin_function_or_method",
    "instance",
    "_Feature"
   ],
   "window_display": false
  }
 },
 "nbformat": 4,
 "nbformat_minor": 2
}
