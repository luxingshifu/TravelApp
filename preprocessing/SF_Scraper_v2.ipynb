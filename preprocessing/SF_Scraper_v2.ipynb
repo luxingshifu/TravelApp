{
 "cells": [
  {
   "cell_type": "code",
   "execution_count": 1,
   "metadata": {
    "ExecuteTime": {
     "end_time": "2018-09-24T05:58:33.571618Z",
     "start_time": "2018-09-24T05:58:32.370825Z"
    }
   },
   "outputs": [],
   "source": [
    "import pickle as pkl\n",
    "import datetime\n",
    "\n",
    "import csv\n",
    "# Scraping items\n",
    "from bs4 import BeautifulSoup\n",
    "import requests\n",
    "\n",
    "from selenium import webdriver\n",
    "from selenium.webdriver.common.keys import Keys\n",
    "import time\n",
    "\n",
    "import os\n",
    "\n",
    "from IPython.core.display import display, HTML\n",
    "import concurrent.futures\n",
    "\n",
    "from collections import Counter\n",
    "import numpy as np\n",
    "from scipy import stats\n",
    "\n",
    "import pandas as pd\n",
    "from subprocess import call\n",
    "import concurrent.futures\n",
    "from fuzzywuzzy import fuzz\n",
    "from fuzzywuzzy import process\n",
    "\n",
    "#from pymongo import MongoClient"
   ]
  },
  {
   "cell_type": "code",
   "execution_count": 2,
   "metadata": {
    "ExecuteTime": {
     "end_time": "2018-09-24T05:58:42.766225Z",
     "start_time": "2018-09-24T05:58:40.945569Z"
    }
   },
   "outputs": [],
   "source": [
    "#Path on Ubuntu\n",
    "# chromedriver = \"/home/williamcottrell72/Downloads/chromedriver_linux64/chromedriver\" # path to the chromedriver executable\n",
    "#Path on Mac\n",
    "chromedriver=\"/Applications/chromedriver\"\n",
    "os.environ[\"webdriver.chrome.driver\"] = chromedriver\n",
    "driver = webdriver.Chrome(chromedriver)"
   ]
  },
  {
   "cell_type": "code",
   "execution_count": 4,
   "metadata": {
    "ExecuteTime": {
     "end_time": "2018-09-24T06:03:06.595902Z",
     "start_time": "2018-09-24T06:03:06.463310Z"
    }
   },
   "outputs": [],
   "source": [
    "# List of reviews\n",
    "with open('SF_Urls','r') as f:\n",
    "    urls=pd.read_csv(f)\n",
    "urls2=[x.strip().strip('\\'').strip('\\'') for x in list(urls.columns)]"
   ]
  },
  {
   "cell_type": "code",
   "execution_count": 10,
   "metadata": {
    "ExecuteTime": {
     "end_time": "2018-09-24T06:22:32.439074Z",
     "start_time": "2018-09-24T06:22:32.435870Z"
    }
   },
   "outputs": [],
   "source": [
    "web_pages=[\"https://www.tripadvisor.com/Attractions-g60713-Activities-San_Francisco_California.html#FILTERED_LIST\"]\n",
    "for k in range(30,750,30):\n",
    "    url=\"https://www.tripadvisor.com/Attractions-g60713-Activities-oa\"+str(k)+\"-San_Francisco_California.html#FILTERED_LIST\"\n",
    "    web_pages.append(url)"
   ]
  },
  {
   "cell_type": "code",
   "execution_count": 11,
   "metadata": {
    "ExecuteTime": {
     "end_time": "2018-09-24T06:22:44.613150Z",
     "start_time": "2018-09-24T06:22:44.610035Z"
    }
   },
   "outputs": [
    {
     "data": {
      "text/plain": [
       "'https://www.tripadvisor.com/Attractions-g60713-Activities-oa720-San_Francisco_California.html#FILTERED_LIST'"
      ]
     },
     "execution_count": 11,
     "metadata": {},
     "output_type": "execute_result"
    }
   ],
   "source": [
    "web_pages[-1]"
   ]
  },
  {
   "cell_type": "code",
   "execution_count": 27,
   "metadata": {
    "ExecuteTime": {
     "end_time": "2018-09-24T06:38:35.863052Z",
     "start_time": "2018-09-24T06:38:32.631268Z"
    }
   },
   "outputs": [],
   "source": [
    "SF_Urls=[]\n",
    "for w in web_pages[:3]:\n",
    "    driver.get(w)\n",
    "    soup=BeautifulSoup(driver.page_source,'html.parser')\n",
    "    listing=soup.find_all('div', class_='listing_info')[0]\n",
    "    href=listing.find_all(class_='listing_title')[0].find('a')['href']\n",
    "    url=\"https://www.tripadvisor.com/\"+href\n",
    "    SF_Urls.append(url)"
   ]
  },
  {
   "cell_type": "code",
   "execution_count": 31,
   "metadata": {
    "ExecuteTime": {
     "end_time": "2018-09-24T06:39:31.618995Z",
     "start_time": "2018-09-24T06:39:31.615531Z"
    }
   },
   "outputs": [
    {
     "data": {
      "text/plain": [
       "'https://www.tripadvisor.com//Attraction_Review-g60713-d105418-Reviews-San_Francisco_Museum_of_Modern_Art_SFMOMA-San_Francisco_California.html'"
      ]
     },
     "execution_count": 31,
     "metadata": {},
     "output_type": "execute_result"
    }
   ],
   "source": [
    "SF_Urls[1]"
   ]
  },
  {
   "cell_type": "code",
   "execution_count": 13,
   "metadata": {
    "ExecuteTime": {
     "end_time": "2018-09-24T06:27:27.315184Z",
     "start_time": "2018-09-24T06:27:27.164453Z"
    }
   },
   "outputs": [],
   "source": [
    "soup=BeautifulSoup(driver.page_source,'html.parser')"
   ]
  },
  {
   "cell_type": "code",
   "execution_count": 17,
   "metadata": {
    "ExecuteTime": {
     "end_time": "2018-09-24T06:29:30.805981Z",
     "start_time": "2018-09-24T06:29:30.775497Z"
    }
   },
   "outputs": [],
   "source": [
    "listing=soup.find_all('div', class_='listing_info')[0]"
   ]
  },
  {
   "cell_type": "code",
   "execution_count": 26,
   "metadata": {
    "ExecuteTime": {
     "end_time": "2018-09-24T06:35:39.039844Z",
     "start_time": "2018-09-24T06:35:39.035979Z"
    }
   },
   "outputs": [
    {
     "data": {
      "text/plain": [
       "'/Attraction_Review-g60713-d104943-Reviews-Yerba_Buena_Gardens-San_Francisco_California.html'"
      ]
     },
     "execution_count": 26,
     "metadata": {},
     "output_type": "execute_result"
    }
   ],
   "source": [
    "listing.find_all(class_='listing_title')[0].find('a')['href']"
   ]
  },
  {
   "cell_type": "code",
   "execution_count": 34,
   "metadata": {
    "ExecuteTime": {
     "end_time": "2018-09-24T06:57:35.575790Z",
     "start_time": "2018-09-24T06:57:35.571201Z"
    }
   },
   "outputs": [],
   "source": [
    "sf_attraction_template='https://www.tripadvisor.com/Attractions-g60713-Activities-oa{}-San_Francisco_California.html#FILTERED_LIST'\n",
    "\n",
    "\n",
    "def make_url_list(sf_attraction_template):\n",
    "    \n",
    "    #The inital and other pages are slightly different so we just break these up\n",
    "    \n",
    "    initial_page=sf_attraction_template.format('')\n",
    "    other_pages=[sf_attraction_template.format(30*i) for i in range(1,3)]\n",
    "    all_pages=[initial_page]+other_pages\n",
    "    \n",
    "    urls_final=[]\n",
    "    \n",
    "    for p in all_pages:\n",
    "        \n",
    "        try:\n",
    "            driver.get(p)\n",
    "            soup=BeautifulSoup(driver.page_source,'html.parser')\n",
    "            individual_urls=soup.find_all('div', class_='listing_title')\n",
    "\n",
    "            for iu in individual_urls:\n",
    "                partial_url=iu.find('a')['href']\n",
    "                full_url='https://www.tripadvisor.com'+partial_url\n",
    "                urls_final.append(full_url)\n",
    "        except:\n",
    "            pass\n",
    "        \n",
    "    return urls_final"
   ]
  },
  {
   "cell_type": "code",
   "execution_count": 35,
   "metadata": {
    "ExecuteTime": {
     "end_time": "2018-09-24T06:57:56.919190Z",
     "start_time": "2018-09-24T06:57:53.222662Z"
    }
   },
   "outputs": [],
   "source": [
    "urls_final=make_url_list(sf_attraction_template)"
   ]
  },
  {
   "cell_type": "code",
   "execution_count": 33,
   "metadata": {
    "ExecuteTime": {
     "end_time": "2018-09-24T06:57:16.518185Z",
     "start_time": "2018-09-24T06:57:16.509831Z"
    }
   },
   "outputs": [
    {
     "ename": "FileNotFoundError",
     "evalue": "[Errno 2] No such file or directory: 'urls_final.pkl'",
     "output_type": "error",
     "traceback": [
      "\u001b[0;31m---------------------------------------------------------------------------\u001b[0m",
      "\u001b[0;31mFileNotFoundError\u001b[0m                         Traceback (most recent call last)",
      "\u001b[0;32m<ipython-input-33-0f0352771503>\u001b[0m in \u001b[0;36m<module>\u001b[0;34m()\u001b[0m\n\u001b[1;32m      4\u001b[0m \u001b[0;31m#     pkl.dump(urls_final,f)\u001b[0m\u001b[0;34m\u001b[0m\u001b[0;34m\u001b[0m\u001b[0m\n\u001b[1;32m      5\u001b[0m \u001b[0;34m\u001b[0m\u001b[0m\n\u001b[0;32m----> 6\u001b[0;31m \u001b[0;32mwith\u001b[0m \u001b[0mopen\u001b[0m\u001b[0;34m(\u001b[0m\u001b[0;34m'urls_final.pkl'\u001b[0m\u001b[0;34m,\u001b[0m\u001b[0;34m'rb'\u001b[0m\u001b[0;34m)\u001b[0m \u001b[0;32mas\u001b[0m \u001b[0mf\u001b[0m\u001b[0;34m:\u001b[0m\u001b[0;34m\u001b[0m\u001b[0m\n\u001b[0m\u001b[1;32m      7\u001b[0m     \u001b[0murls_final\u001b[0m\u001b[0;34m=\u001b[0m\u001b[0mpkl\u001b[0m\u001b[0;34m.\u001b[0m\u001b[0mload\u001b[0m\u001b[0;34m(\u001b[0m\u001b[0mf\u001b[0m\u001b[0;34m)\u001b[0m\u001b[0;34m\u001b[0m\u001b[0m\n",
      "\u001b[0;31mFileNotFoundError\u001b[0m: [Errno 2] No such file or directory: 'urls_final.pkl'"
     ]
    }
   ],
   "source": [
    "#urls_final=make_url_list(sf_attraction_template)\n",
    "\n",
    "# with open('urls_final.pkl','wb') as f:\n",
    "#     pkl.dump(urls_final,f)\n",
    "\n",
    "with open('urls_final.pkl','rb') as f:\n",
    "    urls_final=pkl.load(f)"
   ]
  },
  {
   "cell_type": "code",
   "execution_count": 7,
   "metadata": {},
   "outputs": [],
   "source": [
    "driver.get(urls_final[30])"
   ]
  },
  {
   "cell_type": "code",
   "execution_count": 36,
   "metadata": {
    "ExecuteTime": {
     "end_time": "2018-09-24T06:58:07.229186Z",
     "start_time": "2018-09-24T06:58:02.200174Z"
    }
   },
   "outputs": [],
   "source": [
    "location_info2={}\n",
    "for url in urls_final[:4]:\n",
    "    driver.get(url)\n",
    "    soup=BeautifulSoup(driver.page_source,'html.parser')\n",
    "    try:\n",
    "        rating=soup.find('span',class_='ui_bubble_rating bubble_40')['alt'][0]\n",
    "    except:\n",
    "        rating='None'\n",
    "    try:\n",
    "        tags=[x.text for x in soup.find('div',class_='detail').find_all('a',href=True)]\n",
    "    except:\n",
    "        tags=['None']\n",
    "    name=soup.find(id='HEADING').text\n",
    "    location_info2[name]=[rating,tags]\n",
    "\n",
    "    \n"
   ]
  },
  {
   "cell_type": "code",
   "execution_count": 37,
   "metadata": {
    "ExecuteTime": {
     "end_time": "2018-09-24T06:58:18.698592Z",
     "start_time": "2018-09-24T06:58:18.694864Z"
    }
   },
   "outputs": [
    {
     "data": {
      "text/plain": [
       "{'Alcatraz Island': ['None',\n",
       "  ['Nature & Parks',\n",
       "   'Sights & Landmarks',\n",
       "   'Nature & Wildlife Areas',\n",
       "   'National Parks',\n",
       "   'Islands',\n",
       "   'Historic Sites']],\n",
       " 'Golden Gate Bridge': ['None', ['Sights & Landmarks', 'Bridges']],\n",
       " 'Cable Cars': ['None', ['Transportation', 'Tramways']],\n",
       " 'Lombard Street': ['None',\n",
       "  ['Sights & Landmarks', 'Points of Interest & Landmarks']]}"
      ]
     },
     "execution_count": 37,
     "metadata": {},
     "output_type": "execute_result"
    }
   ],
   "source": [
    "location_info2"
   ]
  },
  {
   "cell_type": "code",
   "execution_count": 26,
   "metadata": {},
   "outputs": [],
   "source": [
    "# with open('location_info.pkl','wb') as f:\n",
    "#      pkl.dump(location_info,f)\n",
    "\n",
    "with open('location_info2.pkl','rb') as f:\n",
    "    location_info2 = pkl.load(f)"
   ]
  },
  {
   "cell_type": "code",
   "execution_count": null,
   "metadata": {},
   "outputs": [],
   "source": []
  },
  {
   "cell_type": "code",
   "execution_count": 34,
   "metadata": {},
   "outputs": [],
   "source": [
    "loc_info={x.strip('\\n').strip('\\u200e') : location_info2[x] for x in list(location_info2.keys())}"
   ]
  },
  {
   "cell_type": "code",
   "execution_count": 35,
   "metadata": {},
   "outputs": [],
   "source": [
    "with open('good_data/loc_info.pkl','wb') as f:\n",
    "    pkl.dump(loc_info,f)"
   ]
  },
  {
   "cell_type": "code",
   "execution_count": null,
   "metadata": {},
   "outputs": [],
   "source": [
    "new_keys"
   ]
  },
  {
   "cell_type": "code",
   "execution_count": 19,
   "metadata": {},
   "outputs": [
    {
     "data": {
      "text/plain": [
       "Counter({'Sights & Landmarks': 1, 'Piers & Boardwalks': 1, 'Neighborhoods': 2})"
      ]
     },
     "execution_count": 19,
     "metadata": {},
     "output_type": "execute_result"
    }
   ],
   "source": [
    "Counter(tags+['Neighborhoods'])"
   ]
  },
  {
   "cell_type": "code",
   "execution_count": null,
   "metadata": {},
   "outputs": [],
   "source": [
    "#Need map taking places to counts.\n"
   ]
  }
 ],
 "metadata": {
  "kernelspec": {
   "display_name": "Python 3",
   "language": "python",
   "name": "python3"
  },
  "language_info": {
   "codemirror_mode": {
    "name": "ipython",
    "version": 3
   },
   "file_extension": ".py",
   "mimetype": "text/x-python",
   "name": "python",
   "nbconvert_exporter": "python",
   "pygments_lexer": "ipython3",
   "version": "3.6.6"
  },
  "varInspector": {
   "cols": {
    "lenName": 16,
    "lenType": 16,
    "lenVar": 40
   },
   "kernels_config": {
    "python": {
     "delete_cmd_postfix": "",
     "delete_cmd_prefix": "del ",
     "library": "var_list.py",
     "varRefreshCmd": "print(var_dic_list())"
    },
    "r": {
     "delete_cmd_postfix": ") ",
     "delete_cmd_prefix": "rm(",
     "library": "var_list.r",
     "varRefreshCmd": "cat(var_dic_list()) "
    }
   },
   "types_to_exclude": [
    "module",
    "function",
    "builtin_function_or_method",
    "instance",
    "_Feature"
   ],
   "window_display": false
  }
 },
 "nbformat": 4,
 "nbformat_minor": 2
}
