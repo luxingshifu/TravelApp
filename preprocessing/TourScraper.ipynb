{
 "cells": [
  {
   "cell_type": "code",
   "execution_count": 1,
   "metadata": {
    "ExecuteTime": {
     "end_time": "2018-10-14T20:44:21.525114Z",
     "start_time": "2018-10-14T20:44:18.408492Z"
    }
   },
   "outputs": [],
   "source": [
    "import pickle as pkl\n",
    "import datetime\n",
    "\n",
    "import csv\n",
    "# Scraping items\n",
    "from bs4 import BeautifulSoup\n",
    "import requests\n",
    "\n",
    "from selenium import webdriver\n",
    "from selenium.webdriver.common.keys import Keys\n",
    "import time\n",
    "\n",
    "import os\n",
    "\n",
    "from IPython.core.display import display, HTML\n",
    "import concurrent.futures\n",
    "\n",
    "from collections import Counter\n",
    "import numpy as np\n",
    "from scipy import stats\n",
    "\n",
    "import pandas as pd\n",
    "from subprocess import call\n",
    "import concurrent.futures\n",
    "from fuzzywuzzy import fuzz\n",
    "from fuzzywuzzy import process\n",
    "\n",
    "#Path on Ubuntu\n",
    "# chromedriver = \"/home/williamcottrell72/Downloads/chromedriver_linux64/chromedriver\" # path to the chromedriver executable\n",
    "#Path on Mac\n",
    "chromedriver=\"/Applications/chromedriver\"\n",
    "os.environ[\"webdriver.chrome.driver\"] = chromedriver\n",
    "driver = webdriver.Chrome(chromedriver)"
   ]
  },
  {
   "cell_type": "code",
   "execution_count": 5,
   "metadata": {
    "ExecuteTime": {
     "end_time": "2018-10-14T21:06:39.736638Z",
     "start_time": "2018-10-14T21:06:39.733199Z"
    }
   },
   "outputs": [],
   "source": [
    "cities=['london','vienna','dublin','paris','rome','budapest','istanbul',\\\n",
    "       'new-york','miami','washington-dc','chicago','philadelphia','las-vegas',\\\n",
    "       'san-francisco','abu-dhabi','dubai','muscat','sydney','singapore','hong-kong',\\\n",
    "        'darwin']\n",
    "\n",
    "urls=[]\n",
    "for city in cities:\n",
    "    url='https://www.bigbustours.com/en/'+ city+ '/'+ city +'-routes-and-tour-maps/'\n",
    "    urls.append(url)"
   ]
  },
  {
   "cell_type": "code",
   "execution_count": 8,
   "metadata": {
    "ExecuteTime": {
     "end_time": "2018-10-14T21:07:46.731010Z",
     "start_time": "2018-10-14T21:07:43.023408Z"
    }
   },
   "outputs": [],
   "source": [
    "driver.get(urls[12])"
   ]
  },
  {
   "cell_type": "code",
   "execution_count": 9,
   "metadata": {
    "ExecuteTime": {
     "end_time": "2018-10-14T21:08:00.331066Z",
     "start_time": "2018-10-14T21:08:00.235066Z"
    }
   },
   "outputs": [],
   "source": [
    "soup=BeautifulSoup(driver.page_source,'html.parser')"
   ]
  },
  {
   "cell_type": "code",
   "execution_count": 22,
   "metadata": {
    "ExecuteTime": {
     "end_time": "2018-10-14T21:14:55.344852Z",
     "start_time": "2018-10-14T21:14:55.338186Z"
    }
   },
   "outputs": [],
   "source": [
    "links=soup.find(class_=\"slick-list draggable\")"
   ]
  },
  {
   "cell_type": "code",
   "execution_count": 28,
   "metadata": {
    "ExecuteTime": {
     "end_time": "2018-10-14T21:15:35.224419Z",
     "start_time": "2018-10-14T21:15:35.220619Z"
    }
   },
   "outputs": [
    {
     "data": {
      "text/plain": [
       "'https://www.bigbustours.com/en/las-vegas/green-route-las-vegas/'"
      ]
     },
     "execution_count": 28,
     "metadata": {},
     "output_type": "execute_result"
    }
   ],
   "source": [
    "links.find_all('a')[1]['href']"
   ]
  },
  {
   "cell_type": "code",
   "execution_count": 29,
   "metadata": {
    "ExecuteTime": {
     "end_time": "2018-10-14T21:18:44.355066Z",
     "start_time": "2018-10-14T21:17:36.105470Z"
    }
   },
   "outputs": [],
   "source": [
    "fin_urls=[]\n",
    "for url in urls:\n",
    "    driver.get(url)\n",
    "    soup=BeautifulSoup(driver.page_source,'html.parser')\n",
    "    links=soup.find(class_=\"slick-list draggable\")\n",
    "    linklist=links.find_all('a')\n",
    "    for link in linklist:\n",
    "        fin_urls.append(link['href'])\n",
    "        \n",
    "    "
   ]
  },
  {
   "cell_type": "code",
   "execution_count": 32,
   "metadata": {
    "ExecuteTime": {
     "end_time": "2018-10-14T22:30:56.327336Z",
     "start_time": "2018-10-14T22:30:56.321940Z"
    }
   },
   "outputs": [],
   "source": [
    "pkl.dump(fin_urls,open('hopon_route.pkl','wb'))"
   ]
  },
  {
   "cell_type": "code",
   "execution_count": null,
   "metadata": {},
   "outputs": [],
   "source": []
  }
 ],
 "metadata": {
  "kernelspec": {
   "display_name": "Python 3",
   "language": "python",
   "name": "python3"
  },
  "language_info": {
   "codemirror_mode": {
    "name": "ipython",
    "version": 3
   },
   "file_extension": ".py",
   "mimetype": "text/x-python",
   "name": "python",
   "nbconvert_exporter": "python",
   "pygments_lexer": "ipython3",
   "version": "3.6.6"
  },
  "varInspector": {
   "cols": {
    "lenName": 16,
    "lenType": 16,
    "lenVar": 40
   },
   "kernels_config": {
    "python": {
     "delete_cmd_postfix": "",
     "delete_cmd_prefix": "del ",
     "library": "var_list.py",
     "varRefreshCmd": "print(var_dic_list())"
    },
    "r": {
     "delete_cmd_postfix": ") ",
     "delete_cmd_prefix": "rm(",
     "library": "var_list.r",
     "varRefreshCmd": "cat(var_dic_list()) "
    }
   },
   "types_to_exclude": [
    "module",
    "function",
    "builtin_function_or_method",
    "instance",
    "_Feature"
   ],
   "window_display": false
  }
 },
 "nbformat": 4,
 "nbformat_minor": 2
}
