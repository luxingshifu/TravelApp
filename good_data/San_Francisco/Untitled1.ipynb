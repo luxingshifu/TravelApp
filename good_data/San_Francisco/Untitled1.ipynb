{
 "cells": [
  {
   "cell_type": "code",
   "execution_count": 1,
   "metadata": {
    "ExecuteTime": {
     "end_time": "2018-10-02T21:29:37.115979Z",
     "start_time": "2018-10-02T21:29:37.113788Z"
    }
   },
   "outputs": [],
   "source": [
    "import pickle as pkl"
   ]
  },
  {
   "cell_type": "code",
   "execution_count": 2,
   "metadata": {
    "ExecuteTime": {
     "end_time": "2018-10-02T21:29:50.560319Z",
     "start_time": "2018-10-02T21:29:50.550384Z"
    }
   },
   "outputs": [
    {
     "data": {
      "text/plain": [
       "['The Fairmont San Francisco',\n",
       " 'Hotel Boheme',\n",
       " 'St. Regis',\n",
       " 'Nineteen 06 Mission',\n",
       " 'Oceanview Motel',\n",
       " 'Inn at the Presidio',\n",
       " 'Hotel Vitale',\n",
       " 'The Wharf Inn',\n",
       " 'Hotel Zephyr',\n",
       " 'Seaside Inn',\n",
       " 'Hotel Nikko',\n",
       " 'Hotel Zelos',\n",
       " \"Noe's Nest Bed and Breakfast in San Francisco\"]"
      ]
     },
     "execution_count": 2,
     "metadata": {},
     "output_type": "execute_result"
    }
   ],
   "source": [
    "pkl.load(open('hotel_index.pkl','rb'))"
   ]
  },
  {
   "cell_type": "code",
   "execution_count": 5,
   "metadata": {
    "ExecuteTime": {
     "end_time": "2018-10-02T21:30:31.478538Z",
     "start_time": "2018-10-02T21:30:31.474485Z"
    }
   },
   "outputs": [
    {
     "data": {
      "text/plain": [
       "'/Users/williamcottrell72/MyGit/TravelApp/good_data'"
      ]
     },
     "execution_count": 5,
     "metadata": {},
     "output_type": "execute_result"
    }
   ],
   "source": [
    "import os\n",
    "os.getcwd()"
   ]
  },
  {
   "cell_type": "code",
   "execution_count": 4,
   "metadata": {
    "ExecuteTime": {
     "end_time": "2018-10-02T21:30:27.552878Z",
     "start_time": "2018-10-02T21:30:27.546359Z"
    }
   },
   "outputs": [
    {
     "name": "stdout",
     "output_type": "stream",
     "text": [
      "/Users/williamcottrell72/MyGit/TravelApp/good_data\n"
     ]
    }
   ],
   "source": [
    "cd .."
   ]
  },
  {
   "cell_type": "code",
   "execution_count": null,
   "metadata": {},
   "outputs": [],
   "source": []
  }
 ],
 "metadata": {
  "kernelspec": {
   "display_name": "Python 3",
   "language": "python",
   "name": "python3"
  },
  "language_info": {
   "codemirror_mode": {
    "name": "ipython",
    "version": 3
   },
   "file_extension": ".py",
   "mimetype": "text/x-python",
   "name": "python",
   "nbconvert_exporter": "python",
   "pygments_lexer": "ipython3",
   "version": "3.6.6"
  },
  "varInspector": {
   "cols": {
    "lenName": 16,
    "lenType": 16,
    "lenVar": 40
   },
   "kernels_config": {
    "python": {
     "delete_cmd_postfix": "",
     "delete_cmd_prefix": "del ",
     "library": "var_list.py",
     "varRefreshCmd": "print(var_dic_list())"
    },
    "r": {
     "delete_cmd_postfix": ") ",
     "delete_cmd_prefix": "rm(",
     "library": "var_list.r",
     "varRefreshCmd": "cat(var_dic_list()) "
    }
   },
   "types_to_exclude": [
    "module",
    "function",
    "builtin_function_or_method",
    "instance",
    "_Feature"
   ],
   "window_display": false
  }
 },
 "nbformat": 4,
 "nbformat_minor": 2
}
